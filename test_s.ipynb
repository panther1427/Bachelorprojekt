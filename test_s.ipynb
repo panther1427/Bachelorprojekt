{
 "cells": [
  {
   "cell_type": "code",
   "execution_count": 2,
   "metadata": {},
   "outputs": [],
   "source": [
    "import numpy as np\n",
    "from utils import factor_model_solution"
   ]
  },
  {
   "cell_type": "code",
   "execution_count": 15,
   "metadata": {},
   "outputs": [
    {
     "name": "stdout",
     "output_type": "stream",
     "text": [
      "-5.0\n"
     ]
    }
   ],
   "source": [
    "data = np.array([[2, 2, 2, 4, 5],\n",
    "                [4, 3, 5, 2, 6],\n",
    "                [4, 2, 6, 7,6]])\n",
    "\n",
    "def get_s(data, k):\n",
    "    p = data.shape[1]\n",
    "    return 1/2*(p-k)**2 - 1/2*(p+k)\n",
    "\n",
    "print(get_s(data, 5))"
   ]
  },
  {
   "cell_type": "code",
   "execution_count": 4,
   "metadata": {},
   "outputs": [
    {
     "name": "stderr",
     "output_type": "stream",
     "text": [
      "C:\\Users\\lucas\\AppData\\Local\\Packages\\PythonSoftwareFoundation.Python.3.10_qbz5n2kfra8p0\\LocalCache\\local-packages\\Python310\\site-packages\\scipy\\optimize\\_numdiff.py:598: ComplexWarning: Casting complex values to real discards the imaginary part\n",
      "  J_transposed[i] = df / dx\n",
      "c:\\Users\\lucas\\Desktop\\6 semester\\Bachelor project\\Bachelorprojekt\\Bachelorprojekt\\utils.py:99: RuntimeWarning: divide by zero encountered in log\n",
      "  result = np.trace(internal) - np.log(np.linalg.det(internal))\n",
      "C:\\Users\\lucas\\AppData\\Local\\Packages\\PythonSoftwareFoundation.Python.3.10_qbz5n2kfra8p0\\LocalCache\\local-packages\\Python310\\site-packages\\scipy\\optimize\\_numdiff.py:598: RuntimeWarning: invalid value encountered in divide\n",
      "  J_transposed[i] = df / dx\n",
      "C:\\Users\\lucas\\AppData\\Local\\Packages\\PythonSoftwareFoundation.Python.3.10_qbz5n2kfra8p0\\LocalCache\\local-packages\\Python310\\site-packages\\scipy\\optimize\\_linesearch.py:155: ComplexWarning: Casting complex values to real discards the imaginary part\n",
      "  stp, phi1, derphi1, task = minpack2.dcsrch(alpha1, phi1, derphi1,\n",
      "C:\\Users\\lucas\\AppData\\Local\\Packages\\PythonSoftwareFoundation.Python.3.10_qbz5n2kfra8p0\\LocalCache\\local-packages\\Python310\\site-packages\\scipy\\optimize\\_differentiable_functions.py:243: ComplexWarning: Casting complex values to real discards the imaginary part\n",
      "  self.x = np.atleast_1d(x).astype(float)\n",
      "c:\\Users\\lucas\\Desktop\\6 semester\\Bachelor project\\Bachelorprojekt\\Bachelorprojekt\\utils.py:99: RuntimeWarning: divide by zero encountered in log\n",
      "  result = np.trace(internal) - np.log(np.linalg.det(internal))\n",
      "C:\\Users\\lucas\\AppData\\Local\\Packages\\PythonSoftwareFoundation.Python.3.10_qbz5n2kfra8p0\\LocalCache\\local-packages\\Python310\\site-packages\\scipy\\optimize\\_linesearch.py:480: ComplexWarning: Casting complex values to real discards the imaginary part\n",
      "  d1[0, 1] = -db ** 2\n",
      "C:\\Users\\lucas\\AppData\\Local\\Packages\\PythonSoftwareFoundation.Python.3.10_qbz5n2kfra8p0\\LocalCache\\local-packages\\Python310\\site-packages\\scipy\\optimize\\_linesearch.py:482: ComplexWarning: Casting complex values to real discards the imaginary part\n",
      "  d1[1, 1] = db ** 3\n",
      "C:\\Users\\lucas\\AppData\\Local\\Packages\\PythonSoftwareFoundation.Python.3.10_qbz5n2kfra8p0\\LocalCache\\local-packages\\Python310\\site-packages\\scipy\\optimize\\_linesearch.py:479: ComplexWarning: Casting complex values to real discards the imaginary part\n",
      "  d1[0, 0] = dc ** 2\n",
      "C:\\Users\\lucas\\AppData\\Local\\Packages\\PythonSoftwareFoundation.Python.3.10_qbz5n2kfra8p0\\LocalCache\\local-packages\\Python310\\site-packages\\scipy\\optimize\\_linesearch.py:481: ComplexWarning: Casting complex values to real discards the imaginary part\n",
      "  d1[1, 0] = -dc ** 3\n",
      "c:\\Users\\lucas\\Desktop\\6 semester\\Bachelor project\\Bachelorprojekt\\Bachelorprojekt\\utils.py:99: RuntimeWarning: invalid value encountered in log\n",
      "  result = np.trace(internal) - np.log(np.linalg.det(internal))\n",
      "C:\\Users\\lucas\\AppData\\Local\\Packages\\PythonSoftwareFoundation.Python.3.10_qbz5n2kfra8p0\\LocalCache\\local-packages\\Python310\\site-packages\\scipy\\optimize\\_numdiff.py:598: ComplexWarning: Casting complex values to real discards the imaginary part\n",
      "  J_transposed[i] = df / dx\n"
     ]
    },
    {
     "data": {
      "text/plain": [
       "(array([[2.71828183, 0.        , 0.        , 0.        ],\n",
       "        [0.        , 2.71828183, 0.        , 0.        ],\n",
       "        [0.        , 0.        , 2.71828183, 0.        ],\n",
       "        [0.        , 0.        , 0.        , 2.71828183]]),\n",
       " array([[-0.53448498, -0.59328334],\n",
       "        [ 0.19797546, -0.32762432],\n",
       "        [-1.26694541, -0.85894236],\n",
       "        [-1.79160476,  0.74819657]]))"
      ]
     },
     "execution_count": 4,
     "metadata": {},
     "output_type": "execute_result"
    }
   ],
   "source": [
    "factor_model_solution(data, 2)"
   ]
  },
  {
   "cell_type": "code",
   "execution_count": null,
   "metadata": {},
   "outputs": [],
   "source": []
  }
 ],
 "metadata": {
  "kernelspec": {
   "display_name": "Python 3",
   "language": "python",
   "name": "python3"
  },
  "language_info": {
   "codemirror_mode": {
    "name": "ipython",
    "version": 3
   },
   "file_extension": ".py",
   "mimetype": "text/x-python",
   "name": "python",
   "nbconvert_exporter": "python",
   "pygments_lexer": "ipython3",
   "version": "3.10.11"
  }
 },
 "nbformat": 4,
 "nbformat_minor": 2
}
