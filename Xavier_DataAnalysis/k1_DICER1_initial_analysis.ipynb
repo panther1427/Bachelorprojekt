{
 "cells": [
  {
   "cell_type": "code",
   "execution_count": null,
   "metadata": {},
   "outputs": [],
   "source": [
    "import pandas as pd\n",
    "import numpy as np"
   ]
  },
  {
   "cell_type": "markdown",
   "metadata": {},
   "source": [
    "This notebook roughly investigates if Factor Analysis can correctly find genes in the k = 1 pathway that **DICER1** participates in."
   ]
  },
  {
   "cell_type": "markdown",
   "metadata": {},
   "source": [
    "# Preparing the data for analysis"
   ]
  },
  {
   "cell_type": "markdown",
   "metadata": {},
   "source": [
    "Loading main gene dependency data:"
   ]
  },
  {
   "cell_type": "code",
   "execution_count": 2,
   "metadata": {},
   "outputs": [
    {
     "data": {
      "text/html": [
       "<div>\n",
       "<style scoped>\n",
       "    .dataframe tbody tr th:only-of-type {\n",
       "        vertical-align: middle;\n",
       "    }\n",
       "\n",
       "    .dataframe tbody tr th {\n",
       "        vertical-align: top;\n",
       "    }\n",
       "\n",
       "    .dataframe thead th {\n",
       "        text-align: right;\n",
       "    }\n",
       "</style>\n",
       "<table border=\"1\" class=\"dataframe\">\n",
       "  <thead>\n",
       "    <tr style=\"text-align: right;\">\n",
       "      <th></th>\n",
       "      <th>DepMap_ID</th>\n",
       "      <th>A1BG (1)</th>\n",
       "      <th>A1CF (29974)</th>\n",
       "      <th>A2M (2)</th>\n",
       "      <th>A2ML1 (144568)</th>\n",
       "      <th>A3GALT2 (127550)</th>\n",
       "      <th>A4GALT (53947)</th>\n",
       "      <th>A4GNT (51146)</th>\n",
       "      <th>AAAS (8086)</th>\n",
       "      <th>AACS (65985)</th>\n",
       "      <th>...</th>\n",
       "      <th>ZWILCH (55055)</th>\n",
       "      <th>ZWINT (11130)</th>\n",
       "      <th>ZXDA (7789)</th>\n",
       "      <th>ZXDB (158586)</th>\n",
       "      <th>ZXDC (79364)</th>\n",
       "      <th>ZYG11A (440590)</th>\n",
       "      <th>ZYG11B (79699)</th>\n",
       "      <th>ZYX (7791)</th>\n",
       "      <th>ZZEF1 (23140)</th>\n",
       "      <th>ZZZ3 (26009)</th>\n",
       "    </tr>\n",
       "  </thead>\n",
       "  <tbody>\n",
       "    <tr>\n",
       "      <th>0</th>\n",
       "      <td>ACH-000004</td>\n",
       "      <td>0.181332</td>\n",
       "      <td>0.089101</td>\n",
       "      <td>-0.193867</td>\n",
       "      <td>-0.024587</td>\n",
       "      <td>0.038458</td>\n",
       "      <td>-0.181824</td>\n",
       "      <td>0.351672</td>\n",
       "      <td>-0.440073</td>\n",
       "      <td>0.292582</td>\n",
       "      <td>...</td>\n",
       "      <td>-0.124218</td>\n",
       "      <td>-0.469306</td>\n",
       "      <td>NaN</td>\n",
       "      <td>NaN</td>\n",
       "      <td>0.257361</td>\n",
       "      <td>0.244834</td>\n",
       "      <td>-0.408512</td>\n",
       "      <td>0.284734</td>\n",
       "      <td>0.226412</td>\n",
       "      <td>-0.149566</td>\n",
       "    </tr>\n",
       "    <tr>\n",
       "      <th>1</th>\n",
       "      <td>ACH-000005</td>\n",
       "      <td>-0.076383</td>\n",
       "      <td>0.245190</td>\n",
       "      <td>0.191238</td>\n",
       "      <td>0.153008</td>\n",
       "      <td>-0.197035</td>\n",
       "      <td>-0.323295</td>\n",
       "      <td>0.252522</td>\n",
       "      <td>-0.571498</td>\n",
       "      <td>-0.068945</td>\n",
       "      <td>...</td>\n",
       "      <td>-0.212442</td>\n",
       "      <td>-0.426151</td>\n",
       "      <td>-0.068295</td>\n",
       "      <td>0.031635</td>\n",
       "      <td>0.205469</td>\n",
       "      <td>-0.068536</td>\n",
       "      <td>-0.092858</td>\n",
       "      <td>0.074640</td>\n",
       "      <td>0.028779</td>\n",
       "      <td>-0.264840</td>\n",
       "    </tr>\n",
       "    <tr>\n",
       "      <th>2</th>\n",
       "      <td>ACH-000007</td>\n",
       "      <td>0.102195</td>\n",
       "      <td>0.092449</td>\n",
       "      <td>-0.045926</td>\n",
       "      <td>0.171892</td>\n",
       "      <td>0.140561</td>\n",
       "      <td>0.170971</td>\n",
       "      <td>0.086060</td>\n",
       "      <td>-0.432320</td>\n",
       "      <td>0.010664</td>\n",
       "      <td>...</td>\n",
       "      <td>-0.083183</td>\n",
       "      <td>-0.269196</td>\n",
       "      <td>0.101146</td>\n",
       "      <td>0.277820</td>\n",
       "      <td>0.208814</td>\n",
       "      <td>0.001393</td>\n",
       "      <td>-0.327514</td>\n",
       "      <td>0.048714</td>\n",
       "      <td>-0.372854</td>\n",
       "      <td>-0.433157</td>\n",
       "    </tr>\n",
       "    <tr>\n",
       "      <th>3</th>\n",
       "      <td>ACH-000009</td>\n",
       "      <td>0.142342</td>\n",
       "      <td>-0.033126</td>\n",
       "      <td>-0.051224</td>\n",
       "      <td>0.060560</td>\n",
       "      <td>0.116002</td>\n",
       "      <td>-0.010044</td>\n",
       "      <td>0.104725</td>\n",
       "      <td>-0.610481</td>\n",
       "      <td>0.181508</td>\n",
       "      <td>...</td>\n",
       "      <td>-0.277264</td>\n",
       "      <td>-0.307018</td>\n",
       "      <td>0.044741</td>\n",
       "      <td>0.201551</td>\n",
       "      <td>0.083866</td>\n",
       "      <td>0.052208</td>\n",
       "      <td>-0.574719</td>\n",
       "      <td>0.218682</td>\n",
       "      <td>-0.074750</td>\n",
       "      <td>-0.551760</td>\n",
       "    </tr>\n",
       "    <tr>\n",
       "      <th>4</th>\n",
       "      <td>ACH-000011</td>\n",
       "      <td>0.280082</td>\n",
       "      <td>0.088898</td>\n",
       "      <td>0.032321</td>\n",
       "      <td>0.446598</td>\n",
       "      <td>-0.037188</td>\n",
       "      <td>-0.228207</td>\n",
       "      <td>0.110942</td>\n",
       "      <td>-0.406541</td>\n",
       "      <td>0.153979</td>\n",
       "      <td>...</td>\n",
       "      <td>-0.385241</td>\n",
       "      <td>-0.476314</td>\n",
       "      <td>-0.000984</td>\n",
       "      <td>0.013225</td>\n",
       "      <td>0.294002</td>\n",
       "      <td>0.137939</td>\n",
       "      <td>-0.245951</td>\n",
       "      <td>0.111173</td>\n",
       "      <td>-0.227417</td>\n",
       "      <td>-0.349564</td>\n",
       "    </tr>\n",
       "  </tbody>\n",
       "</table>\n",
       "<p>5 rows × 18120 columns</p>\n",
       "</div>"
      ],
      "text/plain": [
       "    DepMap_ID  A1BG (1)  A1CF (29974)   A2M (2)  A2ML1 (144568)  \\\n",
       "0  ACH-000004  0.181332      0.089101 -0.193867       -0.024587   \n",
       "1  ACH-000005 -0.076383      0.245190  0.191238        0.153008   \n",
       "2  ACH-000007  0.102195      0.092449 -0.045926        0.171892   \n",
       "3  ACH-000009  0.142342     -0.033126 -0.051224        0.060560   \n",
       "4  ACH-000011  0.280082      0.088898  0.032321        0.446598   \n",
       "\n",
       "   A3GALT2 (127550)  A4GALT (53947)  A4GNT (51146)  AAAS (8086)  AACS (65985)  \\\n",
       "0          0.038458       -0.181824       0.351672    -0.440073      0.292582   \n",
       "1         -0.197035       -0.323295       0.252522    -0.571498     -0.068945   \n",
       "2          0.140561        0.170971       0.086060    -0.432320      0.010664   \n",
       "3          0.116002       -0.010044       0.104725    -0.610481      0.181508   \n",
       "4         -0.037188       -0.228207       0.110942    -0.406541      0.153979   \n",
       "\n",
       "   ...  ZWILCH (55055)  ZWINT (11130)  ZXDA (7789)  ZXDB (158586)  \\\n",
       "0  ...       -0.124218      -0.469306          NaN            NaN   \n",
       "1  ...       -0.212442      -0.426151    -0.068295       0.031635   \n",
       "2  ...       -0.083183      -0.269196     0.101146       0.277820   \n",
       "3  ...       -0.277264      -0.307018     0.044741       0.201551   \n",
       "4  ...       -0.385241      -0.476314    -0.000984       0.013225   \n",
       "\n",
       "   ZXDC (79364)  ZYG11A (440590)  ZYG11B (79699)  ZYX (7791)  ZZEF1 (23140)  \\\n",
       "0      0.257361         0.244834       -0.408512    0.284734       0.226412   \n",
       "1      0.205469        -0.068536       -0.092858    0.074640       0.028779   \n",
       "2      0.208814         0.001393       -0.327514    0.048714      -0.372854   \n",
       "3      0.083866         0.052208       -0.574719    0.218682      -0.074750   \n",
       "4      0.294002         0.137939       -0.245951    0.111173      -0.227417   \n",
       "\n",
       "   ZZZ3 (26009)  \n",
       "0     -0.149566  \n",
       "1     -0.264840  \n",
       "2     -0.433157  \n",
       "3     -0.551760  \n",
       "4     -0.349564  \n",
       "\n",
       "[5 rows x 18120 columns]"
      ]
     },
     "execution_count": 2,
     "metadata": {},
     "output_type": "execute_result"
    }
   ],
   "source": [
    "df_gene_effect = pd.read_csv(\"preprocessed_data/20Q4v2_Achilles_gene_effect.csv\")\n",
    "\n",
    "df_gene_effect.head()"
   ]
  },
  {
   "cell_type": "markdown",
   "metadata": {},
   "source": [
    "DICER1 correlation data:"
   ]
  },
  {
   "cell_type": "code",
   "execution_count": 3,
   "metadata": {},
   "outputs": [
    {
     "data": {
      "text/html": [
       "<div>\n",
       "<style scoped>\n",
       "    .dataframe tbody tr th:only-of-type {\n",
       "        vertical-align: middle;\n",
       "    }\n",
       "\n",
       "    .dataframe tbody tr th {\n",
       "        vertical-align: top;\n",
       "    }\n",
       "\n",
       "    .dataframe thead th {\n",
       "        text-align: right;\n",
       "    }\n",
       "</style>\n",
       "<table border=\"1\" class=\"dataframe\">\n",
       "  <thead>\n",
       "    <tr style=\"text-align: right;\">\n",
       "      <th></th>\n",
       "      <th>gene_selected</th>\n",
       "      <th>gene_evaluated</th>\n",
       "      <th>corr</th>\n",
       "      <th>pvalue</th>\n",
       "      <th>rank</th>\n",
       "      <th>is_on_pathway</th>\n",
       "    </tr>\n",
       "  </thead>\n",
       "  <tbody>\n",
       "    <tr>\n",
       "      <th>0</th>\n",
       "      <td>DICER1</td>\n",
       "      <td>DICER1</td>\n",
       "      <td>1</td>\n",
       "      <td>Inf</td>\n",
       "      <td>1</td>\n",
       "      <td>1</td>\n",
       "    </tr>\n",
       "    <tr>\n",
       "      <th>1</th>\n",
       "      <td>DICER1</td>\n",
       "      <td>XPO5</td>\n",
       "      <td>0,503616844</td>\n",
       "      <td>52,45448018</td>\n",
       "      <td>2</td>\n",
       "      <td>1</td>\n",
       "    </tr>\n",
       "    <tr>\n",
       "      <th>2</th>\n",
       "      <td>DICER1</td>\n",
       "      <td>DROSHA</td>\n",
       "      <td>0,33792351</td>\n",
       "      <td>22,30645548</td>\n",
       "      <td>3</td>\n",
       "      <td>1</td>\n",
       "    </tr>\n",
       "    <tr>\n",
       "      <th>3</th>\n",
       "      <td>DICER1</td>\n",
       "      <td>AGO2</td>\n",
       "      <td>0,329596473</td>\n",
       "      <td>21,20102211</td>\n",
       "      <td>4</td>\n",
       "      <td>1</td>\n",
       "    </tr>\n",
       "    <tr>\n",
       "      <th>4</th>\n",
       "      <td>DICER1</td>\n",
       "      <td>ANKRD52</td>\n",
       "      <td>0,298301131</td>\n",
       "      <td>17,34229262</td>\n",
       "      <td>5</td>\n",
       "      <td>1</td>\n",
       "    </tr>\n",
       "    <tr>\n",
       "      <th>5</th>\n",
       "      <td>DICER1</td>\n",
       "      <td>DGCR8</td>\n",
       "      <td>0,281137304</td>\n",
       "      <td>15,41695831</td>\n",
       "      <td>6</td>\n",
       "      <td>1</td>\n",
       "    </tr>\n",
       "    <tr>\n",
       "      <th>6</th>\n",
       "      <td>DICER1</td>\n",
       "      <td>DOLK</td>\n",
       "      <td>0,243667755</td>\n",
       "      <td>11,65924734</td>\n",
       "      <td>7</td>\n",
       "      <td>0</td>\n",
       "    </tr>\n",
       "    <tr>\n",
       "      <th>7</th>\n",
       "      <td>DICER1</td>\n",
       "      <td>MNAT1</td>\n",
       "      <td>0,210099516</td>\n",
       "      <td>8,665429172</td>\n",
       "      <td>8</td>\n",
       "      <td>0</td>\n",
       "    </tr>\n",
       "    <tr>\n",
       "      <th>8</th>\n",
       "      <td>DICER1</td>\n",
       "      <td>MAP4K4</td>\n",
       "      <td>-0,208073683</td>\n",
       "      <td>8,627124342</td>\n",
       "      <td>9</td>\n",
       "      <td>0</td>\n",
       "    </tr>\n",
       "    <tr>\n",
       "      <th>9</th>\n",
       "      <td>DICER1</td>\n",
       "      <td>RBSN</td>\n",
       "      <td>0,207383078</td>\n",
       "      <td>8,573272881</td>\n",
       "      <td>10</td>\n",
       "      <td>0</td>\n",
       "    </tr>\n",
       "  </tbody>\n",
       "</table>\n",
       "</div>"
      ],
      "text/plain": [
       "  gene_selected gene_evaluated          corr       pvalue  rank  is_on_pathway\n",
       "0        DICER1         DICER1             1          Inf     1              1\n",
       "1        DICER1           XPO5   0,503616844  52,45448018     2              1\n",
       "2        DICER1         DROSHA    0,33792351  22,30645548     3              1\n",
       "3        DICER1           AGO2   0,329596473  21,20102211     4              1\n",
       "4        DICER1        ANKRD52   0,298301131  17,34229262     5              1\n",
       "5        DICER1          DGCR8   0,281137304  15,41695831     6              1\n",
       "6        DICER1           DOLK   0,243667755  11,65924734     7              0\n",
       "7        DICER1          MNAT1   0,210099516  8,665429172     8              0\n",
       "8        DICER1         MAP4K4  -0,208073683  8,627124342     9              0\n",
       "9        DICER1           RBSN   0,207383078  8,573272881    10              0"
      ]
     },
     "execution_count": 3,
     "metadata": {},
     "output_type": "execute_result"
    }
   ],
   "source": [
    "df_correlations = pd.read_csv(\"preprocessed_data/corr_DICER1_preprocessed.csv\", delimiter=\";\")\n",
    "\n",
    "df_correlations[:10]"
   ]
  },
  {
   "cell_type": "code",
   "execution_count": 4,
   "metadata": {},
   "outputs": [
    {
     "data": {
      "text/plain": [
       "(('DICER1',\n",
       "  'XPO5',\n",
       "  'DROSHA',\n",
       "  'AGO2',\n",
       "  'ANKRD52',\n",
       "  'DGCR8',\n",
       "  'DOLK',\n",
       "  'MNAT1',\n",
       "  'MAP4K4',\n",
       "  'RBSN',\n",
       "  'RHAG',\n",
       "  'STAT6',\n",
       "  'JAG1',\n",
       "  'HIRIP3',\n",
       "  'NAT1',\n",
       "  'ZSCAN22',\n",
       "  'PCDHB16',\n",
       "  'ORMDL2',\n",
       "  'HYOU1',\n",
       "  'BTG1'),\n",
       " 20)"
      ]
     },
     "execution_count": 4,
     "metadata": {},
     "output_type": "execute_result"
    }
   ],
   "source": [
    "# TODO: Consider making gene selection even easier?\n",
    "\n",
    "number_of_genes = 20 # Should be an even number\n",
    "assert(number_of_genes % 2 == 0)\n",
    "selected_columns = pd.concat([df_correlations[\"gene_evaluated\"][:number_of_genes // 2], df_correlations[\"gene_evaluated\"][-number_of_genes // 2:]]).to_list()\n",
    "selected_columns = tuple(selected_columns)\n",
    "selected_columns, len(selected_columns)"
   ]
  },
  {
   "cell_type": "code",
   "execution_count": 5,
   "metadata": {},
   "outputs": [
    {
     "data": {
      "text/plain": [
       "(['AGO2 (27161)',\n",
       "  'ANKRD52 (283373)',\n",
       "  'BTG1 (694)',\n",
       "  'DGCR8 (54487)',\n",
       "  'DICER1 (23405)',\n",
       "  'DOLK (22845)',\n",
       "  'DROSHA (29102)',\n",
       "  'HIRIP3 (8479)',\n",
       "  'HYOU1 (10525)',\n",
       "  'JAG1 (182)',\n",
       "  'MAP4K4 (9448)',\n",
       "  'MNAT1 (4331)',\n",
       "  'NAT1 (9)',\n",
       "  'ORMDL2 (29095)',\n",
       "  'PCDHB16 (57717)',\n",
       "  'RBSN (64145)',\n",
       "  'RHAG (6005)',\n",
       "  'STAT6 (6778)',\n",
       "  'XPO5 (57510)',\n",
       "  'ZSCAN22 (342945)'],\n",
       " 20)"
      ]
     },
     "execution_count": 5,
     "metadata": {},
     "output_type": "execute_result"
    }
   ],
   "source": [
    "columns_of_interest = [column for column in df_gene_effect.columns if column.split(\" \")[0] in selected_columns]\n",
    "assert(len(selected_columns) == len(columns_of_interest)) # Rough automatic check for whether we found all corresponding columns in gene_effect dataset that we've selected.\n",
    "columns_of_interest, len(columns_of_interest)"
   ]
  },
  {
   "cell_type": "code",
   "execution_count": 6,
   "metadata": {},
   "outputs": [
    {
     "name": "stdout",
     "output_type": "stream",
     "text": [
      "Warning: 12 rows contained at least 1 NA and was dropped.\n"
     ]
    },
    {
     "data": {
      "text/plain": [
       "(796, 20)"
      ]
     },
     "execution_count": 6,
     "metadata": {},
     "output_type": "execute_result"
    }
   ],
   "source": [
    "X = df_gene_effect[columns_of_interest].dropna() # Is dropping rows with na a good idea? Maybe use mean value instead?\n",
    "X = X.to_numpy()\n",
    "if 808 - X.shape[0] > 0:\n",
    "    print(f\"Warning: {808 - X.shape[0]} rows contained at least 1 NA and was dropped.\")\n",
    "X.shape"
   ]
  },
  {
   "cell_type": "markdown",
   "metadata": {},
   "source": [
    "# Analysis"
   ]
  },
  {
   "cell_type": "code",
   "execution_count": 7,
   "metadata": {},
   "outputs": [],
   "source": [
    "import sys\n",
    "import os\n",
    "\n",
    "# Get the current working directory (where the notebook is running)\n",
    "notebook_dir = os.getcwd()\n",
    "\n",
    "# Go up one level to the parent directory\n",
    "parent_dir = os.path.abspath(os.path.join(notebook_dir, '..'))\n",
    "\n",
    "# Add parent directory to sys.path\n",
    "if parent_dir not in sys.path:\n",
    "    sys.path.insert(0, parent_dir)\n",
    "\n",
    "# Now you can import your module\n",
    "from utils import factor_model_solution, factor_goodness_of_fit_test"
   ]
  },
  {
   "cell_type": "code",
   "execution_count": 8,
   "metadata": {},
   "outputs": [
    {
     "data": {
      "text/plain": [
       "array([[-0.46006248],\n",
       "       [-0.43950578],\n",
       "       [ 0.0853125 ],\n",
       "       [-0.32229552],\n",
       "       [-0.78339134],\n",
       "       [-0.28554635],\n",
       "       [-0.4212857 ],\n",
       "       [ 0.13032313],\n",
       "       [-0.14649522],\n",
       "       [-0.1262754 ],\n",
       "       [ 0.19442815],\n",
       "       [-0.23221741],\n",
       "       [ 0.12352559],\n",
       "       [ 0.13787435],\n",
       "       [-0.08899356],\n",
       "       [-0.29076869],\n",
       "       [-0.14821865],\n",
       "       [ 0.10028168],\n",
       "       [-0.64101898],\n",
       "       [-0.09776291]])"
      ]
     },
     "execution_count": 8,
     "metadata": {},
     "output_type": "execute_result"
    }
   ],
   "source": [
    "_, lambda_hat = factor_model_solution(X, k = 1)\n",
    "lambda_hat"
   ]
  },
  {
   "cell_type": "code",
   "execution_count": 11,
   "metadata": {},
   "outputs": [
    {
     "name": "stdout",
     "output_type": "stream",
     "text": [
      "   gene_evaluated  loadings  is_on_pathway\n",
      "4          DICER1 -0.783391              1\n",
      "18           XPO5 -0.641019              1\n",
      "0            AGO2 -0.460062              1\n",
      "1         ANKRD52 -0.439506              1\n",
      "6          DROSHA -0.421286              1\n",
      "3           DGCR8 -0.322296              1\n",
      "15           RBSN -0.290769              0\n",
      "5            DOLK -0.285546              0\n",
      "11          MNAT1 -0.232217              0\n",
      "16           RHAG -0.148219              0\n",
      "8           HYOU1 -0.146495              0\n",
      "9            JAG1 -0.126275              0\n",
      "19        ZSCAN22 -0.097763              0\n",
      "14        PCDHB16 -0.088994              0\n",
      "2            BTG1  0.085313              0\n",
      "17          STAT6  0.100282              0\n",
      "12           NAT1  0.123526              0\n",
      "7          HIRIP3  0.130323              0\n",
      "13         ORMDL2  0.137874              0\n",
      "10         MAP4K4  0.194428              0\n"
     ]
    }
   ],
   "source": [
    "loadings = lambda_hat.T[0] # Extract loadings as a list\n",
    "\n",
    "# Extract gene names (everything before the space)\n",
    "genes = [column.split(\" \")[0] for column in columns_of_interest]\n",
    "\n",
    "# Create a DataFrame from genes and values\n",
    "df_values = pd.DataFrame({\n",
    "    'gene_evaluated': genes,\n",
    "    'loadings': loadings\n",
    "})\n",
    "\n",
    "# Merge with df_correlations on 'gene'\n",
    "merged_df = df_values.merge(df_correlations[['gene_evaluated', 'is_on_pathway']], on='gene_evaluated', how='left')\n",
    "\n",
    "print(merged_df.sort_values(\"loadings\", ascending=True))\n"
   ]
  },
  {
   "cell_type": "markdown",
   "metadata": {},
   "source": [
    "We get heavier loadings on genes that actually lie on the pathway!!"
   ]
  },
  {
   "cell_type": "code",
   "execution_count": 10,
   "metadata": {},
   "outputs": [
    {
     "data": {
      "text/plain": [
       "4.191027767126529e-31"
      ]
     },
     "execution_count": 10,
     "metadata": {},
     "output_type": "execute_result"
    }
   ],
   "source": [
    "factor_goodness_of_fit_test(X, k = 1)"
   ]
  },
  {
   "cell_type": "markdown",
   "metadata": {},
   "source": [
    "Test shows that k = 1 **is not** sufficient to describe (**all**) the data. But sufficient to **only** capture the (single) pathway perhaps?"
   ]
  },
  {
   "cell_type": "code",
   "execution_count": 43,
   "metadata": {},
   "outputs": [
    {
     "data": {
      "text/plain": [
       "20"
      ]
     },
     "execution_count": 43,
     "metadata": {},
     "output_type": "execute_result"
    }
   ],
   "source": [
    "len(merged_df)"
   ]
  },
  {
   "cell_type": "code",
   "execution_count": 69,
   "metadata": {},
   "outputs": [
    {
     "data": {
      "text/plain": [
       "([], [])"
      ]
     },
     "execution_count": 69,
     "metadata": {},
     "output_type": "execute_result"
    },
    {
     "data": {
      "image/png": "[encoded data removed]",
      "text/plain": [
       "<Figure size 640x480 with 1 Axes>"
      ]
     },
     "metadata": {},
     "output_type": "display_data"
    }
   ],
   "source": [
    "import matplotlib.pyplot as plt\n",
    "\n",
    "for category_num, label in [(1, \"DICER1 pathway\"), (0, \"Not on pathway\")]:\n",
    "    subset = merged_df[merged_df['is_on_pathway'] == category_num]\n",
    "    plt.scatter(subset['loadings'], np.zeros(len(subset)), label=label, alpha=0.8)\n",
    "\n",
    "    if category_num == 0:\n",
    "        continue\n",
    "    for _, row in subset.iterrows():\n",
    "        plt.text(row['loadings'], 0.005, row['gene_evaluated'], \n",
    "                 fontsize=8, alpha=1, rotation=45)\n",
    "\n",
    "plt.title(\"Factor Analysis on DICER1 pathway\")\n",
    "plt.legend()\n",
    "plt.xlabel(\"1st Factor\")\n",
    "plt.yticks([])"
   ]
  }
 ],
 "metadata": {
  "kernelspec": {
   "display_name": "Python 3",
   "language": "python",
   "name": "python3"
  },
  "language_info": {
   "codemirror_mode": {
    "name": "ipython",
    "version": 3
   },
   "file_extension": ".py",
   "mimetype": "text/x-python",
   "name": "python",
   "nbconvert_exporter": "python",
   "pygments_lexer": "ipython3",
   "version": "3.11.1"
  }
 },
 "nbformat": 4,
 "nbformat_minor": 2
}
