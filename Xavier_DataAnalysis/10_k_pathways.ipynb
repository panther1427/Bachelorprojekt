{
 "cells": [
  {
   "cell_type": "code",
   "execution_count": 126,
   "id": "27d111fe",
   "metadata": {},
   "outputs": [],
   "source": [
    "import pandas as pd\n",
    "import numpy as np\n",
    "\n",
    "import sys\n",
    "import os\n",
    "\n",
    "# Get the current working directory (where the notebook is running)\n",
    "notebook_dir = os.getcwd()\n",
    "\n",
    "# Go up one level to the parent directory\n",
    "parent_dir = os.path.abspath(os.path.join(notebook_dir, '..'))\n",
    "\n",
    "# Add parent directory to sys.path\n",
    "if parent_dir not in sys.path:\n",
    "    sys.path.insert(0, parent_dir)\n",
    "\n",
    "# Now you can import your module\n",
    "from utils import factor_model_solution, factor_goodness_of_fit_test"
   ]
  },
  {
   "cell_type": "code",
   "execution_count": 127,
   "id": "8956f316",
   "metadata": {},
   "outputs": [],
   "source": [
    "df_gene_effect = pd.read_csv(\"preprocessed_data/20Q4v2_Achilles_gene_effect.csv\")\n",
    "df_correlations = {\n",
    "    \"DICER1\": pd.read_csv(\"preprocessed_data/corr_DICER1_preprocessed.csv\", delimiter=\";\"),\n",
    "    \"GART\": pd.read_csv(\"preprocessed_data/corr_GART_preprocessed.csv\", delimiter=\";\")\n",
    "}"
   ]
  },
  {
   "cell_type": "code",
   "execution_count": 128,
   "id": "0551dfa9",
   "metadata": {},
   "outputs": [
    {
     "name": "stdout",
     "output_type": "stream",
     "text": [
      "Warning: 10 duplicates were removed.\n"
     ]
    },
    {
     "data": {
      "text/plain": [
       "(808, 10)"
      ]
     },
     "execution_count": 128,
     "metadata": {},
     "output_type": "execute_result"
    }
   ],
   "source": [
    "\n",
    "# Number of genes to include from each corr file taking top X // 2 and bottom X // 2.\n",
    "# Note that the same gene may be selected in both corr files. (But will only appear once in the final selected_genes list.)\n",
    "number_of_genes = 10\n",
    "assert number_of_genes % 2 == 0, \"number_of_genes should be an even number.\"\n",
    "\n",
    "selected_columns = pd.concat(\n",
    "    [df_correlations[\"DICER1\"][\"gene_evaluated\"][:number_of_genes // 2], \n",
    "     df_correlations[\"DICER1\"][\"gene_evaluated\"][-number_of_genes // 2:]]\n",
    "    ).to_list()\n",
    "selected_columns = set(selected_columns)\n",
    "\n",
    "# number_of_genes multiplied by how many corr files we have.\n",
    "number_of_duplicates = (number_of_genes * len(df_correlations)) - len(selected_columns) \n",
    "if number_of_duplicates > 0:\n",
    "    print(f\"Warning: {number_of_duplicates} duplicates were removed.\")\n",
    "\n",
    "# Extract gene names according to the format of gene_effect dataset.\n",
    "selected_columns_gene_effect_format = [column for column in df_gene_effect.columns if column.split(\" \")[0] in selected_columns]\n",
    "\n",
    "# Rough automatic check for whether we found all corresponding columns in gene_effect dataset that we've selected.\n",
    "assert len(selected_columns) == len(selected_columns_gene_effect_format)\n",
    "\n",
    "# Extract columns from gene_effect dataset.\n",
    "X = df_gene_effect[selected_columns_gene_effect_format].dropna() # Is dropping rows with na a good idea? Maybe use mean value instead?\n",
    "X = X.to_numpy()\n",
    "num_dropped_rows = df_gene_effect.shape[0] - X.shape[0]\n",
    "if num_dropped_rows > 0:\n",
    "    print(f\"Warning: {num_dropped_rows} rows contained at least 1 NA and was dropped.\")\n",
    "X.shape"
   ]
  },
  {
   "cell_type": "code",
   "execution_count": 129,
   "id": "807e7ed2",
   "metadata": {},
   "outputs": [
    {
     "data": {
      "text/plain": [
       "(808, 18120)"
      ]
     },
     "execution_count": 129,
     "metadata": {},
     "output_type": "execute_result"
    }
   ],
   "source": [
    "df_gene_effect.shape"
   ]
  },
  {
   "cell_type": "code",
   "execution_count": 130,
   "id": "3e977873",
   "metadata": {},
   "outputs": [],
   "source": [
    "import random\n",
    "from random import randrange\n",
    "\n",
    "random.seed(1)\n",
    "\n",
    "amount_of_columns = df_gene_effect.shape[1]\n",
    "\n",
    "total_genes = 200\n",
    "\n",
    "column_integers = [randrange(0, amount_of_columns-1) for _ in range(total_genes)]"
   ]
  },
  {
   "cell_type": "code",
   "execution_count": 131,
   "id": "6414379f",
   "metadata": {},
   "outputs": [
    {
     "name": "stdout",
     "output_type": "stream",
     "text": [
      "Warning: 30 rows contained at least 1 NA and was dropped.\n"
     ]
    },
    {
     "data": {
      "text/plain": [
       "(778, 200)"
      ]
     },
     "execution_count": 131,
     "metadata": {},
     "output_type": "execute_result"
    }
   ],
   "source": [
    "\n",
    "X = df_gene_effect.iloc[:, column_integers].dropna() # Is dropping rows with na a good idea? Maybe use mean value instead?\n",
    "X = X.to_numpy()\n",
    "num_dropped_rows = df_gene_effect.shape[0] - X.shape[0]\n",
    "if num_dropped_rows > 0:\n",
    "    print(f\"Warning: {num_dropped_rows} rows contained at least 1 NA and was dropped.\")\n",
    "X.shape"
   ]
  },
  {
   "cell_type": "code",
   "execution_count": 132,
   "id": "4ba6bb2a",
   "metadata": {},
   "outputs": [
    {
     "data": {
      "text/plain": [
       "1.6046194597093193e-07"
      ]
     },
     "execution_count": 132,
     "metadata": {},
     "output_type": "execute_result"
    }
   ],
   "source": [
    "abs(X).min()"
   ]
  },
  {
   "cell_type": "code",
   "execution_count": 133,
   "id": "c04c7284",
   "metadata": {},
   "outputs": [
    {
     "name": "stderr",
     "output_type": "stream",
     "text": [
      "c:\\Users\\lucas\\Desktop\\6 semester\\Bachelor project\\Bachelorprojekt\\Bachelorprojekt\\utils.py:110: RuntimeWarning: invalid value encountered in log\n",
      "  result = np.trace(internal) - np.log(np.linalg.det(internal)) - p\n",
      "C:\\Users\\lucas\\AppData\\Local\\Packages\\PythonSoftwareFoundation.Python.3.10_qbz5n2kfra8p0\\LocalCache\\local-packages\\Python310\\site-packages\\scipy\\optimize\\_numdiff.py:598: ComplexWarning: Casting complex values to real discards the imaginary part\n",
      "  J_transposed[i] = df / dx\n"
     ]
    },
    {
     "data": {
      "text/plain": [
       "array([[-0.06247487,  0.07601588, -0.02801143, ...,  0.0298711 ,\n",
       "         0.00181959, -0.0136996 ],\n",
       "       [-0.12379197,  0.02249196,  0.03559324, ...,  0.02014321,\n",
       "        -0.07402811, -0.01632061],\n",
       "       [-0.05979765, -0.04408751, -0.05148708, ...,  0.02906055,\n",
       "        -0.01621574,  0.00665314],\n",
       "       ...,\n",
       "       [-0.13483303, -0.03700727,  0.01729237, ..., -0.00905964,\n",
       "         0.07219539, -0.00914646],\n",
       "       [-0.0718263 ,  0.08336453,  0.00824842, ...,  0.03964243,\n",
       "        -0.02036025,  0.00611225],\n",
       "       [-0.06100769, -0.05294257,  0.06679201, ..., -0.05035684,\n",
       "         0.02644643,  0.0199857 ]])"
      ]
     },
     "execution_count": 133,
     "metadata": {},
     "output_type": "execute_result"
    }
   ],
   "source": [
    "_, lambda_hat = factor_model_solution(X, k = 10)\n",
    "lambda_hat"
   ]
  },
  {
   "cell_type": "code",
   "execution_count": 134,
   "id": "176f5a1e",
   "metadata": {},
   "outputs": [
    {
     "data": {
      "text/plain": [
       "(array([-0.06247487,  0.07601588, -0.02801143, -0.06977072, -0.0853575 ,\n",
       "         0.02726702, -0.03758339,  0.0298711 ,  0.00181959, -0.0136996 ]),\n",
       " 10)"
      ]
     },
     "execution_count": 134,
     "metadata": {},
     "output_type": "execute_result"
    }
   ],
   "source": [
    "lambda_hat[0], len(lambda_hat[0])"
   ]
  },
  {
   "cell_type": "code",
   "execution_count": 135,
   "id": "c6c21f0b",
   "metadata": {},
   "outputs": [
    {
     "data": {
      "text/plain": [
       "array([-0.12379197,  0.02249196,  0.03559324,  0.04071055, -0.02902519,\n",
       "        0.01857414,  0.00435108,  0.02014321, -0.07402811, -0.01632061])"
      ]
     },
     "execution_count": 135,
     "metadata": {},
     "output_type": "execute_result"
    }
   ],
   "source": [
    "loadings = lambda_hat.T\n",
    "lambda_hat[1]"
   ]
  },
  {
   "cell_type": "code",
   "execution_count": 136,
   "id": "a22b49f9",
   "metadata": {},
   "outputs": [],
   "source": [
    "genes = [column_name.split(\" \")[0] for column_name in df_gene_effect.iloc[:, column_integers].columns.to_list()]\n",
    "\n",
    "df_values = pd.DataFrame({\n",
    "    'gene_evaluated': genes})"
   ]
  },
  {
   "cell_type": "code",
   "execution_count": 137,
   "id": "a7f761c8",
   "metadata": {},
   "outputs": [],
   "source": [
    "for i in range(loadings.shape[0]):\n",
    "    df_values[f\"loading {i}\"] = loadings[i]\n",
    "\n"
   ]
  },
  {
   "cell_type": "code",
   "execution_count": 138,
   "id": "2bb2b27b",
   "metadata": {},
   "outputs": [
    {
     "data": {
      "text/html": [
       "<div>\n",
       "<style scoped>\n",
       "    .dataframe tbody tr th:only-of-type {\n",
       "        vertical-align: middle;\n",
       "    }\n",
       "\n",
       "    .dataframe tbody tr th {\n",
       "        vertical-align: top;\n",
       "    }\n",
       "\n",
       "    .dataframe thead th {\n",
       "        text-align: right;\n",
       "    }\n",
       "</style>\n",
       "<table border=\"1\" class=\"dataframe\">\n",
       "  <thead>\n",
       "    <tr style=\"text-align: right;\">\n",
       "      <th></th>\n",
       "      <th>gene_evaluated</th>\n",
       "      <th>loading 0</th>\n",
       "      <th>loading 1</th>\n",
       "      <th>loading 2</th>\n",
       "      <th>loading 3</th>\n",
       "      <th>loading 4</th>\n",
       "      <th>loading 5</th>\n",
       "      <th>loading 6</th>\n",
       "      <th>loading 7</th>\n",
       "      <th>loading 8</th>\n",
       "      <th>loading 9</th>\n",
       "    </tr>\n",
       "  </thead>\n",
       "  <tbody>\n",
       "    <tr>\n",
       "      <th>0</th>\n",
       "      <td>DUS3L</td>\n",
       "      <td>-0.062475</td>\n",
       "      <td>0.076016</td>\n",
       "      <td>-0.028011</td>\n",
       "      <td>-0.069771</td>\n",
       "      <td>-0.085357</td>\n",
       "      <td>0.027267</td>\n",
       "      <td>-0.037583</td>\n",
       "      <td>0.029871</td>\n",
       "      <td>0.001820</td>\n",
       "      <td>-0.013700</td>\n",
       "    </tr>\n",
       "    <tr>\n",
       "      <th>1</th>\n",
       "      <td>CACNG6</td>\n",
       "      <td>-0.123792</td>\n",
       "      <td>0.022492</td>\n",
       "      <td>0.035593</td>\n",
       "      <td>0.040711</td>\n",
       "      <td>-0.029025</td>\n",
       "      <td>0.018574</td>\n",
       "      <td>0.004351</td>\n",
       "      <td>0.020143</td>\n",
       "      <td>-0.074028</td>\n",
       "      <td>-0.016321</td>\n",
       "    </tr>\n",
       "    <tr>\n",
       "      <th>2</th>\n",
       "      <td>LLGL2</td>\n",
       "      <td>-0.059798</td>\n",
       "      <td>-0.044088</td>\n",
       "      <td>-0.051487</td>\n",
       "      <td>-0.122082</td>\n",
       "      <td>0.028933</td>\n",
       "      <td>-0.080002</td>\n",
       "      <td>-0.034611</td>\n",
       "      <td>0.029061</td>\n",
       "      <td>-0.016216</td>\n",
       "      <td>0.006653</td>\n",
       "    </tr>\n",
       "    <tr>\n",
       "      <th>3</th>\n",
       "      <td>DCAF12L2</td>\n",
       "      <td>-0.040923</td>\n",
       "      <td>0.055217</td>\n",
       "      <td>0.045019</td>\n",
       "      <td>0.065959</td>\n",
       "      <td>0.090989</td>\n",
       "      <td>0.028127</td>\n",
       "      <td>-0.002226</td>\n",
       "      <td>-0.003645</td>\n",
       "      <td>-0.030486</td>\n",
       "      <td>-0.002190</td>\n",
       "    </tr>\n",
       "    <tr>\n",
       "      <th>4</th>\n",
       "      <td>TPM4</td>\n",
       "      <td>-0.011025</td>\n",
       "      <td>-0.010260</td>\n",
       "      <td>-0.033018</td>\n",
       "      <td>0.036545</td>\n",
       "      <td>-0.004740</td>\n",
       "      <td>-0.018080</td>\n",
       "      <td>0.019867</td>\n",
       "      <td>-0.021165</td>\n",
       "      <td>-0.017105</td>\n",
       "      <td>-0.017000</td>\n",
       "    </tr>\n",
       "    <tr>\n",
       "      <th>...</th>\n",
       "      <td>...</td>\n",
       "      <td>...</td>\n",
       "      <td>...</td>\n",
       "      <td>...</td>\n",
       "      <td>...</td>\n",
       "      <td>...</td>\n",
       "      <td>...</td>\n",
       "      <td>...</td>\n",
       "      <td>...</td>\n",
       "      <td>...</td>\n",
       "      <td>...</td>\n",
       "    </tr>\n",
       "    <tr>\n",
       "      <th>195</th>\n",
       "      <td>LGALS8</td>\n",
       "      <td>-0.004611</td>\n",
       "      <td>0.082208</td>\n",
       "      <td>-0.065195</td>\n",
       "      <td>0.028590</td>\n",
       "      <td>-0.081759</td>\n",
       "      <td>-0.119024</td>\n",
       "      <td>-0.035228</td>\n",
       "      <td>0.015752</td>\n",
       "      <td>0.035097</td>\n",
       "      <td>0.003735</td>\n",
       "    </tr>\n",
       "    <tr>\n",
       "      <th>196</th>\n",
       "      <td>DNPEP</td>\n",
       "      <td>-0.021077</td>\n",
       "      <td>0.083674</td>\n",
       "      <td>0.113836</td>\n",
       "      <td>-0.066728</td>\n",
       "      <td>-0.039355</td>\n",
       "      <td>-0.035804</td>\n",
       "      <td>0.000670</td>\n",
       "      <td>0.004033</td>\n",
       "      <td>-0.033232</td>\n",
       "      <td>0.023127</td>\n",
       "    </tr>\n",
       "    <tr>\n",
       "      <th>197</th>\n",
       "      <td>ADAMTS2</td>\n",
       "      <td>-0.134833</td>\n",
       "      <td>-0.037007</td>\n",
       "      <td>0.017292</td>\n",
       "      <td>-0.032754</td>\n",
       "      <td>0.039856</td>\n",
       "      <td>0.016412</td>\n",
       "      <td>0.020302</td>\n",
       "      <td>-0.009060</td>\n",
       "      <td>0.072195</td>\n",
       "      <td>-0.009146</td>\n",
       "    </tr>\n",
       "    <tr>\n",
       "      <th>198</th>\n",
       "      <td>ATP6V0A4</td>\n",
       "      <td>-0.071826</td>\n",
       "      <td>0.083365</td>\n",
       "      <td>0.008248</td>\n",
       "      <td>-0.017228</td>\n",
       "      <td>0.002694</td>\n",
       "      <td>-0.031007</td>\n",
       "      <td>0.060006</td>\n",
       "      <td>0.039642</td>\n",
       "      <td>-0.020360</td>\n",
       "      <td>0.006112</td>\n",
       "    </tr>\n",
       "    <tr>\n",
       "      <th>199</th>\n",
       "      <td>IGF2</td>\n",
       "      <td>-0.061008</td>\n",
       "      <td>-0.052943</td>\n",
       "      <td>0.066792</td>\n",
       "      <td>0.012081</td>\n",
       "      <td>0.060441</td>\n",
       "      <td>-0.055574</td>\n",
       "      <td>-0.014750</td>\n",
       "      <td>-0.050357</td>\n",
       "      <td>0.026446</td>\n",
       "      <td>0.019986</td>\n",
       "    </tr>\n",
       "  </tbody>\n",
       "</table>\n",
       "<p>200 rows × 11 columns</p>\n",
       "</div>"
      ],
      "text/plain": [
       "    gene_evaluated  loading 0  loading 1  loading 2  loading 3  loading 4  \\\n",
       "0            DUS3L  -0.062475   0.076016  -0.028011  -0.069771  -0.085357   \n",
       "1           CACNG6  -0.123792   0.022492   0.035593   0.040711  -0.029025   \n",
       "2            LLGL2  -0.059798  -0.044088  -0.051487  -0.122082   0.028933   \n",
       "3         DCAF12L2  -0.040923   0.055217   0.045019   0.065959   0.090989   \n",
       "4             TPM4  -0.011025  -0.010260  -0.033018   0.036545  -0.004740   \n",
       "..             ...        ...        ...        ...        ...        ...   \n",
       "195         LGALS8  -0.004611   0.082208  -0.065195   0.028590  -0.081759   \n",
       "196          DNPEP  -0.021077   0.083674   0.113836  -0.066728  -0.039355   \n",
       "197        ADAMTS2  -0.134833  -0.037007   0.017292  -0.032754   0.039856   \n",
       "198       ATP6V0A4  -0.071826   0.083365   0.008248  -0.017228   0.002694   \n",
       "199           IGF2  -0.061008  -0.052943   0.066792   0.012081   0.060441   \n",
       "\n",
       "     loading 5  loading 6  loading 7  loading 8  loading 9  \n",
       "0     0.027267  -0.037583   0.029871   0.001820  -0.013700  \n",
       "1     0.018574   0.004351   0.020143  -0.074028  -0.016321  \n",
       "2    -0.080002  -0.034611   0.029061  -0.016216   0.006653  \n",
       "3     0.028127  -0.002226  -0.003645  -0.030486  -0.002190  \n",
       "4    -0.018080   0.019867  -0.021165  -0.017105  -0.017000  \n",
       "..         ...        ...        ...        ...        ...  \n",
       "195  -0.119024  -0.035228   0.015752   0.035097   0.003735  \n",
       "196  -0.035804   0.000670   0.004033  -0.033232   0.023127  \n",
       "197   0.016412   0.020302  -0.009060   0.072195  -0.009146  \n",
       "198  -0.031007   0.060006   0.039642  -0.020360   0.006112  \n",
       "199  -0.055574  -0.014750  -0.050357   0.026446   0.019986  \n",
       "\n",
       "[200 rows x 11 columns]"
      ]
     },
     "execution_count": 138,
     "metadata": {},
     "output_type": "execute_result"
    }
   ],
   "source": [
    "df_values"
   ]
  },
  {
   "cell_type": "code",
   "execution_count": 139,
   "id": "aeaee5c2",
   "metadata": {},
   "outputs": [
    {
     "name": "stdout",
     "output_type": "stream",
     "text": [
      "                loading 0\n",
      "gene_evaluated           \n",
      "SFTA2            0.266710\n",
      "SFTA2            0.266710\n",
      "ARHGEF26         0.228638\n",
      "PKLR             0.186090\n",
      "UNC79            0.167469\n",
      "LILRA1           0.160019\n",
      "ABCF1            0.145388\n",
      "COQ2             0.126293\n",
      "TMF1             0.111147\n",
      "SPZ1             0.108500\n",
      "                loading 1\n",
      "gene_evaluated           \n",
      "CFAP36           0.193401\n",
      "ATG10            0.179070\n",
      "PDS5B            0.157478\n",
      "ANKRD16          0.154384\n",
      "FMR1NB           0.153436\n",
      "ZNF706           0.150958\n",
      "NKIRAS1          0.138464\n",
      "GNG12            0.138279\n",
      "SPZ1             0.137327\n",
      "VRK2             0.123680\n",
      "                loading 2\n",
      "gene_evaluated           \n",
      "QPRT             0.149548\n",
      "SCN2B            0.144031\n",
      "DNPEP            0.113836\n",
      "FOXL2NB          0.112075\n",
      "RPP25            0.104016\n",
      "NAT16            0.100849\n",
      "FMR1NB           0.093579\n",
      "FAM98B           0.090132\n",
      "ILDR2            0.088586\n",
      "PQBP1            0.087125\n",
      "                loading 3\n",
      "gene_evaluated           \n",
      "ZNF229           0.131019\n",
      "TUBB1            0.118193\n",
      "UGT1A8           0.106553\n",
      "MDN1             0.103538\n",
      "DDX49            0.098021\n",
      "FCN2             0.094866\n",
      "ANO10            0.092513\n",
      "SIRPG            0.091404\n",
      "NCAPG            0.088983\n",
      "CST7             0.083742\n",
      "                loading 4\n",
      "gene_evaluated           \n",
      "IZUMO1           0.123866\n",
      "DIP2C            0.119204\n",
      "SCN4A            0.115887\n",
      "NPBWR1           0.113954\n",
      "LILRA1           0.105766\n",
      "SFTA2            0.104062\n",
      "SFTA2            0.104062\n",
      "TMEM38B          0.098389\n",
      "ARHGAP39         0.097523\n",
      "PKLR             0.095649\n",
      "                loading 5\n",
      "gene_evaluated           \n",
      "SLC6A8           0.117034\n",
      "ZNF706           0.113856\n",
      "USP49            0.108812\n",
      "HIVEP3           0.100394\n",
      "SPZ1             0.099261\n",
      "ZNF565           0.097405\n",
      "U2AF1L4          0.096288\n",
      "TCTN1            0.088836\n",
      "LMBR1L           0.088250\n",
      "ARID3B           0.088172\n",
      "                loading 6\n",
      "gene_evaluated           \n",
      "PSMA1            0.118940\n",
      "TSG101           0.118162\n",
      "RIPOR2           0.100157\n",
      "SFTA2            0.097590\n",
      "SFTA2            0.097590\n",
      "RFK              0.088746\n",
      "TRMT9B           0.075715\n",
      "GARS             0.074328\n",
      "AK3              0.073393\n",
      "SOAT1            0.071748\n",
      "                loading 7\n",
      "gene_evaluated           \n",
      "CLEC12A          0.081802\n",
      "IL22RA2          0.079675\n",
      "SIK2             0.074133\n",
      "TRMT9B           0.066977\n",
      "SPINK13          0.060738\n",
      "ADCK5            0.055221\n",
      "ATG10            0.053583\n",
      "PDIA6            0.052164\n",
      "TSG101           0.051935\n",
      "KPTN             0.047675\n",
      "                loading 8\n",
      "gene_evaluated           \n",
      "ARHGAP24         0.088034\n",
      "RGS7             0.080191\n",
      "WDR55            0.080187\n",
      "ARL8A            0.077220\n",
      "ADAMTS2          0.072195\n",
      "JMJD4            0.071136\n",
      "TPRKB            0.060297\n",
      "GPR155           0.058157\n",
      "SCN2B            0.055425\n",
      "ARHGAP39         0.053652\n",
      "                loading 9\n",
      "gene_evaluated           \n",
      "ASTL             0.051247\n",
      "MYO1C            0.041271\n",
      "INPP5E           0.034302\n",
      "LMBR1L           0.030386\n",
      "IQUB             0.028836\n",
      "MMP9             0.027201\n",
      "TRIM59           0.026161\n",
      "ART5             0.025977\n",
      "PDS5B            0.025837\n",
      "FLYWCH1          0.025829\n"
     ]
    }
   ],
   "source": [
    "for i in range(1, loadings.shape[0]+1):\n",
    "    values = df_values.iloc[:, lambda values: [0, i]]\n",
    "    values = values.set_index(\"gene_evaluated\").sort_values(values.columns[1], ascending = False)[:10]\n",
    "    print(values)\n",
    "    "
   ]
  },
  {
   "cell_type": "code",
   "execution_count": null,
   "id": "a3680e6f",
   "metadata": {},
   "outputs": [],
   "source": []
  },
  {
   "cell_type": "code",
   "execution_count": null,
   "id": "667a3be4",
   "metadata": {},
   "outputs": [],
   "source": []
  }
 ],
 "metadata": {
  "kernelspec": {
   "display_name": "Python 3",
   "language": "python",
   "name": "python3"
  },
  "language_info": {
   "codemirror_mode": {
    "name": "ipython",
    "version": 3
   },
   "file_extension": ".py",
   "mimetype": "text/x-python",
   "name": "python",
   "nbconvert_exporter": "python",
   "pygments_lexer": "ipython3",
   "version": "3.10.11"
  }
 },
 "nbformat": 4,
 "nbformat_minor": 5
}
