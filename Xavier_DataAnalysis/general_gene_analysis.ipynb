{
 "cells": [
  {
   "cell_type": "markdown",
   "id": "46e7af91",
   "metadata": {},
   "source": [
    "*The purpose of this notebook is to develop general tools for Factor Analysis w.r.t. Xavier's Gene Dependency Data.*\n",
    "___\n",
    "# General Gene Analysis Tools"
   ]
  }
 ],
 "metadata": {
  "language_info": {
   "name": "python"
  }
 },
 "nbformat": 4,
 "nbformat_minor": 5
}
