{
 "cells": [
  {
   "cell_type": "code",
   "execution_count": 34,
   "id": "ede84dcb",
   "metadata": {},
   "outputs": [],
   "source": [
    "import pandas as pd\n",
    "import numpy as np\n",
    "\n",
    "import sys\n",
    "import os\n",
    "\n",
    "# Get the current working directory (where the notebook is running)\n",
    "notebook_dir = os.getcwd()\n",
    "\n",
    "# Go up one level to the parent directory\n",
    "parent_dir = os.path.abspath(os.path.join(notebook_dir, '..'))\n",
    "\n",
    "# Add parent directory to sys.path\n",
    "if parent_dir not in sys.path:\n",
    "    sys.path.insert(0, parent_dir)\n",
    "\n",
    "# Now you can import your module\n",
    "from utils import factor_model_solution, factor_goodness_of_fit_test"
   ]
  },
  {
   "cell_type": "markdown",
   "id": "46e7af91",
   "metadata": {},
   "source": [
    "*This notebook does factor analysis on k = 2 pathways, trying to identify the 2 pathways in which DICER1 and GART participates in respectively.*\n",
    "___\n",
    "# $k = 2$ factors | GART & DICER1 pathways"
   ]
  },
  {
   "cell_type": "markdown",
   "id": "bea39025",
   "metadata": {},
   "source": [
    "## Loading and preparing data"
   ]
  },
  {
   "cell_type": "markdown",
   "id": "3b2ce198",
   "metadata": {},
   "source": [
    "See the `k1_[GENE]_initial_analysis.ipynb` notebooks for more intermediate steps than this notebook provides."
   ]
  },
  {
   "cell_type": "code",
   "execution_count": 7,
   "id": "ca9e3b8b",
   "metadata": {},
   "outputs": [],
   "source": [
    "df_gene_effect = pd.read_csv(\"20Q4v2_Achilles_gene_effect.csv\")\n",
    "df_correlations = {\n",
    "    \"DICER1\": pd.read_csv(\"corr_DICER1_preprocessed.csv\", delimiter=\";\"),\n",
    "    \"GART\": pd.read_csv(\"corr_GART_preprocessed.csv\", delimiter=\";\")\n",
    "}"
   ]
  },
  {
   "cell_type": "code",
   "execution_count": 33,
   "id": "e71cd0e5",
   "metadata": {},
   "outputs": [
    {
     "data": {
      "text/plain": [
       "(808, 20)"
      ]
     },
     "execution_count": 33,
     "metadata": {},
     "output_type": "execute_result"
    }
   ],
   "source": [
    "# Number of genes to include from each corr file taking top X // 2 and bottom X // 2.\n",
    "# Note that the same gene may be selected in both corr files. (But will only appear once in the final selected_genes list.)\n",
    "number_of_genes = 10\n",
    "assert number_of_genes % 2 == 0, \"number_of_genes should be an even number.\"\n",
    "\n",
    "selected_columns = pd.concat([df_correlations[\"DICER1\"][\"gene_evaluated\"][:number_of_genes // 2], \n",
    "                              df_correlations[\"DICER1\"][\"gene_evaluated\"][-number_of_genes // 2:],\n",
    "                              df_correlations[\"GART\"][\"gene_evaluated\"][:number_of_genes // 2], \n",
    "                              df_correlations[\"GART\"][\"gene_evaluated\"][-number_of_genes // 2:]]).to_list()\n",
    "selected_columns = set(selected_columns)\n",
    "\n",
    "# number_of_genes multiplied by how many corr files we have.\n",
    "number_of_duplicates = (number_of_genes * 2) - len(selected_columns) \n",
    "if number_of_duplicates > 0:\n",
    "    print(f\"Warning: {number_of_duplicates} duplicates were removed.\")\n",
    "\n",
    "# Extract gene names according to the format of gene_effect dataset.\n",
    "selected_columns_gene_effect_format = [column for column in df_gene_effect.columns if column.split(\" \")[0] in selected_columns]\n",
    "\n",
    "# Rough automatic check for whether we found all corresponding columns in gene_effect dataset that we've selected.\n",
    "assert(len(selected_columns) == len(selected_columns_gene_effect_format)) \n",
    "\n",
    "# Extract columns from gene_effect dataset.\n",
    "X = df_gene_effect[selected_columns_gene_effect_format].dropna() # Is dropping rows with na a good idea? Maybe use mean value instead?\n",
    "X = X.to_numpy()\n",
    "if 808 - X.shape[0] > 0:\n",
    "    print(f\"Warning: {808 - X.shape[0]} rows contained at least 1 NA and was dropped.\")\n",
    "X.shape"
   ]
  },
  {
   "cell_type": "markdown",
   "id": "c5d021e3",
   "metadata": {},
   "source": [
    "## Data Analysis"
   ]
  },
  {
   "cell_type": "code",
   "execution_count": 35,
   "id": "fa34b778",
   "metadata": {},
   "outputs": [
    {
     "data": {
      "text/plain": [
       "array([[ 0.10629842, -0.48670354],\n",
       "       [ 0.07299983, -0.48118905],\n",
       "       [ 0.87841332,  0.02848014],\n",
       "       [-0.03302381,  0.09719705],\n",
       "       [-0.008655  ,  0.03759163],\n",
       "       [ 0.01807461, -0.72653769],\n",
       "       [-0.00096324, -0.41278562],\n",
       "       [ 0.87796171,  0.03348937],\n",
       "       [-0.15009573, -0.13800765],\n",
       "       [ 0.85673267, -0.00245353],\n",
       "       [-0.09997079, -0.02107274],\n",
       "       [ 0.0263521 ,  0.13301682],\n",
       "       [ 0.02352066, -0.03702527],\n",
       "       [ 0.90161429, -0.00522136],\n",
       "       [-0.00433523, -0.09536355],\n",
       "       [ 0.84230693, -0.00579557],\n",
       "       [-0.05966692, -0.0347877 ],\n",
       "       [-0.06491632,  0.05625643],\n",
       "       [ 0.05758763, -0.67447864],\n",
       "       [-0.03962759, -0.08062107]])"
      ]
     },
     "execution_count": 35,
     "metadata": {},
     "output_type": "execute_result"
    }
   ],
   "source": [
    "_, lambda_hat = factor_model_solution(X, k = 2)\n",
    "lambda_hat"
   ]
  },
  {
   "cell_type": "code",
   "execution_count": 59,
   "id": "477b40b1",
   "metadata": {},
   "outputs": [],
   "source": [
    "loadings = lambda_hat.T # Extract loadings as a list\n",
    "\n",
    "# Extract gene names (everything before the space)\n",
    "genes = [column.split(\" \")[0] for column in selected_columns_gene_effect_format]\n",
    "\n",
    "# Create a DataFrame from genes and values\n",
    "df_values = pd.DataFrame({\n",
    "    'gene_evaluated': genes,\n",
    "    'loadings0': loadings[0],\n",
    "    'loadings1': loadings[1]\n",
    "})\n",
    "\n",
    "# Merge with df_correlations on 'gene'\n",
    "merged_df = df_values.merge(df_correlations[\"DICER1\"][['gene_evaluated', 'is_on_pathway']], on='gene_evaluated', how='left')\n",
    "merged_df = merged_df.rename(columns={\"is_on_pathway\": \"is_on_pathway_DICER1\"})\n",
    "merged_df = merged_df.merge(df_correlations[\"GART\"][['gene_evaluated', 'is_on_pathway']], on='gene_evaluated', how='left')\n",
    "merged_df = merged_df.rename(columns={\"is_on_pathway\": \"is_on_pathway_GART\"})"
   ]
  },
  {
   "cell_type": "code",
   "execution_count": 64,
   "id": "b7646063",
   "metadata": {},
   "outputs": [],
   "source": [
    "# Allow pandas to display wider tables before linebreaking.\n",
    "pd.set_option('display.max_columns', 500)\n",
    "pd.set_option('display.width', 1000)"
   ]
  },
  {
   "cell_type": "markdown",
   "id": "f3bb1ae2",
   "metadata": {},
   "source": [
    "Sorted w.r.t. first factor:"
   ]
  },
  {
   "cell_type": "code",
   "execution_count": 60,
   "id": "a5dae5d4",
   "metadata": {},
   "outputs": [
    {
     "name": "stdout",
     "output_type": "stream",
     "text": [
      "   gene_evaluated  loadings0  loadings1  is_on_pathway_DICER1  is_on_pathway_GART\n",
      "13          PAICS   0.901614  -0.005221                   NaN                 1.0\n",
      "2            ATIC   0.878413   0.028480                   NaN                 1.0\n",
      "7            GART   0.877962   0.033489                   NaN                 1.0\n",
      "9          MTHFD1   0.856733  -0.002454                   NaN                 1.0\n",
      "15           PFAS   0.842307  -0.005796                   NaN                 1.0\n",
      "0            AGO2   0.106298  -0.486704                   1.0                 NaN\n",
      "1         ANKRD52   0.073000  -0.481189                   1.0                 0.0\n",
      "18           XPO5   0.057588  -0.674479                   1.0                 0.0\n",
      "11         ORMDL2   0.026352   0.133017                   0.0                 NaN\n",
      "12          P2RY2   0.023521  -0.037025                   NaN                 0.0\n",
      "5          DICER1   0.018075  -0.726538                   1.0                 0.0\n",
      "6          DROSHA  -0.000963  -0.412786                   1.0                 0.0\n",
      "14        PCDHB16  -0.004335  -0.095364                   0.0                 NaN\n",
      "4            CCNI  -0.008655   0.037592                   NaN                 0.0\n",
      "3            BTG1  -0.033024   0.097197                   0.0                 NaN\n",
      "19        ZSCAN22  -0.039628  -0.080621                   0.0                 NaN\n",
      "16         PIH1D1  -0.059667  -0.034788                   NaN                 0.0\n",
      "17           RGL1  -0.064916   0.056256                   NaN                 0.0\n",
      "10           NEK9  -0.099971  -0.021073                   NaN                 0.0\n",
      "8           HYOU1  -0.150096  -0.138008                   0.0                 0.0\n"
     ]
    }
   ],
   "source": [
    "print(merged_df.sort_values(\"loadings0\", ascending=False))"
   ]
  },
  {
   "cell_type": "markdown",
   "id": "091d77da",
   "metadata": {},
   "source": [
    "Correctly finds the GART pathway. (Notice the steep drop-off in loading from PFAS to AGO2)"
   ]
  },
  {
   "cell_type": "markdown",
   "id": "58a45d7f",
   "metadata": {},
   "source": [
    "Sorted w.r.t. second factor:"
   ]
  },
  {
   "cell_type": "code",
   "execution_count": 62,
   "id": "ca8b1b5d",
   "metadata": {},
   "outputs": [
    {
     "name": "stdout",
     "output_type": "stream",
     "text": [
      "   gene_evaluated  loadings0  loadings1  is_on_pathway_DICER1  is_on_pathway_GART\n",
      "11         ORMDL2   0.026352   0.133017                   0.0                 NaN\n",
      "3            BTG1  -0.033024   0.097197                   0.0                 NaN\n",
      "17           RGL1  -0.064916   0.056256                   NaN                 0.0\n",
      "4            CCNI  -0.008655   0.037592                   NaN                 0.0\n",
      "7            GART   0.877962   0.033489                   NaN                 1.0\n",
      "2            ATIC   0.878413   0.028480                   NaN                 1.0\n",
      "9          MTHFD1   0.856733  -0.002454                   NaN                 1.0\n",
      "13          PAICS   0.901614  -0.005221                   NaN                 1.0\n",
      "15           PFAS   0.842307  -0.005796                   NaN                 1.0\n",
      "10           NEK9  -0.099971  -0.021073                   NaN                 0.0\n",
      "16         PIH1D1  -0.059667  -0.034788                   NaN                 0.0\n",
      "12          P2RY2   0.023521  -0.037025                   NaN                 0.0\n",
      "19        ZSCAN22  -0.039628  -0.080621                   0.0                 NaN\n",
      "14        PCDHB16  -0.004335  -0.095364                   0.0                 NaN\n",
      "8           HYOU1  -0.150096  -0.138008                   0.0                 0.0\n",
      "6          DROSHA  -0.000963  -0.412786                   1.0                 0.0\n",
      "1         ANKRD52   0.073000  -0.481189                   1.0                 0.0\n",
      "0            AGO2   0.106298  -0.486704                   1.0                 NaN\n",
      "18           XPO5   0.057588  -0.674479                   1.0                 0.0\n",
      "5          DICER1   0.018075  -0.726538                   1.0                 0.0\n"
     ]
    }
   ],
   "source": [
    "print(merged_df.sort_values(\"loadings1\", ascending=False))"
   ]
  },
  {
   "cell_type": "markdown",
   "id": "7a2c18ef",
   "metadata": {},
   "source": [
    "Correctly finds the DICER1 pathway. (Notice the steep drop-off in loading from PFAS to AGO2)"
   ]
  },
  {
   "cell_type": "markdown",
   "id": "2779d7cc",
   "metadata": {},
   "source": [
    "## Goodness of Fit"
   ]
  },
  {
   "cell_type": "code",
   "execution_count": 88,
   "id": "4615c209",
   "metadata": {},
   "outputs": [
    {
     "name": "stdout",
     "output_type": "stream",
     "text": [
      "6.067248907679525e-24\n",
      "Found sufficient factors:\n",
      " 7 | 0.3449\n",
      "(6 | 0.0497)\n"
     ]
    }
   ],
   "source": [
    "print(factor_goodness_of_fit_test(X, k = 2))\n",
    "\n",
    "for i in range(1, X.shape[1]):\n",
    "    pvalue = factor_goodness_of_fit_test(X, k = i)\n",
    "    if pvalue >= 0.05:\n",
    "        print(\"Found sufficient factors:\")\n",
    "        print(f\" {i} | {pvalue.round(4)}\")\n",
    "        print(f\"({i - 1} | {factor_goodness_of_fit_test(X, k = i - 1).round(4)})\")\n",
    "        break"
   ]
  }
 ],
 "metadata": {
  "kernelspec": {
   "display_name": "Python 3",
   "language": "python",
   "name": "python3"
  },
  "language_info": {
   "codemirror_mode": {
    "name": "ipython",
    "version": 3
   },
   "file_extension": ".py",
   "mimetype": "text/x-python",
   "name": "python",
   "nbconvert_exporter": "python",
   "pygments_lexer": "ipython3",
   "version": "3.11.1"
  }
 },
 "nbformat": 4,
 "nbformat_minor": 5
}
