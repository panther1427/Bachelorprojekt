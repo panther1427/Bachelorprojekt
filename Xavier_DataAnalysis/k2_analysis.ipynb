{
 "cells": [
  {
   "cell_type": "code",
   "execution_count": 19,
   "id": "ede84dcb",
   "metadata": {},
   "outputs": [],
   "source": [
    "import pandas as pd\n",
    "import numpy as np\n",
    "\n",
    "import sys\n",
    "import os\n",
    "\n",
    "# Get the current working directory (where the notebook is running)\n",
    "notebook_dir = os.getcwd()\n",
    "\n",
    "# Go up one level to the parent directory\n",
    "parent_dir = os.path.abspath(os.path.join(notebook_dir, '..'))\n",
    "\n",
    "# Add parent directory to sys.path\n",
    "if parent_dir not in sys.path:\n",
    "    sys.path.insert(0, parent_dir)\n",
    "\n",
    "# Now import modules from parent directory\n",
    "from utils import factor_model_solution, factor_goodness_of_fit_test"
   ]
  },
  {
   "cell_type": "markdown",
   "id": "46e7af91",
   "metadata": {},
   "source": [
    "*This notebook does factor analysis on k = 2 pathways, trying to identify the 2 pathways in which DICER1 and GART participate in respectively.*\n",
    "___\n",
    "# $k = 2$ factors | GART & DICER1 pathways"
   ]
  },
  {
   "cell_type": "markdown",
   "id": "bea39025",
   "metadata": {},
   "source": [
    "## Loading and preparing data"
   ]
  },
  {
   "cell_type": "markdown",
   "id": "3b2ce198",
   "metadata": {},
   "source": [
    "See the `k1_[GENE]_initial_analysis.ipynb` notebooks for more intermediate steps than this notebook provides."
   ]
  },
  {
   "cell_type": "code",
   "execution_count": 20,
   "id": "ca9e3b8b",
   "metadata": {},
   "outputs": [],
   "source": [
    "df_gene_effect = pd.read_csv(\"preprocessed_data/20Q4v2_Achilles_gene_effect.csv\")\n",
    "df_correlations = {\n",
    "    \"DICER1\": pd.read_csv(\"preprocessed_data/corr_DICER1_preprocessed.csv\", delimiter=\";\"),\n",
    "    \"GART\": pd.read_csv(\"preprocessed_data/corr_GART_preprocessed.csv\", delimiter=\";\")\n",
    "}"
   ]
  },
  {
   "cell_type": "code",
   "execution_count": 21,
   "id": "e71cd0e5",
   "metadata": {},
   "outputs": [
    {
     "data": {
      "text/plain": [
       "(808, 10)"
      ]
     },
     "execution_count": 21,
     "metadata": {},
     "output_type": "execute_result"
    }
   ],
   "source": [
    "# Number of genes to include from each corr file taking top X // 2 and bottom X // 2.\n",
    "# Note that the same gene may be selected in both corr files. (But will only appear once in the final selected_genes list.)\n",
    "number_of_genes = 10\n",
    "assert number_of_genes % 2 == 0, \"number_of_genes should be an even number.\"\n",
    "\n",
    "only_top5 = True\n",
    "if only_top5:\n",
    "    selected_columns = pd.concat(\n",
    "        [df_correlations[\"DICER1\"][\"gene_evaluated\"][:number_of_genes // 2],\n",
    "        df_correlations[\"GART\"][\"gene_evaluated\"][:number_of_genes // 2]]\n",
    "        ).to_list()\n",
    "else:\n",
    "    selected_columns = pd.concat(\n",
    "        [df_correlations[\"DICER1\"][\"gene_evaluated\"][:number_of_genes // 2], \n",
    "        df_correlations[\"DICER1\"][\"gene_evaluated\"][-number_of_genes // 2:],\n",
    "        df_correlations[\"GART\"][\"gene_evaluated\"][:number_of_genes // 2], \n",
    "        df_correlations[\"GART\"][\"gene_evaluated\"][-number_of_genes // 2:]]\n",
    "        ).to_list()\n",
    "    \n",
    "len_before_dup_removal = len(selected_columns)\n",
    "    \n",
    "selected_columns = set(selected_columns)\n",
    "\n",
    "len_after_dup_removal = len(selected_columns)\n",
    "\n",
    "# number_of_genes multiplied by how many corr files we have.\n",
    "number_of_duplicates = len_before_dup_removal - len_after_dup_removal\n",
    "if number_of_duplicates > 0:\n",
    "    print(f\"Warning: {number_of_duplicates} duplicates were removed.\")\n",
    "\n",
    "# Extract gene names according to the format of gene_effect dataset.\n",
    "selected_columns_gene_effect_format = [column for column in df_gene_effect.columns if column.split(\" \")[0] in selected_columns]\n",
    "\n",
    "# Rough automatic check for whether we found all corresponding columns in gene_effect dataset that we've selected.\n",
    "assert len(selected_columns) == len(selected_columns_gene_effect_format)\n",
    "\n",
    "# Extract columns from gene_effect dataset.\n",
    "X = df_gene_effect[selected_columns_gene_effect_format].dropna() # Is dropping rows with na a good idea? Maybe use mean value instead?\n",
    "X = X.to_numpy()\n",
    "num_dropped_rows = df_gene_effect.shape[0] - X.shape[0]\n",
    "if num_dropped_rows > 0:\n",
    "    print(f\"Warning: {num_dropped_rows} rows contained at least 1 NA and was dropped.\")\n",
    "X.shape"
   ]
  },
  {
   "cell_type": "markdown",
   "id": "c5d021e3",
   "metadata": {},
   "source": [
    "## Data Analysis"
   ]
  },
  {
   "cell_type": "code",
   "execution_count": 22,
   "id": "fa34b778",
   "metadata": {},
   "outputs": [
    {
     "data": {
      "text/plain": [
       "array([[-1.06906923e-01,  4.82579560e-01],\n",
       "       [-7.40326542e-02,  4.97701977e-01],\n",
       "       [-8.78979381e-01, -3.02807601e-02],\n",
       "       [-1.96331464e-02,  7.07141756e-01],\n",
       "       [ 6.92409717e-04,  4.14550271e-01],\n",
       "       [-8.77315239e-01, -3.38317369e-02],\n",
       "       [-8.56750502e-01, -3.04736539e-03],\n",
       "       [-9.01991256e-01,  7.37227205e-03],\n",
       "       [-8.41656080e-01, -6.24149132e-04],\n",
       "       [-5.94276402e-02,  6.87247991e-01]])"
      ]
     },
     "execution_count": 22,
     "metadata": {},
     "output_type": "execute_result"
    }
   ],
   "source": [
    "_, lambda_hat = factor_model_solution(X, k = 2)\n",
    "lambda_hat"
   ]
  },
  {
   "cell_type": "code",
   "execution_count": 23,
   "id": "477b40b1",
   "metadata": {},
   "outputs": [],
   "source": [
    "loadings = lambda_hat.T # Extract loadings as a list\n",
    "\n",
    "# Extract gene names (everything before the space)\n",
    "genes = [column.split(\" \")[0] for column in selected_columns_gene_effect_format]\n",
    "\n",
    "# Create a DataFrame from genes and values\n",
    "df_values = pd.DataFrame({\n",
    "    'gene_evaluated': genes,\n",
    "    'loadings0': loadings[0],\n",
    "    'loadings1': loadings[1]\n",
    "})\n",
    "\n",
    "# Merge with df_correlations on 'gene'\n",
    "merged_df = (df_values\n",
    "             .merge(df_correlations[\"DICER1\"][['gene_evaluated', 'is_on_pathway']], on='gene_evaluated', how='left')\n",
    "             .rename(columns={\"is_on_pathway\": \"is_on_pathway_DICER1\"})\n",
    "             .merge(df_correlations[\"GART\"][['gene_evaluated', 'is_on_pathway']], on='gene_evaluated', how='left')\n",
    "             .rename(columns={\"is_on_pathway\": \"is_on_pathway_GART\"})\n",
    "             )"
   ]
  },
  {
   "cell_type": "code",
   "execution_count": 24,
   "id": "b7646063",
   "metadata": {},
   "outputs": [],
   "source": [
    "# Allow pandas to display wider tables before linebreaking.\n",
    "pd.set_option('display.max_columns', 500)\n",
    "pd.set_option('display.width', 1000)"
   ]
  },
  {
   "cell_type": "markdown",
   "id": "f3bb1ae2",
   "metadata": {},
   "source": [
    "Sorted w.r.t. first factor:"
   ]
  },
  {
   "cell_type": "code",
   "execution_count": 25,
   "id": "a5dae5d4",
   "metadata": {},
   "outputs": [
    {
     "name": "stdout",
     "output_type": "stream",
     "text": [
      "  gene_evaluated  loadings0  loadings1  is_on_pathway_DICER1  is_on_pathway_GART\n",
      "4         DROSHA   0.000692   0.414550                   1.0                 0.0\n",
      "3         DICER1  -0.019633   0.707142                   1.0                 0.0\n",
      "9           XPO5  -0.059428   0.687248                   1.0                 0.0\n",
      "1        ANKRD52  -0.074033   0.497702                   1.0                 0.0\n",
      "0           AGO2  -0.106907   0.482580                   1.0                 NaN\n",
      "8           PFAS  -0.841656  -0.000624                   NaN                 1.0\n",
      "6         MTHFD1  -0.856751  -0.003047                   NaN                 1.0\n",
      "5           GART  -0.877315  -0.033832                   NaN                 1.0\n",
      "2           ATIC  -0.878979  -0.030281                   NaN                 1.0\n",
      "7          PAICS  -0.901991   0.007372                   NaN                 1.0\n"
     ]
    }
   ],
   "source": [
    "print(merged_df.sort_values(\"loadings0\", ascending=False))"
   ]
  },
  {
   "cell_type": "markdown",
   "id": "091d77da",
   "metadata": {},
   "source": [
    "Correctly finds the GART pathway. (Notice the steep drop-off in loading from PFAS to AGO2)"
   ]
  },
  {
   "cell_type": "markdown",
   "id": "58a45d7f",
   "metadata": {},
   "source": [
    "Sorted w.r.t. second factor:"
   ]
  },
  {
   "cell_type": "code",
   "execution_count": 26,
   "id": "ca8b1b5d",
   "metadata": {},
   "outputs": [
    {
     "name": "stdout",
     "output_type": "stream",
     "text": [
      "  gene_evaluated  loadings0  loadings1  is_on_pathway_DICER1  is_on_pathway_GART\n",
      "3         DICER1  -0.019633   0.707142                   1.0                 0.0\n",
      "9           XPO5  -0.059428   0.687248                   1.0                 0.0\n",
      "1        ANKRD52  -0.074033   0.497702                   1.0                 0.0\n",
      "0           AGO2  -0.106907   0.482580                   1.0                 NaN\n",
      "4         DROSHA   0.000692   0.414550                   1.0                 0.0\n",
      "7          PAICS  -0.901991   0.007372                   NaN                 1.0\n",
      "8           PFAS  -0.841656  -0.000624                   NaN                 1.0\n",
      "6         MTHFD1  -0.856751  -0.003047                   NaN                 1.0\n",
      "2           ATIC  -0.878979  -0.030281                   NaN                 1.0\n",
      "5           GART  -0.877315  -0.033832                   NaN                 1.0\n"
     ]
    }
   ],
   "source": [
    "print(merged_df.sort_values(\"loadings1\", ascending=False))"
   ]
  },
  {
   "cell_type": "markdown",
   "id": "7a2c18ef",
   "metadata": {},
   "source": [
    "Correctly finds the DICER1 pathway. (Notice somewhat significant drop-off from DROSHA to HYOU1)"
   ]
  },
  {
   "cell_type": "markdown",
   "id": "2779d7cc",
   "metadata": {},
   "source": [
    "## Goodness of Fit"
   ]
  },
  {
   "cell_type": "code",
   "execution_count": 27,
   "id": "4615c209",
   "metadata": {},
   "outputs": [
    {
     "name": "stdout",
     "output_type": "stream",
     "text": [
      "3.4422929504764765e-09\n",
      "Found sufficient factors:\n",
      "FAC| PVAL\n",
      " 5 | 0.685\n",
      "(4 | 0.0104)\n"
     ]
    }
   ],
   "source": [
    "print(factor_goodness_of_fit_test(X, k = 2))\n",
    "\n",
    "for i in range(1, X.shape[1]):\n",
    "    pvalue = factor_goodness_of_fit_test(X, k = i)\n",
    "    if pvalue >= 0.05:\n",
    "        print(\"Found sufficient factors:\")\n",
    "        print(\"FAC| PVAL\")\n",
    "        print(f\" {i} | {pvalue.round(4)}\")\n",
    "        print(f\"({i - 1} | {factor_goodness_of_fit_test(X, k = i - 1).round(4)})\")\n",
    "        break"
   ]
  }
 ],
 "metadata": {
  "kernelspec": {
   "display_name": "Python 3",
   "language": "python",
   "name": "python3"
  },
  "language_info": {
   "codemirror_mode": {
    "name": "ipython",
    "version": 3
   },
   "file_extension": ".py",
   "mimetype": "text/x-python",
   "name": "python",
   "nbconvert_exporter": "python",
   "pygments_lexer": "ipython3",
   "version": "3.11.1"
  }
 },
 "nbformat": 4,
 "nbformat_minor": 5
}
