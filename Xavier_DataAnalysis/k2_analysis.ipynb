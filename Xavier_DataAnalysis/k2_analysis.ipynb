{
 "cells": [
  {
   "cell_type": "code",
   "execution_count": 11,
   "id": "ede84dcb",
   "metadata": {},
   "outputs": [],
   "source": [
    "import pandas as pd\n",
    "import numpy as np\n",
    "\n",
    "import sys\n",
    "import os\n",
    "\n",
    "# Get the current working directory (where the notebook is running)\n",
    "notebook_dir = os.getcwd()\n",
    "\n",
    "# Go up one level to the parent directory\n",
    "parent_dir = os.path.abspath(os.path.join(notebook_dir, '..'))\n",
    "\n",
    "# Add parent directory to sys.path\n",
    "if parent_dir not in sys.path:\n",
    "    sys.path.insert(0, parent_dir)\n",
    "\n",
    "# Now you can import your module\n",
    "from utils import factor_model_solution, factor_goodness_of_fit_test"
   ]
  },
  {
   "cell_type": "markdown",
   "id": "46e7af91",
   "metadata": {},
   "source": [
    "*This notebook does factor analysis on k = 2 pathways, trying to identify the 2 pathways in which DICER1 and GART participate in respectively.*\n",
    "___\n",
    "# $k = 2$ factors | GART & DICER1 pathways"
   ]
  },
  {
   "cell_type": "markdown",
   "id": "bea39025",
   "metadata": {},
   "source": [
    "## Loading and preparing data"
   ]
  },
  {
   "cell_type": "markdown",
   "id": "3b2ce198",
   "metadata": {},
   "source": [
    "See the `k1_[GENE]_initial_analysis.ipynb` notebooks for more intermediate steps than this notebook provides."
   ]
  },
  {
   "cell_type": "code",
   "execution_count": 12,
   "id": "ca9e3b8b",
   "metadata": {},
   "outputs": [],
   "source": [
    "df_gene_effect = pd.read_csv(\"preprocessed_data/20Q4v2_Achilles_gene_effect.csv\")\n",
    "df_correlations = {\n",
    "    \"DICER1\": pd.read_csv(\"preprocessed_data/corr_DICER1_preprocessed.csv\", delimiter=\";\"),\n",
    "    \"GART\": pd.read_csv(\"preprocessed_data/corr_GART_preprocessed.csv\", delimiter=\";\")\n",
    "}"
   ]
  },
  {
   "cell_type": "code",
   "execution_count": 13,
   "id": "e71cd0e5",
   "metadata": {},
   "outputs": [
    {
     "name": "stdout",
     "output_type": "stream",
     "text": [
      "Warning: 10 duplicates were removed.\n"
     ]
    },
    {
     "data": {
      "text/plain": [
       "(808, 10)"
      ]
     },
     "execution_count": 13,
     "metadata": {},
     "output_type": "execute_result"
    }
   ],
   "source": [
    "# Number of genes to include from each corr file taking top X // 2 and bottom X // 2.\n",
    "# Note that the same gene may be selected in both corr files. (But will only appear once in the final selected_genes list.)\n",
    "number_of_genes = 10\n",
    "assert number_of_genes % 2 == 0, \"number_of_genes should be an even number.\"\n",
    "\n",
    "selected_columns = pd.concat([df_correlations[\"DICER1\"][\"gene_evaluated\"][:number_of_genes // 2],\n",
    "                              df_correlations[\"GART\"][\"gene_evaluated\"][:number_of_genes // 2]]).to_list()\n",
    "selected_columns = set(selected_columns)\n",
    "\n",
    "# number_of_genes multiplied by how many corr files we have.\n",
    "number_of_duplicates = (number_of_genes * len(df_correlations)) - len(selected_columns) \n",
    "if number_of_duplicates > 0:\n",
    "    print(f\"Warning: {number_of_duplicates} duplicates were removed.\")\n",
    "\n",
    "# Extract gene names according to the format of gene_effect dataset.\n",
    "selected_columns_gene_effect_format = [column for column in df_gene_effect.columns if column.split(\" \")[0] in selected_columns]\n",
    "\n",
    "# Rough automatic check for whether we found all corresponding columns in gene_effect dataset that we've selected.\n",
    "assert len(selected_columns) == len(selected_columns_gene_effect_format)\n",
    "\n",
    "# Extract columns from gene_effect dataset.\n",
    "X = df_gene_effect[selected_columns_gene_effect_format].dropna() # Is dropping rows with na a good idea? Maybe use mean value instead?\n",
    "X = X.to_numpy()\n",
    "num_dropped_rows = df_gene_effect.shape[0] - X.shape[0]\n",
    "if num_dropped_rows > 0:\n",
    "    print(f\"Warning: {num_dropped_rows} rows contained at least 1 NA and was dropped.\")\n",
    "X.shape"
   ]
  },
  {
   "cell_type": "code",
   "execution_count": null,
   "id": "2fd1fd99",
   "metadata": {},
   "outputs": [],
   "source": [
    "num_random_cols = 10\n",
    "\n",
    "X_with_random_noise = np.hstack([X] + [np.random.random(size=X.shape[0]).reshape(-1, 1) for _ in range(num_random_cols)])\n",
    "\n",
    "X_with_random_noise.shape"
   ]
  },
  {
   "cell_type": "markdown",
   "id": "c5d021e3",
   "metadata": {},
   "source": [
    "## Data Analysis"
   ]
  },
  {
   "cell_type": "code",
   "execution_count": 15,
   "id": "fa34b778",
   "metadata": {},
   "outputs": [
    {
     "data": {
      "text/plain": [
       "array([[-1.06933254e-01, -4.82296829e-01],\n",
       "       [-7.38672358e-02, -4.98351074e-01],\n",
       "       [-8.78955452e-01,  2.97990486e-02],\n",
       "       [-1.92900568e-02, -7.05372629e-01],\n",
       "       [ 7.53123470e-04, -4.15125689e-01],\n",
       "       [-8.77405165e-01,  3.47663605e-02],\n",
       "       [-8.56764210e-01,  2.13592404e-03],\n",
       "       [-9.02038768e-01, -7.74108963e-03],\n",
       "       [-8.41518151e-01, -4.62550212e-04],\n",
       "       [-5.91254143e-02, -6.88276156e-01],\n",
       "       [-3.04771766e-04,  2.41899702e-02],\n",
       "       [ 3.92916425e-02,  1.77157303e-03],\n",
       "       [-4.82947385e-02, -1.92925571e-03],\n",
       "       [ 4.59645138e-02, -1.68302142e-02],\n",
       "       [ 1.57939013e-02, -1.15703570e-02],\n",
       "       [-2.50274027e-02,  3.85573112e-02],\n",
       "       [ 1.27518285e-02,  1.38951707e-02],\n",
       "       [-1.45468115e-02,  2.04623383e-02],\n",
       "       [-5.83680215e-02,  6.08243702e-02],\n",
       "       [-1.44838538e-02, -1.72231046e-02]])"
      ]
     },
     "execution_count": 15,
     "metadata": {},
     "output_type": "execute_result"
    }
   ],
   "source": [
    "_, lambda_hat = factor_model_solution(X_with_random_noise, k = 2)\n",
    "lambda_hat"
   ]
  },
  {
   "cell_type": "code",
   "execution_count": 16,
   "id": "477b40b1",
   "metadata": {},
   "outputs": [],
   "source": [
    "loadings = lambda_hat.T # Extract loadings as a list\n",
    "\n",
    "# Extract gene names (everything before the space)\n",
    "genes = [column.split(\" \")[0] for column in selected_columns_gene_effect_format] \n",
    "\n",
    "genes = genes + [str(i) + \" random col\" for i in range(num_random_cols)]\n",
    "\n",
    "# Create a DataFrame from genes and values\n",
    "df_values = pd.DataFrame({\n",
    "    'gene_evaluated': genes,\n",
    "    'loadings0': loadings[0],\n",
    "    'loadings1': loadings[1]\n",
    "})\n",
    "\n",
    "# Merge with df_correlations on 'gene'\n",
    "merged_df = (df_values\n",
    "             .merge(df_correlations[\"DICER1\"][['gene_evaluated', 'is_on_pathway']], on='gene_evaluated', how='left')\n",
    "             .rename(columns={\"is_on_pathway\": \"is_on_pathway_DICER1\"})\n",
    "             .merge(df_correlations[\"GART\"][['gene_evaluated', 'is_on_pathway']], on='gene_evaluated', how='left')\n",
    "             .rename(columns={\"is_on_pathway\": \"is_on_pathway_GART\"})\n",
    "             )"
   ]
  },
  {
   "cell_type": "code",
   "execution_count": 17,
   "id": "b7646063",
   "metadata": {},
   "outputs": [],
   "source": [
    "# Allow pandas to display wider tables before linebreaking.\n",
    "pd.set_option('display.max_columns', 500)\n",
    "pd.set_option('display.width', 1000)"
   ]
  },
  {
   "cell_type": "markdown",
   "id": "f3bb1ae2",
   "metadata": {},
   "source": [
    "Sorted w.r.t. first factor:"
   ]
  },
  {
   "cell_type": "code",
   "execution_count": 18,
   "id": "a5dae5d4",
   "metadata": {},
   "outputs": [
    {
     "name": "stdout",
     "output_type": "stream",
     "text": [
      "   gene_evaluated  loadings0  loadings1  is_on_pathway_DICER1  is_on_pathway_GART\n",
      "13   3 random col   0.045965  -0.016830                   NaN                 NaN\n",
      "11   1 random col   0.039292   0.001772                   NaN                 NaN\n",
      "14   4 random col   0.015794  -0.011570                   NaN                 NaN\n",
      "16   6 random col   0.012752   0.013895                   NaN                 NaN\n",
      "4          DROSHA   0.000753  -0.415126                   1.0                 0.0\n",
      "10   0 random col  -0.000305   0.024190                   NaN                 NaN\n",
      "19   9 random col  -0.014484  -0.017223                   NaN                 NaN\n",
      "17   7 random col  -0.014547   0.020462                   NaN                 NaN\n",
      "3          DICER1  -0.019290  -0.705373                   1.0                 0.0\n",
      "15   5 random col  -0.025027   0.038557                   NaN                 NaN\n",
      "12   2 random col  -0.048295  -0.001929                   NaN                 NaN\n",
      "18   8 random col  -0.058368   0.060824                   NaN                 NaN\n",
      "9            XPO5  -0.059125  -0.688276                   1.0                 0.0\n",
      "1         ANKRD52  -0.073867  -0.498351                   1.0                 0.0\n",
      "0            AGO2  -0.106933  -0.482297                   1.0                 NaN\n",
      "8            PFAS  -0.841518  -0.000463                   NaN                 1.0\n",
      "6          MTHFD1  -0.856764   0.002136                   NaN                 1.0\n",
      "5            GART  -0.877405   0.034766                   NaN                 1.0\n",
      "2            ATIC  -0.878955   0.029799                   NaN                 1.0\n",
      "7           PAICS  -0.902039  -0.007741                   NaN                 1.0\n"
     ]
    }
   ],
   "source": [
    "print(merged_df.sort_values(\"loadings0\", ascending=False))"
   ]
  },
  {
   "cell_type": "markdown",
   "id": "091d77da",
   "metadata": {},
   "source": [
    "Correctly finds the GART pathway. (Notice the steep drop-off in loading from PFAS to AGO2)"
   ]
  },
  {
   "cell_type": "markdown",
   "id": "58a45d7f",
   "metadata": {},
   "source": [
    "Sorted w.r.t. second factor:"
   ]
  },
  {
   "cell_type": "code",
   "execution_count": 19,
   "id": "ca8b1b5d",
   "metadata": {},
   "outputs": [
    {
     "name": "stdout",
     "output_type": "stream",
     "text": [
      "   gene_evaluated  loadings0  loadings1  is_on_pathway_DICER1  is_on_pathway_GART\n",
      "18   8 random col  -0.058368   0.060824                   NaN                 NaN\n",
      "15   5 random col  -0.025027   0.038557                   NaN                 NaN\n",
      "5            GART  -0.877405   0.034766                   NaN                 1.0\n",
      "2            ATIC  -0.878955   0.029799                   NaN                 1.0\n",
      "10   0 random col  -0.000305   0.024190                   NaN                 NaN\n",
      "17   7 random col  -0.014547   0.020462                   NaN                 NaN\n",
      "16   6 random col   0.012752   0.013895                   NaN                 NaN\n",
      "6          MTHFD1  -0.856764   0.002136                   NaN                 1.0\n",
      "11   1 random col   0.039292   0.001772                   NaN                 NaN\n",
      "8            PFAS  -0.841518  -0.000463                   NaN                 1.0\n",
      "12   2 random col  -0.048295  -0.001929                   NaN                 NaN\n",
      "7           PAICS  -0.902039  -0.007741                   NaN                 1.0\n",
      "14   4 random col   0.015794  -0.011570                   NaN                 NaN\n",
      "13   3 random col   0.045965  -0.016830                   NaN                 NaN\n",
      "19   9 random col  -0.014484  -0.017223                   NaN                 NaN\n",
      "4          DROSHA   0.000753  -0.415126                   1.0                 0.0\n",
      "0            AGO2  -0.106933  -0.482297                   1.0                 NaN\n",
      "1         ANKRD52  -0.073867  -0.498351                   1.0                 0.0\n",
      "9            XPO5  -0.059125  -0.688276                   1.0                 0.0\n",
      "3          DICER1  -0.019290  -0.705373                   1.0                 0.0\n"
     ]
    }
   ],
   "source": [
    "print(merged_df.sort_values(\"loadings1\", ascending=False))"
   ]
  },
  {
   "cell_type": "markdown",
   "id": "7a2c18ef",
   "metadata": {},
   "source": [
    "Correctly finds the DICER1 pathway. (Notice somewhat significant drop-off from DROSHA to HYOU1)"
   ]
  },
  {
   "cell_type": "markdown",
   "id": "2779d7cc",
   "metadata": {},
   "source": [
    "## Goodness of Fit"
   ]
  },
  {
   "cell_type": "code",
   "execution_count": 20,
   "id": "4615c209",
   "metadata": {},
   "outputs": [
    {
     "name": "stdout",
     "output_type": "stream",
     "text": [
      "3.4422929504764765e-09\n",
      "Found sufficient factors:\n",
      "FAC| PVAL\n",
      " 5 | 0.685\n",
      "(4 | 0.0104)\n"
     ]
    }
   ],
   "source": [
    "print(factor_goodness_of_fit_test(X, k = 2))\n",
    "\n",
    "for i in range(1, X.shape[1]):\n",
    "    pvalue = factor_goodness_of_fit_test(X, k = i)\n",
    "    if pvalue >= 0.05:\n",
    "        print(\"Found sufficient factors:\")\n",
    "        print(\"FAC| PVAL\")\n",
    "        print(f\" {i} | {pvalue.round(4)}\")\n",
    "        print(f\"({i - 1} | {factor_goodness_of_fit_test(X, k = i - 1).round(4)})\")\n",
    "        break"
   ]
  },
  {
   "cell_type": "code",
   "execution_count": 50,
   "id": "e4328d7d",
   "metadata": {},
   "outputs": [
    {
     "data": {
      "text/plain": [
       "Text(0, 0.5, '2nd Factor')"
      ]
     },
     "execution_count": 50,
     "metadata": {},
     "output_type": "execute_result"
    },
    {
     "data": {
      "image/png": "[encoded data removed]",
      "text/plain": [
       "<Figure size 640x480 with 1 Axes>"
      ]
     },
     "metadata": {},
     "output_type": "display_data"
    }
   ],
   "source": [
    "import matplotlib.pyplot as plt\n",
    "\n",
    "colors = []\n",
    "for d, g in zip(merged_df['is_on_pathway_DICER1'], merged_df['is_on_pathway_GART']):\n",
    "    if d == 1:\n",
    "        colors.append(\"DICER1\")\n",
    "        continue\n",
    "\n",
    "    if g == 1:\n",
    "        colors.append(\"GART\")\n",
    "        continue\n",
    "\n",
    "    colors.append(\"RANDOM\")\n",
    "\n",
    "merged_df['category'] = colors\n",
    "\n",
    "for label in [\"DICER1\", \"GART\", \"RANDOM\"]:\n",
    "    subset = merged_df[merged_df['category'] == label]\n",
    "    plt.scatter(subset['loadings0'], subset['loadings1'], label=label)\n",
    "plt.title(\"Factor Analysis on pathways DICER1 & GART\")\n",
    "plt.legend()\n",
    "plt.xlabel(\"1st Factor\")\n",
    "plt.ylabel(\"2nd Factor\")"
   ]
  }
 ],
 "metadata": {
  "kernelspec": {
   "display_name": "Python 3",
   "language": "python",
   "name": "python3"
  },
  "language_info": {
   "codemirror_mode": {
    "name": "ipython",
    "version": 3
   },
   "file_extension": ".py",
   "mimetype": "text/x-python",
   "name": "python",
   "nbconvert_exporter": "python",
   "pygments_lexer": "ipython3",
   "version": "3.11.1"
  }
 },
 "nbformat": 4,
 "nbformat_minor": 5
}
