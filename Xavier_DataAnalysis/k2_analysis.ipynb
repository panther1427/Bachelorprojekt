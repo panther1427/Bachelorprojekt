{
 "cells": [
  {
   "cell_type": "code",
   "execution_count": 49,
   "id": "ede84dcb",
   "metadata": {},
   "outputs": [],
   "source": [
    "import pandas as pd\n",
    "import numpy as np\n",
    "\n",
    "import sys\n",
    "import os\n",
    "\n",
    "# Get the current working directory (where the notebook is running)\n",
    "notebook_dir = os.getcwd()\n",
    "\n",
    "# Go up one level to the parent directory\n",
    "parent_dir = os.path.abspath(os.path.join(notebook_dir, '..'))\n",
    "\n",
    "# Add parent directory to sys.path\n",
    "if parent_dir not in sys.path:\n",
    "    sys.path.insert(0, parent_dir)\n",
    "\n",
    "# Now you can import your module\n",
    "from utils import factor_model_solution, factor_goodness_of_fit_test"
   ]
  },
  {
   "cell_type": "markdown",
   "id": "46e7af91",
   "metadata": {},
   "source": [
    "*This notebook does factor analysis on k = 2 pathways, trying to identify the 2 pathways in which DICER1 and GART participate in respectively.*\n",
    "___\n",
    "# $k = 2$ factors | GART & DICER1 pathways"
   ]
  },
  {
   "cell_type": "markdown",
   "id": "bea39025",
   "metadata": {},
   "source": [
    "## Loading and preparing data"
   ]
  },
  {
   "cell_type": "markdown",
   "id": "3b2ce198",
   "metadata": {},
   "source": [
    "See the `k1_[GENE]_initial_analysis.ipynb` notebooks for more intermediate steps than this notebook provides."
   ]
  },
  {
   "cell_type": "code",
   "execution_count": 50,
   "id": "51fc3b6a",
   "metadata": {},
   "outputs": [],
   "source": [
    "df_gene_effect = pd.read_csv(\"preprocessed_data/20Q4v2_Achilles_gene_effect.csv\")\n",
    "df_correlations = {\n",
    "    \"DICER1\": pd.read_csv(\"preprocessed_data/corr_DICER1_preprocessed.csv\", delimiter=\";\"),\n",
    "    \"GART\": pd.read_csv(\"preprocessed_data/corr_GART_preprocessed.csv\", delimiter=\";\")\n",
    "}\n"
   ]
  },
  {
   "cell_type": "code",
   "execution_count": null,
   "id": "ca9e3b8b",
   "metadata": {},
   "outputs": [
    {
     "name": "stdout",
     "output_type": "stream",
     "text": [
      "WARNING: 2 column were not found in the database.\n",
      "WARNING: 30 rows contained at least 1 NA and was dropped.\n"
     ]
    },
    {
     "data": {
      "text/plain": [
       "(778, 78)"
      ]
     },
     "execution_count": 51,
     "metadata": {},
     "output_type": "execute_result"
    }
   ],
   "source": [
    "# Number of genes to include from each corr file taking top X // 2 and bottom X // 2.\n",
    "# Note that the same gene may be selected in both corr files. (But will only appear once in the final selected_genes list.)\n",
    "number_of_genes = 40\n",
    "\n",
    "assert number_of_genes % 2 == 0, \"number_of_genes should be an even number.\"\n",
    "\n",
    "selected_columns = pd.concat([df_correlations[\"DICER1\"][\"gene_evaluated\"][:number_of_genes // 2],\n",
    "                              df_correlations[\"DICER1\"][\"gene_evaluated\"][-number_of_genes // 2:],\n",
    "                              df_correlations[\"GART\"][\"gene_evaluated\"][:number_of_genes // 2],\n",
    "                              df_correlations[\"GART\"][\"gene_evaluated\"][-number_of_genes // 2:]]).to_list()\n",
    "selected_columns = set(selected_columns)\n",
    "\n",
    "# number_of_genes multiplied by how many corr files we have.\n",
    "number_of_duplicates = (number_of_genes * len(df_correlations)) - len(selected_columns) \n",
    "if number_of_duplicates > 0:\n",
    "    print(f\"WARNING: {number_of_duplicates} duplicates were removed.\")\n",
    "\n",
    "# Extract gene names according to the format of gene_effect dataset.\n",
    "selected_columns_gene_effect_format = [column for column in df_gene_effect.columns if column.split(\" \")[0] in selected_columns]\n",
    "\n",
    "# Rough automatic check for whether we found all corresponding columns in gene_effect dataset that we've selected.\n",
    "if not len(selected_columns) == len(selected_columns_gene_effect_format):\n",
    "    print(f\"WARNING: {len(selected_columns) - len(selected_columns_gene_effect_format)} column were not found in the database.\")\n",
    "\n",
    "# Extract columns from gene_effect dataset.\n",
    "X = df_gene_effect[selected_columns_gene_effect_format].dropna() # Is dropping rows with na a good idea? Maybe use mean value instead?\n",
    "X = X.to_numpy()\n",
    "num_dropped_rows = df_gene_effect.shape[0] - X.shape[0]\n",
    "if num_dropped_rows > 0:\n",
    "    print(f\"WARNING: {num_dropped_rows} rows contained at least 1 NA and was dropped.\")\n",
    "X.shape"
   ]
  },
  {
   "cell_type": "code",
   "execution_count": 52,
   "id": "2fd1fd99",
   "metadata": {},
   "outputs": [
    {
     "data": {
      "text/plain": [
       "(778, 78)"
      ]
     },
     "execution_count": 52,
     "metadata": {},
     "output_type": "execute_result"
    }
   ],
   "source": [
    "num_random_cols = 20\n",
    "add_random = False\n",
    "\n",
    "if add_random:\n",
    "    X = np.hstack([X] + [np.random.random(size=X.shape[0]).reshape(-1, 1) for _ in range(num_random_cols)])\n",
    "\n",
    "X.shape"
   ]
  },
  {
   "cell_type": "markdown",
   "id": "c5d021e3",
   "metadata": {},
   "source": [
    "## Data Analysis"
   ]
  },
  {
   "cell_type": "code",
   "execution_count": 53,
   "id": "fa34b778",
   "metadata": {},
   "outputs": [
    {
     "data": {
      "text/plain": [
       "array([[ 0.03541632, -0.01083866],\n",
       "       [-0.80913396,  0.00511538],\n",
       "       [-0.07021311,  0.42964709],\n",
       "       [-0.07602636,  0.40475621],\n",
       "       [-0.8652533 ,  0.00117935],\n",
       "       [ 0.06009843,  0.16919403],\n",
       "       [ 0.00329713, -0.10605155],\n",
       "       [-0.6882036 ,  0.01280755],\n",
       "       [ 0.03416358,  0.06358596],\n",
       "       [ 0.01746349, -0.07831078],\n",
       "       [ 0.14642018,  0.03931324],\n",
       "       [ 0.12820419,  0.29784039],\n",
       "       [-0.6713473 , -0.06681368],\n",
       "       [-0.72262949,  0.02265679],\n",
       "       [ 0.00103836,  0.80476879],\n",
       "       [ 0.11529548,  0.35089863],\n",
       "       [ 0.05727633,  0.26796681],\n",
       "       [ 0.00875446,  0.40234215],\n",
       "       [-0.1121641 ,  0.25441507],\n",
       "       [ 0.04171461, -0.15431767],\n",
       "       [-0.72433862, -0.03406309],\n",
       "       [-0.85956552, -0.02336988],\n",
       "       [-0.70412493, -0.03602457],\n",
       "       [ 0.06640027, -0.13086003],\n",
       "       [ 0.16726291,  0.20181205],\n",
       "       [ 0.03274647,  0.12255635],\n",
       "       [-0.09076393,  0.00622548],\n",
       "       [-0.04727988, -0.12413862],\n",
       "       [ 0.14228673, -0.01014798],\n",
       "       [-0.11101533, -0.24254446],\n",
       "       [-0.13670932,  0.13284902],\n",
       "       [-0.27127142,  0.22617213],\n",
       "       [-0.02810614,  0.17984221],\n",
       "       [-0.01930374, -0.01220481],\n",
       "       [-0.04150534,  0.2800896 ],\n",
       "       [-0.83334029,  0.04473047],\n",
       "       [-0.02497947,  0.0420763 ],\n",
       "       [-0.66006574, -0.07915474],\n",
       "       [ 0.08840256, -0.1263117 ],\n",
       "       [ 0.10676548, -0.00591537],\n",
       "       [ 0.11077063, -0.22236849],\n",
       "       [ 0.03068221,  0.09676443],\n",
       "       [-0.00680307, -0.14989111],\n",
       "       [ 0.02841204,  0.20180574],\n",
       "       [-0.02899367,  0.0655909 ],\n",
       "       [-0.89374227,  0.00601122],\n",
       "       [ 0.02852303,  0.08064961],\n",
       "       [ 0.14378355, -0.0471775 ],\n",
       "       [-0.82363538,  0.04068931],\n",
       "       [ 0.05265164, -0.01385057],\n",
       "       [ 0.0672934 ,  0.04393249],\n",
       "       [ 0.11412604,  0.10527433],\n",
       "       [ 0.2082825 ,  0.12779203],\n",
       "       [-0.84968844, -0.05901384],\n",
       "       [-0.61773269,  0.09753198],\n",
       "       [ 0.01961295,  0.06982242],\n",
       "       [ 0.06226311,  0.02242609],\n",
       "       [-0.100723  , -0.18031356],\n",
       "       [-0.04460511,  0.28686643],\n",
       "       [-0.59239236,  0.01268933],\n",
       "       [ 0.0819782 , -0.06813623],\n",
       "       [-0.03879844,  0.12471195],\n",
       "       [-0.60697504,  0.01502616],\n",
       "       [-0.68643114, -0.05883178],\n",
       "       [ 0.04804571,  0.10952492],\n",
       "       [ 0.27003435, -0.06798534],\n",
       "       [ 0.05026733, -0.11938734],\n",
       "       [-0.68704846, -0.01654068],\n",
       "       [ 0.08212663,  0.00476492],\n",
       "       [ 0.13268201, -0.14008366],\n",
       "       [-0.08130871,  0.2147863 ],\n",
       "       [ 0.02347828,  0.20330025],\n",
       "       [-0.00696932, -0.14832217],\n",
       "       [-0.71061084,  0.02190204],\n",
       "       [ 0.01902081, -0.11536282],\n",
       "       [-0.131706  ,  0.24053639],\n",
       "       [-0.06213373,  0.57857697],\n",
       "       [ 0.04588234,  0.10205438]])"
      ]
     },
     "execution_count": 53,
     "metadata": {},
     "output_type": "execute_result"
    }
   ],
   "source": [
    "_, lambda_hat = factor_model_solution(X, k = 2)\n",
    "lambda_hat"
   ]
  },
  {
   "cell_type": "code",
   "execution_count": 54,
   "id": "477b40b1",
   "metadata": {},
   "outputs": [],
   "source": [
    "loadings = lambda_hat.T # Extract loadings as a list\n",
    "\n",
    "# Extract gene names (everything before the space)\n",
    "genes = [column.split(\" \")[0] for column in selected_columns_gene_effect_format] \n",
    "\n",
    "if add_random:\n",
    "    genes = genes + [str(i) + \" random col\" for i in range(num_random_cols)]\n",
    "\n",
    "# Create a DataFrame from genes and values\n",
    "df_values = pd.DataFrame({\n",
    "    'gene_evaluated': genes,\n",
    "    'loadings0': loadings[0],\n",
    "    'loadings1': loadings[1]\n",
    "})\n",
    "\n",
    "# Merge with df_correlations on 'gene'\n",
    "merged_df = (df_values\n",
    "             .merge(df_correlations[\"DICER1\"][['gene_evaluated', 'is_on_pathway']], on='gene_evaluated', how='left')\n",
    "             .rename(columns={\"is_on_pathway\": \"is_on_pathway_DICER1\"})\n",
    "             .merge(df_correlations[\"GART\"][['gene_evaluated', 'is_on_pathway']], on='gene_evaluated', how='left')\n",
    "             .rename(columns={\"is_on_pathway\": \"is_on_pathway_GART\"})\n",
    "             )"
   ]
  },
  {
   "cell_type": "code",
   "execution_count": 55,
   "id": "b7646063",
   "metadata": {},
   "outputs": [],
   "source": [
    "# Allow pandas to display wider tables before linebreaking.\n",
    "pd.set_option('display.max_columns', 500)\n",
    "pd.set_option('display.width', 1000)"
   ]
  },
  {
   "cell_type": "markdown",
   "id": "f3bb1ae2",
   "metadata": {},
   "source": [
    "Sorted w.r.t. first factor:"
   ]
  },
  {
   "cell_type": "code",
   "execution_count": 56,
   "id": "a5dae5d4",
   "metadata": {},
   "outputs": [
    {
     "name": "stdout",
     "output_type": "stream",
     "text": [
      "   gene_evaluated  loadings0  loadings1  is_on_pathway_DICER1  is_on_pathway_GART\n",
      "65       SLC25A28   0.270034  -0.067985                   0.0                 0.0\n",
      "52           POP4   0.208283   0.127792                   0.0                 NaN\n",
      "24          HYOU1   0.167263   0.201812                   0.0                 0.0\n",
      "10         CEP135   0.146420   0.039313                   NaN                 0.0\n",
      "47           PCNT   0.143784  -0.047177                   NaN                 0.0\n",
      "..            ...        ...        ...                   ...                 ...\n",
      "35         MTHFD1  -0.833340   0.044730                   NaN                 1.0\n",
      "53           PPAT  -0.849688  -0.059014                   NaN                 1.0\n",
      "21           GART  -0.859566  -0.023370                   NaN                 1.0\n",
      "4            ATIC  -0.865253   0.001179                   NaN                 1.0\n",
      "45          PAICS  -0.893742   0.006011                   NaN                 1.0\n",
      "\n",
      "[78 rows x 5 columns]\n"
     ]
    }
   ],
   "source": [
    "print(merged_df.sort_values(\"loadings0\", ascending=False))"
   ]
  },
  {
   "cell_type": "markdown",
   "id": "091d77da",
   "metadata": {},
   "source": [
    "Correctly finds the GART pathway. "
   ]
  },
  {
   "cell_type": "markdown",
   "id": "58a45d7f",
   "metadata": {},
   "source": [
    "Sorted w.r.t. second factor:"
   ]
  },
  {
   "cell_type": "code",
   "execution_count": 57,
   "id": "ca8b1b5d",
   "metadata": {},
   "outputs": [
    {
     "name": "stdout",
     "output_type": "stream",
     "text": [
      "   gene_evaluated  loadings0  loadings1  is_on_pathway_DICER1  is_on_pathway_GART\n",
      "14         DICER1   0.001038   0.804769                   1.0                 0.0\n",
      "76           XPO5  -0.062134   0.578577                   1.0                 0.0\n",
      "2            AGO2  -0.070213   0.429647                   1.0                 NaN\n",
      "3         ANKRD52  -0.076026   0.404756                   1.0                 0.0\n",
      "17         DROSHA   0.008754   0.402342                   1.0                 0.0\n",
      "..            ...        ...        ...                   ...                 ...\n",
      "42         ORMDL2  -0.006803  -0.149891                   0.0                 NaN\n",
      "19        FAM151B   0.041715  -0.154318                   NaN                 0.0\n",
      "57           PTEN  -0.100723  -0.180314                   0.0                 0.0\n",
      "40         NKX6-3   0.110771  -0.222368                   0.0                 NaN\n",
      "29         MAP4K4  -0.111015  -0.242544                   0.0                 NaN\n",
      "\n",
      "[78 rows x 5 columns]\n"
     ]
    }
   ],
   "source": [
    "print(merged_df.sort_values(\"loadings1\", ascending=False))"
   ]
  },
  {
   "cell_type": "markdown",
   "id": "7a2c18ef",
   "metadata": {},
   "source": [
    "Correctly finds the DICER1 pathway. (Notice somewhat significant drop-off from DROSHA to HYOU1)"
   ]
  },
  {
   "cell_type": "markdown",
   "id": "2779d7cc",
   "metadata": {},
   "source": [
    "## Goodness of Fit"
   ]
  },
  {
   "cell_type": "code",
   "execution_count": 58,
   "id": "4615c209",
   "metadata": {},
   "outputs": [],
   "source": [
    "# print(factor_goodness_of_fit_test(X, k = 2))\n",
    "\n",
    "# for i in range(1, X.shape[1]):\n",
    "#     pvalue = factor_goodness_of_fit_test(X, k = i)\n",
    "#     if pvalue >= 0.05:\n",
    "#         print(\"Found sufficient factors:\")\n",
    "#         print(\"FAC| PVAL\")\n",
    "#         print(f\" {i} | {pvalue.round(4)}\")\n",
    "#         print(f\"({i - 1} | {factor_goodness_of_fit_test(X, k = i - 1).round(4)})\")\n",
    "#         break"
   ]
  },
  {
   "cell_type": "markdown",
   "id": "f1bd5d09",
   "metadata": {},
   "source": [
    "## Plotting"
   ]
  },
  {
   "cell_type": "code",
   "execution_count": 59,
   "id": "e4328d7d",
   "metadata": {},
   "outputs": [
    {
     "data": {
      "text/plain": [
       "Text(0, 0.5, '2nd Factor')"
      ]
     },
     "execution_count": 59,
     "metadata": {},
     "output_type": "execute_result"
    },
    {
     "data": {
      "image/png": "[encoded data removed]",
      "text/plain": [
       "<Figure size 640x480 with 1 Axes>"
      ]
     },
     "metadata": {},
     "output_type": "display_data"
    }
   ],
   "source": [
    "import matplotlib.pyplot as plt\n",
    "\n",
    "colors = []\n",
    "for d, g in zip(merged_df['is_on_pathway_DICER1'], merged_df['is_on_pathway_GART']):\n",
    "    if d == 1:\n",
    "        colors.append(\"DICER1\")\n",
    "        continue\n",
    "\n",
    "    if g == 1:\n",
    "        colors.append(\"GART\")\n",
    "        continue\n",
    "\n",
    "    colors.append(\"OTHER\")\n",
    "\n",
    "merged_df['category'] = colors\n",
    "\n",
    "for label in [\"DICER1\", \"GART\", \"OTHER\"]:\n",
    "    subset = merged_df[merged_df['category'] == label]\n",
    "    plt.scatter(subset['loadings0'], subset['loadings1'], label=label, alpha=0.9)\n",
    "plt.title(\"Factor Analysis on pathways DICER1 & GART, p=\" + str(len(merged_df)))\n",
    "plt.legend()\n",
    "plt.xlabel(\"1st Factor\")\n",
    "plt.ylabel(\"2nd Factor\")"
   ]
  },
  {
   "cell_type": "code",
   "execution_count": 60,
   "id": "627e5101",
   "metadata": {},
   "outputs": [
    {
     "name": "stdout",
     "output_type": "stream",
     "text": [
      "cycle:\t1\ttheta:\t0.0\tpair:\t(0, 1)\tobjective:\t26.976372001252443\n",
      "Phi has converged; Algorithm ending early.\n"
     ]
    },
    {
     "data": {
      "text/html": [
       "<div>\n",
       "<style scoped>\n",
       "    .dataframe tbody tr th:only-of-type {\n",
       "        vertical-align: middle;\n",
       "    }\n",
       "\n",
       "    .dataframe tbody tr th {\n",
       "        vertical-align: top;\n",
       "    }\n",
       "\n",
       "    .dataframe thead th {\n",
       "        text-align: right;\n",
       "    }\n",
       "</style>\n",
       "<table border=\"1\" class=\"dataframe\">\n",
       "  <thead>\n",
       "    <tr style=\"text-align: right;\">\n",
       "      <th></th>\n",
       "      <th>gene_evaluated</th>\n",
       "      <th>loadings0</th>\n",
       "      <th>loadings1</th>\n",
       "      <th>is_on_pathway_DICER1</th>\n",
       "      <th>is_on_pathway_GART</th>\n",
       "      <th>category</th>\n",
       "    </tr>\n",
       "  </thead>\n",
       "  <tbody>\n",
       "    <tr>\n",
       "      <th>0</th>\n",
       "      <td>ACD</td>\n",
       "      <td>0.035416</td>\n",
       "      <td>-0.010839</td>\n",
       "      <td>NaN</td>\n",
       "      <td>0.0</td>\n",
       "      <td>OTHER</td>\n",
       "    </tr>\n",
       "    <tr>\n",
       "      <th>1</th>\n",
       "      <td>ADSL</td>\n",
       "      <td>-0.809134</td>\n",
       "      <td>0.005115</td>\n",
       "      <td>NaN</td>\n",
       "      <td>1.0</td>\n",
       "      <td>GART</td>\n",
       "    </tr>\n",
       "    <tr>\n",
       "      <th>2</th>\n",
       "      <td>AGO2</td>\n",
       "      <td>-0.070213</td>\n",
       "      <td>0.429647</td>\n",
       "      <td>1.0</td>\n",
       "      <td>NaN</td>\n",
       "      <td>DICER1</td>\n",
       "    </tr>\n",
       "    <tr>\n",
       "      <th>3</th>\n",
       "      <td>ANKRD52</td>\n",
       "      <td>-0.076026</td>\n",
       "      <td>0.404756</td>\n",
       "      <td>1.0</td>\n",
       "      <td>0.0</td>\n",
       "      <td>DICER1</td>\n",
       "    </tr>\n",
       "    <tr>\n",
       "      <th>4</th>\n",
       "      <td>ATIC</td>\n",
       "      <td>-0.865253</td>\n",
       "      <td>0.001179</td>\n",
       "      <td>NaN</td>\n",
       "      <td>1.0</td>\n",
       "      <td>GART</td>\n",
       "    </tr>\n",
       "  </tbody>\n",
       "</table>\n",
       "</div>"
      ],
      "text/plain": [
       "  gene_evaluated  loadings0  loadings1  is_on_pathway_DICER1  is_on_pathway_GART category\n",
       "0            ACD   0.035416  -0.010839                   NaN                 0.0    OTHER\n",
       "1           ADSL  -0.809134   0.005115                   NaN                 1.0     GART\n",
       "2           AGO2  -0.070213   0.429647                   1.0                 NaN   DICER1\n",
       "3        ANKRD52  -0.076026   0.404756                   1.0                 0.0   DICER1\n",
       "4           ATIC  -0.865253   0.001179                   NaN                 1.0     GART"
      ]
     },
     "execution_count": 60,
     "metadata": {},
     "output_type": "execute_result"
    }
   ],
   "source": [
    "from utils import varimax\n",
    "\n",
    "rotated_lambda = varimax(np.array([merged_df['loadings0'], merged_df['loadings1']]).T, verbose=True)\n",
    "rotated_df = merged_df.copy()\n",
    "rotated_df['loadings0'] = rotated_lambda[:,0]\n",
    "rotated_df['loadings1'] = rotated_lambda[:,1]\n",
    "rotated_df.head()"
   ]
  },
  {
   "cell_type": "code",
   "execution_count": 61,
   "id": "54d48e3b",
   "metadata": {},
   "outputs": [
    {
     "data": {
      "text/plain": [
       "Text(0, 0.5, '2nd Factor')"
      ]
     },
     "execution_count": 61,
     "metadata": {},
     "output_type": "execute_result"
    },
    {
     "data": {
      "image/png": "[encoded data removed]",
      "text/plain": [
       "<Figure size 640x480 with 1 Axes>"
      ]
     },
     "metadata": {},
     "output_type": "display_data"
    }
   ],
   "source": [
    "for label in [\"DICER1\", \"GART\", \"OTHER\"]:\n",
    "    subset = rotated_df[rotated_df['category'] == label]\n",
    "    plt.scatter(subset['loadings0'], subset['loadings1'], label=label, alpha=0.9)\n",
    "\n",
    "plt.title(\"Factor Analysis on pathways DICER1 & GART\")\n",
    "plt.legend()\n",
    "plt.xlabel(\"1st Factor\")\n",
    "plt.ylabel(\"2nd Factor\")"
   ]
  }
 ],
 "metadata": {
  "kernelspec": {
   "display_name": "Python 3",
   "language": "python",
   "name": "python3"
  },
  "language_info": {
   "codemirror_mode": {
    "name": "ipython",
    "version": 3
   },
   "file_extension": ".py",
   "mimetype": "text/x-python",
   "name": "python",
   "nbconvert_exporter": "python",
   "pygments_lexer": "ipython3",
   "version": "3.11.1"
  }
 },
 "nbformat": 4,
 "nbformat_minor": 5
}
