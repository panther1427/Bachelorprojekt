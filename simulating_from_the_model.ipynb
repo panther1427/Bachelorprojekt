{
 "cells": [
  {
   "cell_type": "code",
   "execution_count": 1,
   "metadata": {},
   "outputs": [],
   "source": [
    "import numpy as np"
   ]
  },
  {
   "cell_type": "markdown",
   "metadata": {},
   "source": [
    "Step by step, k = 1:"
   ]
  },
  {
   "cell_type": "code",
   "execution_count": 2,
   "metadata": {},
   "outputs": [],
   "source": [
    "p = 5\n",
    "k = 1\n",
    "\n",
    "factor_loadings = np.array([2,2,2,2,2])\n",
    "\n",
    "factor_vector = np.random.multivariate_normal(np.zeros(k), np.eye(k))\n",
    "\n",
    "specific_variance = [2,3,5,8,9]\n",
    "u = np.random.multivariate_normal(np.zeros(p), np.diag(specific_variance))\n",
    "\n",
    "mu = np.array([70, 70, 50, 30, 30])"
   ]
  },
  {
   "cell_type": "code",
   "execution_count": 3,
   "metadata": {},
   "outputs": [
    {
     "data": {
      "text/plain": [
       "array([71.31798067, 69.13652953, 50.21527753, 27.89618382, 29.40788381])"
      ]
     },
     "execution_count": 3,
     "metadata": {},
     "output_type": "execute_result"
    }
   ],
   "source": [
    "x = factor_loadings * factor_vector + u + mu\n",
    "x"
   ]
  },
  {
   "cell_type": "markdown",
   "metadata": {},
   "source": [
    "Define function to simulate:"
   ]
  },
  {
   "cell_type": "code",
   "execution_count": 16,
   "metadata": {},
   "outputs": [],
   "source": [
    "def sim_factor_model(loadings, specific_variance, mu, nsim=1, verbose=True):\n",
    "    \"\"\"\n",
    "    Parameters\n",
    "    ---\n",
    "        loadings:           (p, k) matrix\n",
    "        specific_variance:  (p, p) diagonal matrix of specific variances\n",
    "        mu:                 (p, 1) vector of means\n",
    "        nsim:               How many observations should be simulated\n",
    "\n",
    "    Returns\n",
    "    ---\n",
    "        (n, p) matrix of observations from the specified factor model\n",
    "\n",
    "    \"\"\"\n",
    "    k = loadings.shape[1]\n",
    "    p = len(specific_variance)\n",
    "    print(f\"{k=} {p=}\") if verbose else \"\"\n",
    "    X = []\n",
    "    for _ in range(nsim):\n",
    "        factor_vector = np.random.multivariate_normal(np.zeros(k), np.eye(k))\n",
    "        u = np.random.multivariate_normal(np.zeros(p), np.diag(specific_variance))\n",
    "\n",
    "        X.append(loadings @ factor_vector + u + mu)\n",
    "\n",
    "    return np.array(X)"
   ]
  },
  {
   "cell_type": "markdown",
   "metadata": {},
   "source": [
    "General k = 1:"
   ]
  },
  {
   "cell_type": "code",
   "execution_count": 17,
   "metadata": {},
   "outputs": [
    {
     "name": "stdout",
     "output_type": "stream",
     "text": [
      "k=1 p=5\n"
     ]
    }
   ],
   "source": [
    "loadings = np.array([[2, 2, 2, 2, 2]]).T\n",
    "specific_variance = np.array([2, 2, 10, 1, 1])\n",
    "mu = np.array([10, 20, 30, 40, 50])\n",
    "\n",
    "X = sim_factor_model(loadings, specific_variance, mu, nsim=10**4)"
   ]
  },
  {
   "cell_type": "markdown",
   "metadata": {},
   "source": [
    "Testing hypothesis:\n",
    "$$\n",
    "S \\approx \\Lambda \\Lambda' + \\Psi\n",
    "$$"
   ]
  },
  {
   "cell_type": "code",
   "execution_count": 19,
   "metadata": {},
   "outputs": [
    {
     "name": "stdout",
     "output_type": "stream",
     "text": [
      "Covariance matrix (ROUNDED):\n",
      "[[ 5.89  3.91  4.08  3.95  4.  ]\n",
      " [ 3.91  5.98  4.06  3.96  3.98]\n",
      " [ 4.08  4.06 14.14  4.1   4.09]\n",
      " [ 3.95  3.96  4.1   4.99  3.99]\n",
      " [ 4.    3.98  4.09  3.99  5.02]]\n",
      "Approximation:\n",
      "[[ 6  4  4  4  4]\n",
      " [ 4  6  4  4  4]\n",
      " [ 4  4 14  4  4]\n",
      " [ 4  4  4  5  4]\n",
      " [ 4  4  4  4  5]]\n"
     ]
    }
   ],
   "source": [
    "cov = np.cov(X.T)\n",
    "print(\"Covariance matrix (ROUNDED):\\n\", cov.round(2), sep=\"\")\n",
    "\n",
    "approximation = loadings @ loadings.T + np.diag(specific_variance)\n",
    "print(\"Approximation:\\n\", approximation, sep=\"\")"
   ]
  },
  {
   "cell_type": "markdown",
   "metadata": {},
   "source": [
    "General k = 2:"
   ]
  },
  {
   "cell_type": "code",
   "execution_count": 21,
   "metadata": {},
   "outputs": [
    {
     "name": "stdout",
     "output_type": "stream",
     "text": [
      "k=2 p=5\n"
     ]
    }
   ],
   "source": [
    "loadings = np.array([[2, 2, 2, 2, 2],\n",
    "                     [1, 1, 0, -1, -1]]).T\n",
    "specific_variance = np.array([2, 2, 10, 1, 1])\n",
    "mu = np.array([10, 20, 30, 40, 50])\n",
    "\n",
    "X = sim_factor_model(loadings, specific_variance, mu, nsim=10**4)"
   ]
  },
  {
   "cell_type": "code",
   "execution_count": 22,
   "metadata": {},
   "outputs": [
    {
     "name": "stdout",
     "output_type": "stream",
     "text": [
      "Covariance matrix (ROUNDED):\n",
      "[[ 7.11  5.12  4.04  3.    3.  ]\n",
      " [ 5.12  7.15  4.02  3.09  3.09]\n",
      " [ 4.04  4.02 14.04  3.97  4.  ]\n",
      " [ 3.    3.09  3.97  5.95  4.98]\n",
      " [ 3.    3.09  4.    4.98  6.03]]\n",
      "Approximation:\n",
      "[[ 7  5  4  3  3]\n",
      " [ 5  7  4  3  3]\n",
      " [ 4  4 14  4  4]\n",
      " [ 3  3  4  6  5]\n",
      " [ 3  3  4  5  6]]\n"
     ]
    }
   ],
   "source": [
    "cov = np.cov(X.T)\n",
    "print(\"Covariance matrix (ROUNDED):\\n\", cov.round(2), sep=\"\")\n",
    "\n",
    "approximation = loadings @ loadings.T + np.diag(specific_variance)\n",
    "print(\"Approximation:\\n\", approximation, sep=\"\")"
   ]
  },
  {
   "cell_type": "markdown",
   "metadata": {},
   "source": [
    "Hypothesis holds!"
   ]
  },
  {
   "cell_type": "markdown",
   "metadata": {},
   "source": [
    "Lets try breaking constraint (9.2.7):"
   ]
  },
  {
   "cell_type": "markdown",
   "metadata": {},
   "source": [
    "$$\n",
    "\\Lambda' \\Psi^{-1} \\Lambda \\text{ must be diagonal}\n",
    "$$\n",
    "It implies that\n",
    "$$\n",
    "\\left( \\Lambda' \\Psi^{-1} \\Lambda \\right)_{12} = \\frac{2}{\\psi_{11}} + \\frac{2}{\\psi_{22}} - \\frac{1}{\\psi_{44}} - \\frac{1}{\\psi_{55}} = 0\n",
    "$$"
   ]
  },
  {
   "cell_type": "code",
   "execution_count": 23,
   "metadata": {},
   "outputs": [
    {
     "data": {
      "text/plain": [
       "False"
      ]
     },
     "execution_count": 23,
     "metadata": {},
     "output_type": "execute_result"
    }
   ],
   "source": [
    "off_diagonal = 2/1 + 2/2 - 1/3 - 1/4\n",
    "off_diagonal == 0"
   ]
  },
  {
   "cell_type": "code",
   "execution_count": 24,
   "metadata": {},
   "outputs": [
    {
     "name": "stdout",
     "output_type": "stream",
     "text": [
      "k=2 p=5\n",
      "Covariance matrix (ROUNDED):\n",
      "[[ 6.16  5.11  4.04  3.05  3.04]\n",
      " [ 5.11  7.    4.18  3.03  3.  ]\n",
      " [ 4.04  4.18 95.44  4.03  4.45]\n",
      " [ 3.05  3.03  4.03  8.12  5.07]\n",
      " [ 3.04  3.    4.45  5.07  9.07]]\n",
      "Approximation:\n",
      "[[ 6  5  4  3  3]\n",
      " [ 5  7  4  3  3]\n",
      " [ 4  4 94  4  4]\n",
      " [ 3  3  4  8  5]\n",
      " [ 3  3  4  5  9]]\n"
     ]
    }
   ],
   "source": [
    "loadings = np.array([[2, 2, 2, 2, 2],\n",
    "                     [1, 1, 0, -1, -1]]).T\n",
    "specific_variance = np.array([1, 2 , 90, 3, 4]) # Here the constraint 9.2.7 breaks\n",
    "mu = np.array([10, 20, 30, 40, 50])\n",
    "\n",
    "X = sim_factor_model(loadings, specific_variance, mu, nsim=10**4)\n",
    "\n",
    "cov = np.cov(X.T)\n",
    "print(\"Covariance matrix (ROUNDED):\\n\", cov.round(2), sep=\"\")\n",
    "\n",
    "approximation = loadings @ loadings.T + np.diag(specific_variance)\n",
    "print(\"Approximation:\\n\", approximation, sep=\"\")"
   ]
  },
  {
   "cell_type": "markdown",
   "metadata": {},
   "source": [
    "Note that this is just to remove the indeterminacy - The model stills works. (pretty sure at least :S)"
   ]
  }
 ],
 "metadata": {
  "kernelspec": {
   "display_name": "Python 3",
   "language": "python",
   "name": "python3"
  },
  "language_info": {
   "codemirror_mode": {
    "name": "ipython",
    "version": 3
   },
   "file_extension": ".py",
   "mimetype": "text/x-python",
   "name": "python",
   "nbconvert_exporter": "python",
   "pygments_lexer": "ipython3",
   "version": "3.11.1"
  }
 },
 "nbformat": 4,
 "nbformat_minor": 2
}
