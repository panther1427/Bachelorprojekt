{
 "cells": [
  {
   "cell_type": "markdown",
   "metadata": {},
   "source": [
    "# Varimax Rotation\n",
    "## Theory"
   ]
  },
  {
   "cell_type": "markdown",
   "metadata": {},
   "source": [
    "$$\n",
    "\\Delta = \\Lambda \\textbf{G}\n",
    "$$\n",
    "\n",
    "$\\Lambda$ is pxk matrix of unrotated loadings, $\\textbf{G}$ is kxk orthogonal rotation matrix."
   ]
  },
  {
   "cell_type": "markdown",
   "metadata": {},
   "source": [
    "In the case where $k = 2$, then $\\textbf{G}$ is:\n",
    "$$\n",
    "\\textbf{G} = \n",
    "\\left(\\begin{array}{cc} \n",
    "\\cos \\theta & \\sin \\theta \\\\\n",
    "-\\sin \\theta & \\cos \\theta\n",
    "\\end{array}\\right)\n",
    "$$    "
   ]
  },
  {
   "cell_type": "markdown",
   "metadata": {},
   "source": [
    "It turns out that *the sum of the variances of the squared loadings* is maximized when $\\theta = \\frac{1}{4} \\alpha$. And $\\alpha$ is given by:\n",
    "$$\n",
    "\\alpha = \\arctan (B / A)\n",
    "$$\n",
    "where:\n",
    "$$\n",
    "\\begin{align*}\n",
    "A &= (G_{0,4} + G_{4,0} - 6 G_{2,2} - G_{0,2}^2 - G_{2,0}^2 + 2 G_{0,2}G_{2,0} + 4 G_{1,1}^2)\n",
    "\\\\\n",
    "B &= 4 \\left( G_{1,3} - G_{3,1} - G_{1,1}G_{0,2} + G_{1,1}G_{2,0} \\right)\n",
    "\\end{align*}\n",
    "$$"
   ]
  },
  {
   "cell_type": "markdown",
   "metadata": {},
   "source": [
    "and\n",
    "$$\n",
    "G_{a,b} = \\sum_{i = 1}^p \\frac{\\lambda_{i1}^a \\lambda_{i2}^b}{h_i^{a + b}}\n",
    "$$"
   ]
  },
  {
   "cell_type": "markdown",
   "metadata": {},
   "source": [
    "In the case of k > 2 factors, an iterative solution for the rotation is\n",
    "used. The first and second factors are rotated by an angle determined by\n",
    "the above method. The new first factor is then rotated with tbe original\n",
    "third factor, and so on, until all the $\\frac{1}{2}k(k -1)$ pairs of factors have been\n",
    "rotated . This sequence of rotations is called a cycle. These cycles are then\n",
    "repeated until one is completed in which all the angles have achieved\n",
    "some predetermined convergence criterion."
   ]
  },
  {
   "cell_type": "markdown",
   "metadata": {},
   "source": [
    "---"
   ]
  },
  {
   "cell_type": "markdown",
   "metadata": {},
   "source": [
    "## Varimax, k = 2, open/closed book example"
   ]
  },
  {
   "cell_type": "code",
   "execution_count": 2,
   "metadata": {},
   "outputs": [],
   "source": [
    "import numpy as np"
   ]
  },
  {
   "cell_type": "code",
   "execution_count": 3,
   "metadata": {},
   "outputs": [
    {
     "data": {
      "text/plain": [
       "array([ 2,  4,  6, 12])"
      ]
     },
     "execution_count": 3,
     "metadata": {},
     "output_type": "execute_result"
    }
   ],
   "source": [
    "a = np.array([1,2,3,4])\n",
    "b = np.array([2,2,2,3])\n",
    "\n",
    "a*b"
   ]
  },
  {
   "cell_type": "code",
   "execution_count": 4,
   "metadata": {},
   "outputs": [
    {
     "data": {
      "text/plain": [
       "40.71405541894058"
      ]
     },
     "execution_count": 4,
     "metadata": {},
     "output_type": "execute_result"
    }
   ],
   "source": [
    "loadings = np.array([[0.628, 0.372],\n",
    "                    [0.696,  0.313],\n",
    "                    [0.899,  -0.05 ],\n",
    "                    [0.779,  -0.201],\n",
    "                    [0.728,  -0.2  ]])\n",
    "\n",
    "def G(a, b):\n",
    "    h_is = np.sqrt(np.sum(loadings ** 2, axis=1)) ** (a + b)\n",
    "    \n",
    "    result = np.sum((loadings[:,0] ** a * loadings[:,1] ** b) / h_is)\n",
    "\n",
    "    return result\n",
    "\n",
    "A = G(0, 4) + G(4, 0) - 6 * G(2,2) - G(0, 2)**2 - G(2, 0)**2 + 2 * G(0, 2) * G(2, 0) + 4 * G(1, 1)**2\n",
    "B = 4 * (G(1, 3) - G(3, 1) - G(1,1) * G(0,2) + G(1,1) * G(2,0))\n",
    "\n",
    "alpha = np.arctan2(B, A)\n",
    "theta_radianer = alpha / 4\n",
    "np.degrees(theta_radianer)"
   ]
  },
  {
   "cell_type": "code",
   "execution_count": 7,
   "metadata": {},
   "outputs": [
    {
     "data": {
      "text/plain": [
       "(-17.143778324237697, 162.85622167576233, -72.8562216757623)"
      ]
     },
     "execution_count": 7,
     "metadata": {},
     "output_type": "execute_result"
    }
   ],
   "source": [
    "np.degrees(np.arctan(B/A)), np.degrees(np.arctan2(B, A)), np.degrees(np.arctan2(A, B))"
   ]
  }
 ],
 "metadata": {
  "kernelspec": {
   "display_name": "Python 3",
   "language": "python",
   "name": "python3"
  },
  "language_info": {
   "codemirror_mode": {
    "name": "ipython",
    "version": 3
   },
   "file_extension": ".py",
   "mimetype": "text/x-python",
   "name": "python",
   "nbconvert_exporter": "python",
   "pygments_lexer": "ipython3",
   "version": "3.11.1"
  }
 },
 "nbformat": 4,
 "nbformat_minor": 2
}
