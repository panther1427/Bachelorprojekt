{
 "cells": [
  {
   "cell_type": "code",
   "execution_count": 1,
   "metadata": {},
   "outputs": [],
   "source": [
    "import numpy as np\n",
    "from utils import factor_model_solution, open_closed_data"
   ]
  },
  {
   "cell_type": "code",
   "execution_count": 7,
   "metadata": {},
   "outputs": [
    {
     "name": "stdout",
     "output_type": "stream",
     "text": [
      "(88, 5)\n"
     ]
    },
    {
     "data": {
      "text/plain": [
       "array([[1.   , 0.553, 0.547, 0.409, 0.389],\n",
       "       [0.553, 1.   , 0.61 , 0.485, 0.436],\n",
       "       [0.547, 0.61 , 1.   , 0.711, 0.665],\n",
       "       [0.409, 0.485, 0.711, 1.   , 0.607],\n",
       "       [0.389, 0.436, 0.665, 0.607, 1.   ]])"
      ]
     },
     "execution_count": 7,
     "metadata": {},
     "output_type": "execute_result"
    }
   ],
   "source": [
    "X = open_closed_data()\n",
    "print(X.shape)\n",
    "\n",
    "np.corrcoef(X.T).round(3)"
   ]
  },
  {
   "cell_type": "markdown",
   "metadata": {},
   "source": [
    "Only $cov(x_1, x_4)$ is different by a margin.\n",
    "\n",
    "|    1  |   2   |   3   |   4   |   5   | \n",
    "|  ---  |  ---  |  ---  |  ---  |  ---  |\n",
    "|   1   | 0.553 | 0.547 | 0.410 | 0.389 |\n",
    "|       |  1    | 0.610 | 0.485 | 0.437 |\n",
    "|       |       |   1   | 0.711 | 0.665 |\n",
    "|       |       |       |   1   | 0.607 |\n",
    "|       |       |       |       |   1   |"
   ]
  },
  {
   "cell_type": "code",
   "execution_count": 3,
   "metadata": {},
   "outputs": [
    {
     "data": {
      "text/plain": [
       "array([[-12.411, -11.32 ],\n",
       "       [ -9.499,  -3.822],\n",
       "       [ -9.541,   0.683],\n",
       "       [-12.246,   4.082],\n",
       "       [-13.941,   6.541]])"
      ]
     },
     "execution_count": 3,
     "metadata": {},
     "output_type": "execute_result"
    }
   ],
   "source": [
    "psi_hat, lambda_hat = factor_model_solution(X, k=2, standardized=False)\n",
    "lambda_hat.round(3)"
   ]
  },
  {
   "cell_type": "markdown",
   "metadata": {},
   "source": [
    "Not even close to what they get. Something is wrong. Let's use the correlation matrix instead. \"Thus (9.2.12) is\n",
    "satisfied. and the m.l.e.s for the parameters of the standardized variables can be found by replacing S by R in (9.4.1)\" (Page 263)"
   ]
  },
  {
   "cell_type": "code",
   "execution_count": 4,
   "metadata": {},
   "outputs": [
    {
     "name": "stdout",
     "output_type": "stream",
     "text": [
      "array([[0.465884  , 0.        , 0.        , 0.        , 0.        ],\n",
      "       [0.        , 0.41905738, 0.        , 0.        , 0.        ],\n",
      "       [0.        , 0.        , 0.18856904, 0.        , 0.        ],\n",
      "       [0.        , 0.        , 0.        , 0.35179317, 0.        ],\n",
      "       [0.        , 0.        , 0.        , 0.        , 0.43102915]])\n"
     ]
    },
    {
     "data": {
      "text/plain": [
       "array([[-0.628, -0.373],\n",
       "       [-0.695, -0.312],\n",
       "       [-0.899,  0.05 ],\n",
       "       [-0.78 ,  0.201],\n",
       "       [-0.727,  0.2  ]])"
      ]
     },
     "execution_count": 4,
     "metadata": {},
     "output_type": "execute_result"
    }
   ],
   "source": [
    "psi_hat, lambda_hat = factor_model_solution(X, k=2, standardized=True)\n",
    "print(repr(psi_hat))\n",
    "lambda_hat.round(3)"
   ]
  },
  {
   "cell_type": "markdown",
   "metadata": {},
   "source": [
    "Using correlation matrix (standardized variables), gives the correct results. (the sign of the second eigenvector might be different; this is still a valid eigenvector for that eigenvalue)"
   ]
  }
 ],
 "metadata": {
  "kernelspec": {
   "display_name": "Python 3",
   "language": "python",
   "name": "python3"
  },
  "language_info": {
   "codemirror_mode": {
    "name": "ipython",
    "version": 3
   },
   "file_extension": ".py",
   "mimetype": "text/x-python",
   "name": "python",
   "nbconvert_exporter": "python",
   "pygments_lexer": "ipython3",
   "version": "3.11.1"
  }
 },
 "nbformat": 4,
 "nbformat_minor": 2
}
