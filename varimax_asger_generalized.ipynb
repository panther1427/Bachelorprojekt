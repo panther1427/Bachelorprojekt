{
 "cells": [
  {
   "cell_type": "code",
   "execution_count": 88,
   "id": "d4c1b697",
   "metadata": {},
   "outputs": [],
   "source": [
    "import numpy as np"
   ]
  },
  {
   "cell_type": "code",
   "execution_count": 89,
   "id": "85d2fa64",
   "metadata": {},
   "outputs": [
    {
     "data": {
      "text/plain": [
       "array([[ 0.628,  0.372,  0.9  ],\n",
       "       [ 0.696,  0.313,  0.9  ],\n",
       "       [ 0.899, -0.05 ,  0.   ],\n",
       "       [ 0.779, -0.201,  0.   ],\n",
       "       [ 0.728, -0.2  ,  0.   ]])"
      ]
     },
     "execution_count": 89,
     "metadata": {},
     "output_type": "execute_result"
    }
   ],
   "source": [
    "Loadings = np.array([0.628,0.372,0.9,\n",
    "                      0.696,0.313,0.9,\n",
    "                      0.899,-0.050,0,\n",
    "                      0.779,-0.201,0,\n",
    "                      0.728,-0.200,0]).reshape((5,3))\n",
    "Loadings"
   ]
  },
  {
   "cell_type": "code",
   "execution_count": 90,
   "id": "ad0f9c0a",
   "metadata": {},
   "outputs": [
    {
     "name": "stdout",
     "output_type": "stream",
     "text": [
      "[[ 0.628  0.372]\n",
      " [ 0.696  0.313]\n",
      " [ 0.899 -0.05 ]\n",
      " [ 0.779 -0.201]\n",
      " [ 0.728 -0.2  ]]\n"
     ]
    }
   ],
   "source": [
    "Loadings = np.array([[0.628, 0.696, 0.899, 0.779, 0.728],\n",
    "                     [0.372, 0.313, -0.050, -0.201, -0.2]]).T\n",
    "np.set_printoptions(suppress=True)\n",
    "print(Loadings)\n",
    "np.set_printoptions(suppress=False)"
   ]
  },
  {
   "cell_type": "code",
   "execution_count": 91,
   "id": "1e14f134",
   "metadata": {},
   "outputs": [],
   "source": [
    "def RotMatPairFct(dim, tht, pr):\n",
    "    \"\"\" \n",
    "    LoadingMat: (p, k) Loadings matrix\n",
    "    Theta: float Theta rotations in radians\n",
    "    Pr: (i, j) tuple pair, denoting rotation of column i and j.\n",
    "\n",
    "    Note that G = [cos(tht) sin(tht)\n",
    "                   -sin(tht) cos(tht)]\n",
    "    \"\"\"\n",
    "    \n",
    "    mat = np.eye(dim)\n",
    "    i, j = pr\n",
    "    mat[i, i] = np.cos(tht)\n",
    "    mat[i, j] = np.sin(tht)\n",
    "    mat[j, i] = -np.sin(tht)\n",
    "    mat[j, j] = np.cos(tht)\n",
    "    return mat"
   ]
  },
  {
   "cell_type": "code",
   "execution_count": 92,
   "id": "944bcccc",
   "metadata": {},
   "outputs": [
    {
     "name": "stdout",
     "output_type": "stream",
     "text": [
      "cycle:\t1\ttheta:\t0.6551562569044042\tpair:\t(0, 1)\tobjective:\t0.9512730424010297\n",
      "cycle:\t2\ttheta:\t0.0\tpair:\t(0, 1)\tobjective:\t0.9512730424010297\n",
      "cycle:\t3\ttheta:\t0.0\tpair:\t(0, 1)\tobjective:\t0.9512730424010297\n",
      "cycle:\t4\ttheta:\t0.0\tpair:\t(0, 1)\tobjective:\t0.9512730424010297\n",
      "cycle:\t5\ttheta:\t0.0\tpair:\t(0, 1)\tobjective:\t0.9512730424010297\n"
     ]
    }
   ],
   "source": [
    "LambdaMat = Loadings.copy() # Copy for idempotency\n",
    "ntht = 200\n",
    "thtV = np.linspace(0, np.pi / 2, num=ntht)\n",
    "p, k = LambdaMat.shape\n",
    "pairs = [(i,j) for i in range(k - 1) for j in range(k) if j > i]\n",
    "\n",
    "num_cycles = 5\n",
    "for ccl in range(1, num_cycles + 1):\n",
    "    for pr in pairs:\n",
    "        PsiV = [0 for _ in range(ntht)]\n",
    "        \n",
    "        for i in range(ntht):\n",
    "            DeltaMat = LambdaMat @ RotMatPairFct(k, thtV[i], pr)\n",
    "\n",
    "            hVec = np.sqrt(np.sum(DeltaMat ** 2, axis=1))\n",
    "            \n",
    "            DMat = DeltaMat / hVec[:,np.newaxis]\n",
    "\n",
    "            D2Mat = DMat ** 2\n",
    "\n",
    "            MeanD2Mat = np.repeat(np.mean(D2Mat, axis=0)[:,np.newaxis], p,axis=1).T\n",
    "            \n",
    "            PsiV[i] = np.sum((D2Mat - MeanD2Mat) ** 2)\n",
    "        \n",
    "        thtEst = thtV[np.argmax(PsiV)]\n",
    "\n",
    "        print(\"cycle:\", ccl, \n",
    "              \"theta:\", thtEst, \n",
    "              \"pair:\", pr, \n",
    "              \"objective:\", max(PsiV), \n",
    "              sep=\"\\t\")\n",
    "        LambdaMat = LambdaMat @ RotMatPairFct(k, thtEst, pr)"
   ]
  },
  {
   "cell_type": "code",
   "execution_count": null,
   "id": "bfc48c5a",
   "metadata": {},
   "outputs": [
    {
     "data": {
      "text/plain": [
       "37.537688442211056"
      ]
     },
     "execution_count": 93,
     "metadata": {},
     "output_type": "execute_result"
    }
   ],
   "source": []
  }
 ],
 "metadata": {
  "kernelspec": {
   "display_name": "Python 3",
   "language": "python",
   "name": "python3"
  },
  "language_info": {
   "codemirror_mode": {
    "name": "ipython",
    "version": 3
   },
   "file_extension": ".py",
   "mimetype": "text/x-python",
   "name": "python",
   "nbconvert_exporter": "python",
   "pygments_lexer": "ipython3",
   "version": "3.11.1"
  }
 },
 "nbformat": 4,
 "nbformat_minor": 5
}
