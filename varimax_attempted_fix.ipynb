{
 "cells": [
  {
   "cell_type": "code",
   "execution_count": 15,
   "id": "7dd84c65",
   "metadata": {},
   "outputs": [],
   "source": [
    "import numpy as np\n",
    "import matplotlib.pyplot as plt"
   ]
  },
  {
   "cell_type": "code",
   "execution_count": 2,
   "id": "c77c5ca7",
   "metadata": {},
   "outputs": [],
   "source": [
    "def phi_criterion(loadings):\n",
    "    \"\"\"\n",
    "    calculate phi, without rotation.\n",
    "    \"\"\"\n",
    "    p, k = loadings.shape\n",
    "    h_i = np.sqrt(np.sum(loadings ** 2, axis=1))\n",
    "    d = loadings / h_i[:,np.newaxis]\n",
    "    d_means = np.sum(d ** 2, axis=0) / p\n",
    "    phi = sum(sum((d[i,j] ** 2 - d_means[j]) ** 2 for i in range(p)) for j in range(k))\n",
    "    return phi"
   ]
  },
  {
   "cell_type": "code",
   "execution_count": 11,
   "id": "85e8f74a",
   "metadata": {},
   "outputs": [
    {
     "data": {
      "text/plain": [
       "array([[1, 2, 3],\n",
       "       [1, 5, 6],\n",
       "       [1, 8, 9]])"
      ]
     },
     "execution_count": 11,
     "metadata": {},
     "output_type": "execute_result"
    }
   ],
   "source": [
    "a = np.array([[1,2,3],[4,5,6],[7,8,9]])\n",
    "a[:,0] = [1,1,1]\n",
    "\n",
    "a"
   ]
  },
  {
   "cell_type": "code",
   "execution_count": 32,
   "id": "91799245",
   "metadata": {},
   "outputs": [
    {
     "name": "stdout",
     "output_type": "stream",
     "text": [
      "cycle:\t0\ttheta:\t24.545454545454547\tpair:\t(0, 1)\tobjective:\t1.213788305574663\n",
      "cycle:\t0\ttheta:\t11.818181818181818\tpair:\t(0, 2)\tobjective:\t1.4313078364528244\n",
      "cycle:\t0\ttheta:\t29.090909090909093\tpair:\t(1, 2)\tobjective:\t1.7606551514152897\n",
      "cycle:\t1\ttheta:\t84.54545454545455\tpair:\t(0, 1)\tobjective:\t1.7758061933228484\n",
      "cycle:\t1\ttheta:\t90.0\tpair:\t(0, 2)\tobjective:\t1.7758061933228486\n",
      "cycle:\t1\ttheta:\t0.0\tpair:\t(1, 2)\tobjective:\t1.7758061933228486\n",
      "cycle:\t2\ttheta:\t88.18181818181819\tpair:\t(0, 1)\tobjective:\t1.7812032983236459\n",
      "cycle:\t2\ttheta:\t0.0\tpair:\t(0, 2)\tobjective:\t1.7812032983236459\n",
      "cycle:\t2\ttheta:\t0.0\tpair:\t(1, 2)\tobjective:\t1.7812032983236459\n",
      "cycle:\t3\ttheta:\t0.0\tpair:\t(0, 1)\tobjective:\t1.7812032983236459\n",
      "cycle:\t3\ttheta:\t0.0\tpair:\t(0, 2)\tobjective:\t1.7812032983236459\n",
      "cycle:\t3\ttheta:\t0.0\tpair:\t(1, 2)\tobjective:\t1.7812032983236459\n",
      "cycle:\t4\ttheta:\t0.0\tpair:\t(0, 1)\tobjective:\t1.7812032983236459\n",
      "cycle:\t4\ttheta:\t0.0\tpair:\t(0, 2)\tobjective:\t1.7812032983236459\n",
      "cycle:\t4\ttheta:\t0.0\tpair:\t(1, 2)\tobjective:\t1.7812032983236459\n",
      "cycle:\t5\ttheta:\t0.0\tpair:\t(0, 1)\tobjective:\t1.7812032983236459\n",
      "cycle:\t5\ttheta:\t0.0\tpair:\t(0, 2)\tobjective:\t1.7812032983236459\n",
      "cycle:\t5\ttheta:\t0.0\tpair:\t(1, 2)\tobjective:\t1.7812032983236459\n",
      "cycle:\t6\ttheta:\t0.0\tpair:\t(0, 1)\tobjective:\t1.7812032983236459\n",
      "cycle:\t6\ttheta:\t0.0\tpair:\t(0, 2)\tobjective:\t1.7812032983236459\n",
      "cycle:\t6\ttheta:\t0.0\tpair:\t(1, 2)\tobjective:\t1.7812032983236459\n",
      "cycle:\t7\ttheta:\t0.0\tpair:\t(0, 1)\tobjective:\t1.7812032983236459\n",
      "cycle:\t7\ttheta:\t0.0\tpair:\t(0, 2)\tobjective:\t1.7812032983236459\n",
      "cycle:\t7\ttheta:\t0.0\tpair:\t(1, 2)\tobjective:\t1.7812032983236459\n",
      "cycle:\t8\ttheta:\t0.0\tpair:\t(0, 1)\tobjective:\t1.7812032983236459\n",
      "cycle:\t8\ttheta:\t0.0\tpair:\t(0, 2)\tobjective:\t1.7812032983236459\n",
      "cycle:\t8\ttheta:\t0.0\tpair:\t(1, 2)\tobjective:\t1.7812032983236459\n",
      "cycle:\t9\ttheta:\t0.0\tpair:\t(0, 1)\tobjective:\t1.7812032983236459\n",
      "cycle:\t9\ttheta:\t0.0\tpair:\t(0, 2)\tobjective:\t1.7812032983236459\n",
      "cycle:\t9\ttheta:\t0.0\tpair:\t(1, 2)\tobjective:\t1.7812032983236459\n"
     ]
    }
   ],
   "source": [
    "rotation_lambda = np.array([[0.628,0.372,0.9],\n",
    "                            [0.696,0.313,0.9],\n",
    "                            [0.899,-0.050,0],\n",
    "                            [0.779,-0.201,0],\n",
    "                            [0.728,-0.200,0]])\n",
    "k = rotation_lambda.shape[1]\n",
    "pairs = [(i,j) for i in range(k - 1) for j in range(k) if j > i]\n",
    "\n",
    "phi_iterations = []\n",
    "# Begin a cycle\n",
    "for ccl in range(10):\n",
    "    for i,j in pairs:\n",
    "        # Pick out columns i,j and convert to k = 2 subproblem\n",
    "        two_loadings_columns = np.array([rotation_lambda[:,i], rotation_lambda[:, j]]).T\n",
    "        theta_range = np.linspace(0, np.pi / 2, 100)\n",
    "\n",
    "        phis = []\n",
    "        for theta_rad in theta_range:\n",
    "            G = np.array([[np.cos(theta_rad) , np.sin(theta_rad)],\n",
    "                          [-np.sin(theta_rad), np.cos(theta_rad)]])\n",
    "\n",
    "            delta_two = two_loadings_columns @ G\n",
    "            delta = rotation_lambda.copy()\n",
    "            delta[:,i] = delta_two[:,0]\n",
    "            delta[:,j] = delta_two[:,1]\n",
    "            phis.append(phi_criterion(delta))\n",
    "\n",
    "\n",
    "        theta_rad = theta_range[np.argmax(phis)] # Solution is given in a (1,) array\n",
    "\n",
    "\n",
    "        # Rotate columns\n",
    "        # theta_rad = np.deg2rad(theta)\n",
    "        G = np.array([[np.cos(theta_rad) , np.sin(theta_rad)],\n",
    "                    [-np.sin(theta_rad), np.cos(theta_rad)]])\n",
    "        \n",
    "        rotated_two_loadings = two_loadings_columns @ G\n",
    "\n",
    "        # Replace old columns\n",
    "        rotation_lambda[:,i] = rotated_two_loadings[:,0]\n",
    "        rotation_lambda[:,j] = rotated_two_loadings[:,1]\n",
    "\n",
    "        print(\"cycle:\", ccl, \n",
    "              \"theta:\", np.rad2deg(theta_rad), \n",
    "              \"pair:\", (i,j), \n",
    "              \"objective:\", max(phis), \n",
    "              sep=\"\\t\")\n",
    "\n",
    "        # Repeat\n",
    "    phi_iterations.append(phi_criterion(rotation_lambda))"
   ]
  },
  {
   "cell_type": "code",
   "execution_count": 35,
   "id": "aad07780",
   "metadata": {},
   "outputs": [
    {
     "data": {
      "text/plain": [
       "[<matplotlib.lines.Line2D at 0x205352507d0>]"
      ]
     },
     "execution_count": 35,
     "metadata": {},
     "output_type": "execute_result"
    },
    {
     "data": {
      "image/png": "[encoded data removed]",
      "text/plain": [
       "<Figure size 640x480 with 1 Axes>"
      ]
     },
     "metadata": {},
     "output_type": "display_data"
    }
   ],
   "source": [
    "plt.ylabel(\"Phi Value\")\n",
    "plt.xlabel(\"Iterations\")\n",
    "plt.plot(phi_iterations)"
   ]
  }
 ],
 "metadata": {
  "kernelspec": {
   "display_name": "Python 3",
   "language": "python",
   "name": "python3"
  },
  "language_info": {
   "codemirror_mode": {
    "name": "ipython",
    "version": 3
   },
   "file_extension": ".py",
   "mimetype": "text/x-python",
   "name": "python",
   "nbconvert_exporter": "python",
   "pygments_lexer": "ipython3",
   "version": "3.11.1"
  }
 },
 "nbformat": 4,
 "nbformat_minor": 5
}
