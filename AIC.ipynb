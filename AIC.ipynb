{
 "cells": [
  {
   "cell_type": "code",
   "execution_count": 15,
   "id": "6218cf89",
   "metadata": {},
   "outputs": [],
   "source": [
    "import numpy as np\n",
    "import matplotlib.pyplot as plt\n",
    "\n",
    "from utils import factor_model_solution, open_closed_data"
   ]
  },
  {
   "cell_type": "markdown",
   "id": "be63d0cf",
   "metadata": {},
   "source": [
    "*This notebook introduces the Akaike Information Criterion (AIC). The purpose of AIC is to choose the optimal k for factor analysis.*\n",
    "\n",
    "___"
   ]
  },
  {
   "cell_type": "markdown",
   "id": "cd73be62",
   "metadata": {},
   "source": [
    "# Akaike Information Criterion (AIC)"
   ]
  },
  {
   "cell_type": "markdown",
   "id": "2a27c8b2",
   "metadata": {},
   "source": [
    "AIC is given by:\n",
    "$$\n",
    "AIC = 2 s_{params} - 2 \\ln(\\hat L)\n",
    "$$\n",
    "\n",
    "NOTE: $s_{params}$ is the number of estimated parameters in the model. $\\hat L$ is the maximized value of the likelihood function.\n",
    "\n",
    "$$\n",
    "s_{params} = pk + p - \\frac{1}{2}k(k - 1)\n",
    "$$"
   ]
  },
  {
   "cell_type": "markdown",
   "id": "89062c78",
   "metadata": {},
   "source": [
    "and\n",
    "$$\n",
    "\\ln (L) = -\\frac{1}{2} n \\log |2 \\pi \\Sigma | - \\frac{1}{2} n \\operatorname{tr} \\Sigma^{-1} S \n",
    "$$"
   ]
  },
  {
   "cell_type": "markdown",
   "id": "fc0eaba1",
   "metadata": {
    "vscode": {
     "languageId": "plaintext"
    }
   },
   "source": [
    "___"
   ]
  },
  {
   "cell_type": "code",
   "execution_count": null,
   "id": "5bc9b7e4",
   "metadata": {},
   "outputs": [],
   "source": [
    "def calculate_loglikelihood(specific_variance, X_data, k, standardized=True):\n",
    "    \"\"\"\n",
    "    Calculate the factor model log likelihood objective function.\n",
    "\n",
    "    Parameters\n",
    "    ---\n",
    "    specific_variance : (p,) arraylike\n",
    "        The specific variances for each variable\n",
    "    \n",
    "    X_data : (n, p) arraylike\n",
    "\n",
    "    k: float\n",
    "        Number of factors\n",
    "\n",
    "    standardized :       boolean\n",
    "        Whether to use correlation matrix (standardized variables) or the covariance matrix\n",
    "        in calculations.\n",
    "\n",
    "    Returns\n",
    "    ---\n",
    "    Objective function value: float\n",
    "    \"\"\"\n",
    "    n, p = X_data.shape\n",
    "\n",
    "    # Step 1\n",
    "    S = np.corrcoef(X_data.T) if standardized else np.cov(X_data.T)\n",
    "    Psi = np.diag(specific_variance)\n",
    "    Psi_sq_inv = np.linalg.inv(Psi ** 0.5)\n",
    "    S_star = Psi_sq_inv @ S @ Psi_sq_inv\n",
    "\n",
    "    # Step 2\n",
    "    eigval, eigvec = np.linalg.eig(S_star)\n",
    "\n",
    "    # Step 3\n",
    "    lambda_star = []\n",
    "    for i in range(k):\n",
    "        lambda_star.append(max(eigval[i] - 1, 0) ** 0.5 * eigvec[:,i])\n",
    "    lambda_star = np.array(lambda_star).T\n",
    "\n",
    "    # Step 4\n",
    "    lambda_hat = Psi ** 0.5 @ lambda_star\n",
    "\n",
    "    # Step 5\n",
    "    result = (\n",
    "        - 1/2 * n * np.log(np.linalg.det(2 * np.pi * (lambda_hat @ lambda_hat.T + Psi)))\n",
    "        - 1/2 * n * np.trace(np.linalg.inv(lambda_hat @ lambda_hat.T + Psi) @ S)\n",
    "    )\n",
    "\n",
    "    return result\n",
    "\n",
    "def calculate_free_params(p, k):\n",
    "    return p * k + p - 1/2 * k * (k - 1)\n",
    "\n",
    "def AIC(k, X):\n",
    "    n, p = X.shape\n",
    "    psi_hat, _ = factor_model_solution(X, k)\n",
    "    specific_variances = psi_hat[np.diag_indices_from(psi_hat)]\n",
    "    return 2 * calculate_free_params(p, k) - 2 * calculate_loglikelihood(specific_variances, X, k)"
   ]
  },
  {
   "cell_type": "code",
   "execution_count": 7,
   "id": "e6dc7bee",
   "metadata": {},
   "outputs": [
    {
     "data": {
      "text/plain": [
       "(88, 5)"
      ]
     },
     "execution_count": 7,
     "metadata": {},
     "output_type": "execute_result"
    }
   ],
   "source": [
    "X = open_closed_data()\n",
    "X.shape"
   ]
  },
  {
   "cell_type": "code",
   "execution_count": 18,
   "id": "d252debb",
   "metadata": {},
   "outputs": [
    {
     "data": {
      "text/plain": [
       "[<matplotlib.lines.Line2D at 0x12923ed9d10>]"
      ]
     },
     "execution_count": 18,
     "metadata": {},
     "output_type": "execute_result"
    },
    {
     "data": {
      "image/png": "[encoded data removed]",
      "text/plain": [
       "<Figure size 640x480 with 1 Axes>"
      ]
     },
     "metadata": {},
     "output_type": "display_data"
    }
   ],
   "source": [
    "krange = range(1, X.shape[1])\n",
    "AICs = [AIC(k, X) for k in krange]\n",
    "plt.xticks(krange)\n",
    "plt.plot(krange, AICs)"
   ]
  }
 ],
 "metadata": {
  "kernelspec": {
   "display_name": "Python 3",
   "language": "python",
   "name": "python3"
  },
  "language_info": {
   "codemirror_mode": {
    "name": "ipython",
    "version": 3
   },
   "file_extension": ".py",
   "mimetype": "text/x-python",
   "name": "python",
   "nbconvert_exporter": "python",
   "pygments_lexer": "ipython3",
   "version": "3.11.1"
  }
 },
 "nbformat": 4,
 "nbformat_minor": 5
}
