{
 "cells": [
  {
   "cell_type": "markdown",
   "metadata": {},
   "source": [
    "*This notebook is not important*\n",
    "___\n",
    "# Testing"
   ]
  },
  {
   "cell_type": "code",
   "execution_count": 1,
   "metadata": {},
   "outputs": [],
   "source": [
    "import numpy as np\n",
    "from utils import varimax"
   ]
  },
  {
   "cell_type": "code",
   "execution_count": 3,
   "metadata": {},
   "outputs": [
    {
     "name": "stdout",
     "output_type": "stream",
     "text": [
      "cycle:\t1\ttheta:\t24.545454545454547\tpair:\t(0, 1)\tobjective:\t1.213788305574663\n",
      "cycle:\t1\ttheta:\t11.818181818181818\tpair:\t(0, 2)\tobjective:\t1.4313078364528244\n",
      "cycle:\t1\ttheta:\t29.090909090909093\tpair:\t(1, 2)\tobjective:\t1.7606551514152897\n",
      "cycle:\t2\ttheta:\t84.54545454545455\tpair:\t(0, 1)\tobjective:\t1.7758061933228484\n",
      "cycle:\t2\ttheta:\t90.0\tpair:\t(0, 2)\tobjective:\t1.7758061933228486\n",
      "cycle:\t2\ttheta:\t0.0\tpair:\t(1, 2)\tobjective:\t1.7758061933228486\n",
      "cycle:\t3\ttheta:\t88.18181818181819\tpair:\t(0, 1)\tobjective:\t1.7812032983236459\n",
      "cycle:\t3\ttheta:\t0.0\tpair:\t(0, 2)\tobjective:\t1.7812032983236459\n",
      "cycle:\t3\ttheta:\t0.0\tpair:\t(1, 2)\tobjective:\t1.7812032983236459\n",
      "cycle:\t4\ttheta:\t0.0\tpair:\t(0, 1)\tobjective:\t1.7812032983236459\n",
      "cycle:\t4\ttheta:\t0.0\tpair:\t(0, 2)\tobjective:\t1.7812032983236459\n",
      "cycle:\t4\ttheta:\t0.0\tpair:\t(1, 2)\tobjective:\t1.7812032983236459\n",
      "Phi has converged; Algorithm ending early.\n"
     ]
    },
    {
     "data": {
      "text/plain": [
       "array([[-0.26358339, -1.12793777, -0.03237564],\n",
       "       [-0.34486277, -1.12845671,  0.00633345],\n",
       "       [-0.84574476, -0.28284162, -0.12416692],\n",
       "       [-0.78227486, -0.18547902,  0.02975871],\n",
       "       [-0.73487164, -0.16873922,  0.03840244]])"
      ]
     },
     "execution_count": 3,
     "metadata": {},
     "output_type": "execute_result"
    }
   ],
   "source": [
    "rotation_lambda = np.array([[0.628,0.372,0.9],\n",
    "                            [0.696,0.313,0.9],\n",
    "                            [0.899,-0.050,0],\n",
    "                            [0.779,-0.201,0],\n",
    "                            [0.728,-0.200,0]])\n",
    "\n",
    "varimax(rotation_lambda, verbose=True)"
   ]
  }
 ],
 "metadata": {
  "kernelspec": {
   "display_name": "Python 3",
   "language": "python",
   "name": "python3"
  },
  "language_info": {
   "codemirror_mode": {
    "name": "ipython",
    "version": 3
   },
   "file_extension": ".py",
   "mimetype": "text/x-python",
   "name": "python",
   "nbconvert_exporter": "python",
   "pygments_lexer": "ipython3",
   "version": "3.11.1"
  }
 },
 "nbformat": 4,
 "nbformat_minor": 2
}
