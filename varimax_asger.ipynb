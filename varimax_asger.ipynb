{
 "cells": [
  {
   "cell_type": "code",
   "execution_count": 60,
   "id": "d4c1b697",
   "metadata": {},
   "outputs": [],
   "source": [
    "import numpy as np"
   ]
  },
  {
   "cell_type": "code",
   "execution_count": 61,
   "id": "85d2fa64",
   "metadata": {},
   "outputs": [
    {
     "data": {
      "text/plain": [
       "array([[ 0.628,  0.372,  0.9  ],\n",
       "       [ 0.696,  0.313,  0.9  ],\n",
       "       [ 0.899, -0.05 ,  0.   ],\n",
       "       [ 0.779, -0.201,  0.   ],\n",
       "       [ 0.728, -0.2  ,  0.   ]])"
      ]
     },
     "execution_count": 61,
     "metadata": {},
     "output_type": "execute_result"
    }
   ],
   "source": [
    "LambdaMat = np.array([0.628,0.372,0.9,\n",
    "                      0.696,0.313,0.9,\n",
    "                      0.899,-0.050,0,\n",
    "                      0.779,-0.201,0,\n",
    "                      0.728,-0.200,0]).reshape((5,3))\n",
    "LambdaMat"
   ]
  },
  {
   "cell_type": "code",
   "execution_count": 62,
   "id": "1e14f134",
   "metadata": {},
   "outputs": [],
   "source": [
    "def RotMatPairFct(tht, pr):\n",
    "    if pr == 1:\n",
    "        RotMat = np.array([[np.cos(tht),  np.sin(tht) ,  0],\n",
    "                           [-np.sin(tht),  np.cos(tht)         ,  0],\n",
    "                           [0, 0,   1]])\n",
    "        return RotMat\n",
    "    \n",
    "    if pr == 2:\n",
    "        RotMat = np.array([[np.cos(tht), 0, np.sin(tht)],\n",
    "                           [0, 1, 0],\n",
    "                           [-np.sin(tht), 0, np.cos(tht)]])\n",
    "        return RotMat\n",
    "    \n",
    "    if pr == 3:\n",
    "        RotMat = np.array([[1, 0, 0],\n",
    "                           [0, np.cos(tht), np.sin(tht)],\n",
    "                           [0, -np.sin(tht), np.cos(tht)]])\n",
    "        return RotMat"
   ]
  },
  {
   "cell_type": "code",
   "execution_count": 63,
   "id": "944bcccc",
   "metadata": {},
   "outputs": [
    {
     "name": "stdout",
     "output_type": "stream",
     "text": [
      "cycle:\t1\ttheta:\t0.4183527905534147\tpair:\t1\tobjective:\t1.2138603206132166\n",
      "cycle:\t1\ttheta:\t0.2052296708375242\tpair:\t2\tobjective:\t1.4369706201630488\n",
      "cycle:\t1\ttheta:\t0.5051807282154441\tpair:\t3\tobjective:\t1.765004340235667\n",
      "cycle:\t2\ttheta:\t1.4839683891328672\tpair:\t1\tobjective:\t1.7778207335218807\n",
      "cycle:\t2\ttheta:\t1.5629028779165304\tpair:\t2\tobjective:\t1.7778597403985428\n",
      "cycle:\t2\ttheta:\t0.0\tpair:\t3\tobjective:\t1.7778597403985428\n",
      "cycle:\t3\ttheta:\t1.5471159801597976\tpair:\t1\tobjective:\t1.78133484596767\n",
      "cycle:\t3\ttheta:\t1.5629028779165304\tpair:\t2\tobjective:\t1.781338427110502\n",
      "cycle:\t3\ttheta:\t0.0\tpair:\t3\tobjective:\t1.781338427110502\n",
      "cycle:\t4\ttheta:\t0.0\tpair:\t1\tobjective:\t1.781338427110502\n",
      "cycle:\t4\ttheta:\t0.0\tpair:\t2\tobjective:\t1.781338427110502\n",
      "cycle:\t4\ttheta:\t0.0\tpair:\t3\tobjective:\t1.781338427110502\n",
      "cycle:\t5\ttheta:\t0.0\tpair:\t1\tobjective:\t1.781338427110502\n",
      "cycle:\t5\ttheta:\t0.0\tpair:\t2\tobjective:\t1.781338427110502\n",
      "cycle:\t5\ttheta:\t0.0\tpair:\t3\tobjective:\t1.781338427110502\n"
     ]
    }
   ],
   "source": [
    "ntht = 200\n",
    "thtV = np.linspace(0, np.pi / 2, num=ntht)\n",
    "\n",
    "for ccl in range(1, 6):\n",
    "    for pr in range(1,4):\n",
    "        PsiV = [0 for _ in range(ntht)]\n",
    "        \n",
    "        for i in range(ntht):\n",
    "            DeltaMat = LambdaMat @ RotMatPairFct(thtV[i], pr)\n",
    "\n",
    "            hVec = np.sqrt(np.sum(DeltaMat ** 2, axis=1))\n",
    "            \n",
    "            DMat = DeltaMat / hVec[:,np.newaxis]\n",
    "\n",
    "            D2Mat = DMat ** 2\n",
    "\n",
    "            MeanD2Mat = np.repeat(np.mean(D2Mat, axis=0)[:,np.newaxis],5,axis=1).T\n",
    "            \n",
    "            PsiV[i] = np.sum((D2Mat - MeanD2Mat) ** 2)\n",
    "        \n",
    "        thtEst = thtV[np.argmax(PsiV)]\n",
    "\n",
    "        print(\"cycle:\", ccl, \n",
    "              \"theta:\", thtEst, \n",
    "              \"pair:\", pr, \n",
    "              \"objective:\", max(PsiV), \n",
    "              sep=\"\\t\")\n",
    "        LambdaMat = LambdaMat @ RotMatPairFct(thtEst, pr)"
   ]
  }
 ],
 "metadata": {
  "kernelspec": {
   "display_name": "Python 3",
   "language": "python",
   "name": "python3"
  },
  "language_info": {
   "codemirror_mode": {
    "name": "ipython",
    "version": 3
   },
   "file_extension": ".py",
   "mimetype": "text/x-python",
   "name": "python",
   "nbconvert_exporter": "python",
   "pygments_lexer": "ipython3",
   "version": "3.11.1"
  }
 },
 "nbformat": 4,
 "nbformat_minor": 5
}
