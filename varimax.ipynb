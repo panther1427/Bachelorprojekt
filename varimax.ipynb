{
 "cells": [
  {
   "cell_type": "code",
   "execution_count": 1,
   "metadata": {},
   "outputs": [],
   "source": [
    "import numpy as np\n",
    "import pandas as pd\n",
    "\n",
    "from utils import factor_model_solution, factor_model_solution_correlation_matrix, open_closed_data"
   ]
  },
  {
   "cell_type": "code",
   "execution_count": 2,
   "metadata": {},
   "outputs": [
    {
     "data": {
      "text/plain": [
       "array([[ 1.  ,  0.24,  0.04,  0.31,  0.09,  0.23, -0.11,  0.27,  0.55,\n",
       "         0.35,  0.28,  0.34,  0.37,  0.47,  0.59],\n",
       "       [ 0.24,  1.  ,  0.12,  0.38,  0.43,  0.37,  0.35,  0.48,  0.14,\n",
       "         0.34,  0.55,  0.51,  0.51,  0.28,  0.38],\n",
       "       [ 0.04,  0.12,  1.  ,  0.  ,  0.  ,  0.08, -0.03,  0.05,  0.27,\n",
       "         0.09,  0.04,  0.2 ,  0.29, -0.32,  0.14],\n",
       "       [ 0.31,  0.38,  0.  ,  1.  ,  0.3 ,  0.48,  0.65,  0.35,  0.14,\n",
       "         0.39,  0.35,  0.5 ,  0.61,  0.69,  0.33],\n",
       "       [ 0.09,  0.43,  0.  ,  0.3 ,  1.  ,  0.81,  0.41,  0.82,  0.02,\n",
       "         0.7 ,  0.84,  0.72,  0.67,  0.48,  0.25],\n",
       "       [ 0.23,  0.37,  0.08,  0.48,  0.81,  1.  ,  0.36,  0.83,  0.15,\n",
       "         0.7 ,  0.76,  0.88,  0.78,  0.53,  0.42],\n",
       "       [-0.11,  0.35, -0.03,  0.65,  0.41,  0.36,  1.  ,  0.23, -0.16,\n",
       "         0.28,  0.21,  0.39,  0.42,  0.45,  0.  ],\n",
       "       [ 0.27,  0.48,  0.05,  0.35,  0.82,  0.83,  0.23,  1.  ,  0.23,\n",
       "         0.81,  0.86,  0.77,  0.73,  0.55,  0.55],\n",
       "       [ 0.55,  0.14,  0.27,  0.14,  0.02,  0.15, -0.16,  0.23,  1.  ,\n",
       "         0.34,  0.2 ,  0.3 ,  0.35,  0.21,  0.69],\n",
       "       [ 0.35,  0.34,  0.09,  0.39,  0.7 ,  0.7 ,  0.28,  0.81,  0.34,\n",
       "         1.  ,  0.78,  0.71,  0.79,  0.61,  0.62],\n",
       "       [ 0.28,  0.55,  0.04,  0.35,  0.84,  0.76,  0.21,  0.86,  0.2 ,\n",
       "         0.78,  1.  ,  0.78,  0.77,  0.55,  0.43],\n",
       "       [ 0.34,  0.51,  0.2 ,  0.5 ,  0.72,  0.88,  0.39,  0.77,  0.3 ,\n",
       "         0.71,  0.78,  1.  ,  0.88,  0.55,  0.53],\n",
       "       [ 0.37,  0.51,  0.29,  0.61,  0.67,  0.78,  0.42,  0.73,  0.35,\n",
       "         0.79,  0.77,  0.88,  1.  ,  0.54,  0.57],\n",
       "       [ 0.47,  0.28, -0.32,  0.69,  0.48,  0.53,  0.45,  0.55,  0.21,\n",
       "         0.61,  0.55,  0.55,  0.54,  1.  ,  0.4 ],\n",
       "       [ 0.59,  0.38,  0.14,  0.33,  0.25,  0.42,  0.  ,  0.55,  0.69,\n",
       "         0.62,  0.43,  0.53,  0.57,  0.4 ,  1.  ]])"
      ]
     },
     "execution_count": 2,
     "metadata": {},
     "output_type": "execute_result"
    }
   ],
   "source": [
    "corr_matrix = np.zeros((15, 15))\n",
    "\n",
    "correlation_data = np.array([[1.00, 0.24, 0.04, 0.31, 0.09, 0.23, -0.11, 0.27, 0.55, 0.35, 0.28, 0.34, 0.37, 0.47, 0.59],\n",
    "            [1.00, 0.12, 0.38, 0.43, 0.37, 0.35, 0.48, 0.14, 0.34, 0.55, 0.51, 0.51, 0.28, 0.38],\n",
    "            [1.00, 0.00, 0.00, 0.08, -0.03, 0.05, 0.27, 0.09, 0.04, 0.20, 0.29, -0.32, 0.14],\n",
    "            [1.00, 0.3, 0.48, 0.65, 0.35, 0.14, 0.39, 0.35, 0.5, 0.61, 0.69, 0.33],\n",
    "            [1.00, 0.81, 0.41, 0.82, 0.02, 0.70, 0.84, 0.72, 0.67, 0.48, 0.25],\n",
    "            [1.00, 0.36, 0.83, 0.15, 0.70, 0.76, 0.88, 0.78, 0.53, 0.42],\n",
    "            [1.00, 0.23, -0.16, 0.28, 0.21, 0.39, 0.42, 0.45, 0.00],\n",
    "            [1.00, 0.23, 0.81, 0.86, 0.77, 0.73, 0.55, 0.55],\n",
    "            [1.00, 0.34, 0.20, 0.30, 0.35, 0.21, 0.69],\n",
    "            [1.00, 0.78, 0.71, 0.79, 0.61, 0.62],\n",
    "            [1.00, 0.78, 0.77, 0.55, 0.43],\n",
    "            [1.00, 0.88, 0.55, 0.53],\n",
    "            [1.00, 0.54, 0.57],\n",
    "            [1.00, 0.40],\n",
    "            [1]], dtype = \"object\")\n",
    "\n",
    "for i in range(15):\n",
    "    corr_matrix[i, i:] = correlation_data[i]\n",
    "\n",
    "lower_indices = np.tril_indices(15, -1)\n",
    "corr_matrix[lower_indices] = corr_matrix.T[lower_indices]\n",
    "corr_matrix\n",
    "\n",
    "\n"
   ]
  },
  {
   "cell_type": "code",
   "execution_count": 3,
   "metadata": {},
   "outputs": [
    {
     "data": {
      "text/plain": [
       "(array([[0.465884  , 0.        , 0.        , 0.        , 0.        ],\n",
       "        [0.        , 0.41905738, 0.        , 0.        , 0.        ],\n",
       "        [0.        , 0.        , 0.18856904, 0.        , 0.        ],\n",
       "        [0.        , 0.        , 0.        , 0.35179317, 0.        ],\n",
       "        [0.        , 0.        , 0.        , 0.        , 0.43102915]]),\n",
       " array([[-0.62839619, -0.37313711],\n",
       "        [-0.69537668, -0.31207659],\n",
       "        [-0.89940809,  0.04996177],\n",
       "        [-0.77960162,  0.20106861],\n",
       "        [-0.72734245,  0.19986738]]))"
      ]
     },
     "execution_count": 3,
     "metadata": {},
     "output_type": "execute_result"
    }
   ],
   "source": [
    "data = open_closed_data().T\n",
    "\n",
    "factor_model_solution_correlation_matrix(np.corrcoef(data), k=2)"
   ]
  },
  {
   "cell_type": "code",
   "execution_count": 4,
   "metadata": {},
   "outputs": [
    {
     "data": {
      "text/plain": [
       "(array([[4.38858721e-01, 0.00000000e+00, 0.00000000e+00, 0.00000000e+00,\n",
       "         0.00000000e+00, 0.00000000e+00, 0.00000000e+00, 0.00000000e+00,\n",
       "         0.00000000e+00, 0.00000000e+00, 0.00000000e+00, 0.00000000e+00,\n",
       "         0.00000000e+00, 0.00000000e+00, 0.00000000e+00],\n",
       "        [0.00000000e+00, 3.07043805e-01, 0.00000000e+00, 0.00000000e+00,\n",
       "         0.00000000e+00, 0.00000000e+00, 0.00000000e+00, 0.00000000e+00,\n",
       "         0.00000000e+00, 0.00000000e+00, 0.00000000e+00, 0.00000000e+00,\n",
       "         0.00000000e+00, 0.00000000e+00, 0.00000000e+00],\n",
       "        [0.00000000e+00, 0.00000000e+00, 5.40153806e-01, 0.00000000e+00,\n",
       "         0.00000000e+00, 0.00000000e+00, 0.00000000e+00, 0.00000000e+00,\n",
       "         0.00000000e+00, 0.00000000e+00, 0.00000000e+00, 0.00000000e+00,\n",
       "         0.00000000e+00, 0.00000000e+00, 0.00000000e+00],\n",
       "        [0.00000000e+00, 0.00000000e+00, 0.00000000e+00, 2.23736944e-01,\n",
       "         0.00000000e+00, 0.00000000e+00, 0.00000000e+00, 0.00000000e+00,\n",
       "         0.00000000e+00, 0.00000000e+00, 0.00000000e+00, 0.00000000e+00,\n",
       "         0.00000000e+00, 0.00000000e+00, 0.00000000e+00],\n",
       "        [0.00000000e+00, 0.00000000e+00, 0.00000000e+00, 0.00000000e+00,\n",
       "         1.11723436e-01, 0.00000000e+00, 0.00000000e+00, 0.00000000e+00,\n",
       "         0.00000000e+00, 0.00000000e+00, 0.00000000e+00, 0.00000000e+00,\n",
       "         0.00000000e+00, 0.00000000e+00, 0.00000000e+00],\n",
       "        [0.00000000e+00, 0.00000000e+00, 0.00000000e+00, 0.00000000e+00,\n",
       "         0.00000000e+00, 2.73530056e-08, 0.00000000e+00, 0.00000000e+00,\n",
       "         0.00000000e+00, 0.00000000e+00, 0.00000000e+00, 0.00000000e+00,\n",
       "         0.00000000e+00, 0.00000000e+00, 0.00000000e+00],\n",
       "        [0.00000000e+00, 0.00000000e+00, 0.00000000e+00, 0.00000000e+00,\n",
       "         0.00000000e+00, 0.00000000e+00, 1.85501105e-07, 0.00000000e+00,\n",
       "         0.00000000e+00, 0.00000000e+00, 0.00000000e+00, 0.00000000e+00,\n",
       "         0.00000000e+00, 0.00000000e+00, 0.00000000e+00],\n",
       "        [0.00000000e+00, 0.00000000e+00, 0.00000000e+00, 0.00000000e+00,\n",
       "         0.00000000e+00, 0.00000000e+00, 0.00000000e+00, 1.12220748e-01,\n",
       "         0.00000000e+00, 0.00000000e+00, 0.00000000e+00, 0.00000000e+00,\n",
       "         0.00000000e+00, 0.00000000e+00, 0.00000000e+00],\n",
       "        [0.00000000e+00, 0.00000000e+00, 0.00000000e+00, 0.00000000e+00,\n",
       "         0.00000000e+00, 0.00000000e+00, 0.00000000e+00, 0.00000000e+00,\n",
       "         4.49617192e-01, 0.00000000e+00, 0.00000000e+00, 0.00000000e+00,\n",
       "         0.00000000e+00, 0.00000000e+00, 0.00000000e+00],\n",
       "        [0.00000000e+00, 0.00000000e+00, 0.00000000e+00, 0.00000000e+00,\n",
       "         0.00000000e+00, 0.00000000e+00, 0.00000000e+00, 0.00000000e+00,\n",
       "         0.00000000e+00, 8.79816535e-02, 0.00000000e+00, 0.00000000e+00,\n",
       "         0.00000000e+00, 0.00000000e+00, 0.00000000e+00],\n",
       "        [0.00000000e+00, 0.00000000e+00, 0.00000000e+00, 0.00000000e+00,\n",
       "         0.00000000e+00, 0.00000000e+00, 0.00000000e+00, 0.00000000e+00,\n",
       "         0.00000000e+00, 0.00000000e+00, 5.18079486e-02, 0.00000000e+00,\n",
       "         0.00000000e+00, 0.00000000e+00, 0.00000000e+00],\n",
       "        [0.00000000e+00, 0.00000000e+00, 0.00000000e+00, 0.00000000e+00,\n",
       "         0.00000000e+00, 0.00000000e+00, 0.00000000e+00, 0.00000000e+00,\n",
       "         0.00000000e+00, 0.00000000e+00, 0.00000000e+00, 1.11279289e-01,\n",
       "         0.00000000e+00, 0.00000000e+00, 0.00000000e+00],\n",
       "        [0.00000000e+00, 0.00000000e+00, 0.00000000e+00, 0.00000000e+00,\n",
       "         0.00000000e+00, 0.00000000e+00, 0.00000000e+00, 0.00000000e+00,\n",
       "         0.00000000e+00, 0.00000000e+00, 0.00000000e+00, 0.00000000e+00,\n",
       "         2.02389630e-02, 0.00000000e+00, 0.00000000e+00],\n",
       "        [0.00000000e+00, 0.00000000e+00, 0.00000000e+00, 0.00000000e+00,\n",
       "         0.00000000e+00, 0.00000000e+00, 0.00000000e+00, 0.00000000e+00,\n",
       "         0.00000000e+00, 0.00000000e+00, 0.00000000e+00, 0.00000000e+00,\n",
       "         0.00000000e+00, 7.33702527e-08, 0.00000000e+00],\n",
       "        [0.00000000e+00, 0.00000000e+00, 0.00000000e+00, 0.00000000e+00,\n",
       "         0.00000000e+00, 0.00000000e+00, 0.00000000e+00, 0.00000000e+00,\n",
       "         0.00000000e+00, 0.00000000e+00, 0.00000000e+00, 0.00000000e+00,\n",
       "         0.00000000e+00, 0.00000000e+00, 1.67857551e-03]]),\n",
       " array([[ 2.90680819e-01, -2.68423597e-01,  4.41871130e-01,\n",
       "          3.79027435e-01, -4.44178846e-02, -2.09362754e-01,\n",
       "          1.40986237e-01],\n",
       "        [ 3.92802787e-01, -5.99823105e-02, -1.83272782e-01,\n",
       "          3.06896519e-01, -3.13009430e-01,  1.99345162e-01,\n",
       "          5.19207606e-01],\n",
       "        [-5.53717420e-03,  4.08195449e-01, -1.70347481e-01,\n",
       "          2.64040284e-01, -3.30272643e-01, -2.89437025e-01,\n",
       "         -4.00214046e-02],\n",
       "        [ 5.93386742e-01, -4.64205895e-01, -2.42116705e-01,\n",
       "          1.31522737e-01, -3.03983984e-02, -3.31148995e-01,\n",
       "          1.48882627e-01],\n",
       "        [ 8.09715992e-01,  9.09784691e-02, -9.30614810e-02,\n",
       "         -8.50902685e-02, -2.50157770e-01,  3.81130879e-01,\n",
       "         -2.48905112e-02],\n",
       "        [ 9.77271967e-01,  2.11894252e-01,  6.34827988e-03,\n",
       "         -5.04569656e-06,  6.73406514e-07, -9.51242088e-08,\n",
       "          1.25908773e-09],\n",
       "        [ 4.59916818e-01, -3.98435153e-01, -7.93552622e-01,\n",
       "          2.57884827e-05,  8.58633519e-07,  5.92017621e-07,\n",
       "         -6.00599722e-08],\n",
       "        [ 8.31527025e-01,  7.73980456e-02,  1.53234479e-01,\n",
       "          1.72578209e-01, -1.91414409e-01,  3.16140249e-01,\n",
       "         -2.24527720e-02],\n",
       "        [ 1.63052228e-01, -5.37750643e-02,  3.23144502e-01,\n",
       "          6.18919594e-01, -6.98702017e-02, -1.68481591e-01,\n",
       "         -1.24027431e-02],\n",
       "        [ 7.38678030e-01, -1.07162096e-01,  1.29084381e-01,\n",
       "          3.02554067e-01, -3.26810828e-01,  1.82901812e-01,\n",
       "         -3.26236011e-01],\n",
       "        [ 7.71640551e-01,  2.27057470e-02,  1.71185841e-01,\n",
       "          5.80142934e-02, -4.59707448e-01,  3.10182612e-01,\n",
       "          1.09694581e-01],\n",
       "        [ 8.82785060e-01,  8.21816916e-02, -2.10847438e-02,\n",
       "          1.84256298e-01, -2.23017313e-01, -8.77040522e-02,\n",
       "          1.04085855e-01],\n",
       "        [ 7.98428197e-01,  6.82856184e-04, -6.68569786e-02,\n",
       "          2.90975032e-01, -4.61987633e-01, -1.98468952e-01,\n",
       "         -1.77255289e-02],\n",
       "        [ 6.92375201e-01, -6.97563994e-01,  1.84447775e-01,\n",
       "         -1.31947830e-05,  2.41597020e-07, -1.29320162e-07,\n",
       "          7.42428884e-09],\n",
       "        [ 4.40964341e-01, -6.01821163e-02,  2.85812754e-01,\n",
       "          8.47462712e-01,  1.85799998e-02,  4.70598601e-03,\n",
       "          8.03184442e-04]]))"
      ]
     },
     "execution_count": 4,
     "metadata": {},
     "output_type": "execute_result"
    }
   ],
   "source": [
    "factor_model_solution_correlation_matrix(corr_matrix, 7)"
   ]
  },
  {
   "cell_type": "code",
   "execution_count": 5,
   "metadata": {},
   "outputs": [],
   "source": [
    "\n",
    "def varimax_rotation(lambda_):\n",
    "\n",
    "    # need to make some assert here as it only \"works\"\n",
    "    # for k==2\n",
    "    h = np.sqrt((lambda_ ** 2).sum(axis=1))\n",
    "    #assert for that no entrace should be 0\n",
    "    d = lambda_ / h[:, np.newaxis]\n",
    "\n",
    "    g40 = (d[:, 0] ** 4).sum()\n",
    "    g04 = (d[:, 1] ** 4).sum()\n",
    "\n",
    "    g22 = (d[:, 0] ** 2 * d[:, 1] ** 2).sum()\n",
    "    g11 = (d[:, 0] * d[:, 1]).sum()\n",
    "\n",
    "    g31 = (d[:, 0] ** 3 * d[:, 1]).sum()\n",
    "    g13 = (d[:, 0] * d[:, 1] ** 3).sum()\n",
    "\n",
    "    g20 = (d[:, 0] ** 2).sum()\n",
    "    g02 = (d[:, 1] ** 2).sum()\n",
    "\n",
    "    A = (g04 + g40 - (6 * g22) - (g02 ** 2) - (g20 ** 2) + (2 * g02) * g20 + (4 * g11 ** 2))\n",
    "    B = 4 * (g13 - g31 - g11 * g02 + g11 * g20)\n",
    "    \n",
    "    alpha = np.arctan2(B, A)\n",
    "    theta_radianer = alpha / 4\n",
    "    theta_grader = np.degrees(theta_radianer) \n",
    "    \n",
    "    G = np.array([[np.cos(theta_radianer), np.sin(theta_radianer)],\n",
    "              [-np.sin(theta_radianer), np.cos(theta_radianer)]])\n",
    "\n",
    "    \n",
    "    delta = lambda_ @ G\n",
    "    \n",
    "    return delta, theta_grader, G"
   ]
  },
  {
   "cell_type": "code",
   "execution_count": 6,
   "metadata": {},
   "outputs": [
    {
     "name": "stdout",
     "output_type": "stream",
     "text": [
      "40.714055418940575\n",
      "[[ 0.75797434  0.65228436]\n",
      " [-0.65228436  0.75797434]]\n",
      "[[0.2333581  0.69160104]\n",
      " [0.32338514 0.69123589]\n",
      " [0.71403315 0.54850493]\n",
      " [0.72157117 0.35577668]\n",
      " [0.6822622  0.32326815]]\n",
      "[[0.2333581  0.69160104]\n",
      " [0.32338514 0.69123589]\n",
      " [0.71403315 0.54850493]\n",
      " [0.72157117 0.35577668]\n",
      " [0.6822622  0.32326815]] 3.6288360242380905e-15 [[ 1.00000000e+00  6.33351366e-17]\n",
      " [-6.33351366e-17  1.00000000e+00]]\n"
     ]
    }
   ],
   "source": [
    "lambda_original = np.array([[0.628, 0.372],\n",
    "                    [0.696,  0.313],\n",
    "                    [0.899,  -0.05 ],\n",
    "                    [0.779,  -0.201],\n",
    "                    [0.728,  -0.2  ]])\n",
    "\n",
    "lambda_rotated, theta_grader, G_matrix = varimax_rotation(lambda_original)\n",
    "\n",
    "lambda_rotated_2, theta_grader_2, G_matrix_2 = varimax_rotation(lambda_rotated)\n",
    "\n",
    "print(theta_grader)\n",
    "print(G_matrix)\n",
    "print(lambda_rotated)\n",
    "\n",
    "print(lambda_rotated_2, theta_grader_2, G_matrix_2)\n",
    "\n"
   ]
  },
  {
   "cell_type": "code",
   "execution_count": 7,
   "metadata": {},
   "outputs": [
    {
     "name": "stdout",
     "output_type": "stream",
     "text": [
      "9889.974193429343\n"
     ]
    },
    {
     "data": {
      "image/png": "[encoded data removed]",
      "text/plain": [
       "<Figure size 640x480 with 1 Axes>"
      ]
     },
     "metadata": {},
     "output_type": "display_data"
    }
   ],
   "source": [
    "import matplotlib.pyplot as plt\n",
    "\n",
    "def test_theta_radians(lambda_, theta_degrees):\n",
    "\n",
    "    h = np.sqrt((lambda_ ** 2).sum(axis=1))\n",
    "    #assert for that no entrace should be 0\n",
    "\n",
    "    theta_rad = np.deg2rad(theta_degrees)\n",
    "\n",
    "    G = np.array([[np.cos(theta_rad), np.sin(theta_rad)],\n",
    "              [-np.sin(theta_rad), np.cos(theta_rad)]])\n",
    "\n",
    "\n",
    "\n",
    "    rotated = lambda_ @ G\n",
    "\n",
    "    d = rotated / h[:, np.newaxis]\n",
    "\n",
    "    p = lambda_.shape[0]\n",
    "    d_bar = np.sum(d ** 2, axis=0) / p\n",
    "\n",
    "    #second equation \n",
    "    phi = np.sum(d ** 4) - p * np.sum(d_bar ** 2)\n",
    "\n",
    "    return phi\n",
    "    \n",
    "theta = np.linspace(0, 360, 1000)\n",
    "\n",
    "phi = [test_theta_radians(lambda_original, cur_theta) for cur_theta in theta] \n",
    "\n",
    "print(np.degrees(theta[np.argmin(phi)]))\n",
    "\n",
    "plt.plot(np.degrees(theta), phi)\n",
    "\n",
    "plt.grid()\n",
    "plt.show()\n",
    "\n"
   ]
  },
  {
   "cell_type": "code",
   "execution_count": 9,
   "metadata": {},
   "outputs": [
    {
     "data": {
      "text/plain": [
       "[<matplotlib.lines.Line2D at 0x207dc60b280>]"
      ]
     },
     "execution_count": 9,
     "metadata": {},
     "output_type": "execute_result"
    },
    {
     "data": {
      "image/png": "[encoded data removed]",
      "text/plain": [
       "<Figure size 640x480 with 1 Axes>"
      ]
     },
     "metadata": {},
     "output_type": "display_data"
    }
   ],
   "source": [
    "degrees = np.linspace(30, 45, 300)\n",
    "\n",
    "phi_calc = [test_theta_radians(lambda_original, theta) for theta in degrees]\n",
    "\n",
    "plt.plot(degrees, phi_calc)"
   ]
  },
  {
   "cell_type": "code",
   "execution_count": 10,
   "metadata": {},
   "outputs": [
    {
     "data": {
      "text/plain": [
       "array([[-0.31497345, -0.3996211 , -0.76895652, -0.76177302, -0.71685585],\n",
       "       [-0.65536412, -0.65337016, -0.46258134, -0.268443  , -0.24043076]])"
      ]
     },
     "execution_count": 10,
     "metadata": {},
     "output_type": "execute_result"
    }
   ],
   "source": [
    "from sklearn.decomposition import PCA, FactorAnalysis\n",
    "from sklearn.preprocessing import StandardScaler\n",
    "\n",
    "X = StandardScaler().fit_transform(open_closed_data())\n",
    "\n",
    "fa = FactorAnalysis(rotation=\"varimax\").set_params(n_components = 2)\n",
    "\n",
    "fa_fitted = fa.fit(X)\n",
    "\n",
    "fa_fitted.components_"
   ]
  },
  {
   "cell_type": "code",
   "execution_count": 11,
   "metadata": {},
   "outputs": [],
   "source": [
    "lambda_ = lambda_original\n",
    "\n",
    "h= np.sqrt((lambda_ ** 2).sum(axis=1))\n",
    "#assert for that no entrace should be 0\n",
    "d = lambda_ / h[:, np.newaxis]\n",
    "\n",
    "# theta_grader = np.degrees(theta) \n",
    "\n",
    "G = np.array([[np.cos(theta[0]), np.sin(theta[0])],\n",
    "            [-np.sin(theta[0]), np.cos(theta[0])]])\n",
    "\n",
    "\n",
    "rotated = d @ G\n",
    "\n",
    "d_squared = rotated ** 2\n",
    "d_bar = np.mean(d_squared, axis=0)\n",
    "\n",
    "#second equation \n",
    "phi = np.sum(d_squared ** 2) - 2 * np.sum(d_bar ** 2)"
   ]
  },
  {
   "cell_type": "code",
   "execution_count": 12,
   "metadata": {},
   "outputs": [
    {
     "data": {
      "text/plain": [
       "array([[0.74025467, 0.25974533],\n",
       "       [0.83177966, 0.16822034],\n",
       "       [0.99691625, 0.00308375],\n",
       "       [0.93757976, 0.06242024],\n",
       "       [0.92982259, 0.07017741]])"
      ]
     },
     "execution_count": 12,
     "metadata": {},
     "output_type": "execute_result"
    }
   ],
   "source": [
    "d_squared"
   ]
  },
  {
   "cell_type": "code",
   "execution_count": 13,
   "metadata": {},
   "outputs": [
    {
     "data": {
      "text/plain": [
       "array([[ 0.86038054,  0.50965217],\n",
       "       [ 0.91201955,  0.41014672],\n",
       "       [ 0.99845693, -0.05553153],\n",
       "       [ 0.96828702, -0.24984043],\n",
       "       [ 0.96427309, -0.26491019]])"
      ]
     },
     "execution_count": 13,
     "metadata": {},
     "output_type": "execute_result"
    }
   ],
   "source": [
    "rotated"
   ]
  },
  {
   "cell_type": "code",
   "execution_count": null,
   "metadata": {},
   "outputs": [],
   "source": []
  }
 ],
 "metadata": {
  "kernelspec": {
   "display_name": "Python 3",
   "language": "python",
   "name": "python3"
  },
  "language_info": {
   "codemirror_mode": {
    "name": "ipython",
    "version": 3
   },
   "file_extension": ".py",
   "mimetype": "text/x-python",
   "name": "python",
   "nbconvert_exporter": "python",
   "pygments_lexer": "ipython3",
   "version": "3.10.11"
  }
 },
 "nbformat": 4,
 "nbformat_minor": 2
}
