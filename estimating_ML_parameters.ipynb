{
 "cells": [
  {
   "cell_type": "code",
   "execution_count": 40,
   "metadata": {},
   "outputs": [],
   "source": [
    "import numpy as np\n",
    "from scipy.optimize import minimize"
   ]
  },
  {
   "cell_type": "code",
   "execution_count": 14,
   "metadata": {},
   "outputs": [],
   "source": [
    "def sim_factor_model(loadings, specific_variance, mu, nsim=1, verbose=True):\n",
    "    \"\"\"\n",
    "    Parameters\n",
    "    ---\n",
    "        loadings:           (p, k) matrix\n",
    "        specific_variance:  (p, p) diagonal matrix, with specific variances on diagonals\n",
    "        mu:                 (p, 1) vector of means\n",
    "        nsim:               How many observations should be simulated\n",
    "\n",
    "    Returns\n",
    "    ---\n",
    "        (n, p) matrix of observations from the specified factor model\n",
    "\n",
    "    \"\"\"\n",
    "    k = loadings.shape[1]\n",
    "    p = specific_variance.shape[0]\n",
    "    if verbose:\n",
    "        print(f\"{k=} {p=}\")\n",
    "\n",
    "    X = []\n",
    "    for _ in range(nsim):\n",
    "        factor_vector = np.random.multivariate_normal(np.zeros(k), np.eye(k))\n",
    "        u = np.random.multivariate_normal(np.zeros(p), np.diag(specific_variance))\n",
    "\n",
    "        X.append(loadings @ factor_vector + u + mu)\n",
    "\n",
    "    return np.array(X)"
   ]
  },
  {
   "cell_type": "markdown",
   "metadata": {},
   "source": [
    "Goal is to minimize:\n",
    "$$\n",
    "tr((\\hat{\\Lambda}\\hat{\\Lambda}' + \\Psi)^{-1} S) - log(|(\\hat{\\Lambda}\\hat{\\Lambda}' + \\Psi)^{-1} S|) \\quad \\text{w.r.t. $\\Psi$}\n",
    "$$\n"
   ]
  },
  {
   "cell_type": "markdown",
   "metadata": {},
   "source": [
    "Step by step:\n",
    "1. Calculate $S^* = \\Psi^{-1/2} S \\Psi^{-1/2}$, $S^* = \\Gamma \\Theta \\Gamma'$\n",
    "2. Get eigenvectors $\\gamma_{(i)}$ and values, $\\theta_i$\n",
    "3. Now $\\Lambda^*$ has columns $c_i \\lambda_{(i)}, \\quad c_i = \\sqrt{\\max(\\theta_i - 1, 0)}$\n",
    "4. $\\hat\\Lambda = \\Psi^{1/2} \\Lambda^*$\n",
    "5. Calculate the object function $\\text{tr}((\\hat\\Lambda \\hat\\Lambda' + \\Psi)^{-1} S) - log(|(\\hat\\Lambda \\hat\\Lambda' + \\Psi)^{-1}S|)$"
   ]
  },
  {
   "cell_type": "code",
   "execution_count": 82,
   "metadata": {},
   "outputs": [
    {
     "name": "stdout",
     "output_type": "stream",
     "text": [
      "k=1 p=5\n"
     ]
    },
    {
     "data": {
      "text/plain": [
       "array([[ 8.94179311, 15.73306396, 29.84334347, 39.29370075, 48.24471971],\n",
       "       [10.06426598, 21.7329725 , 32.79159805, 39.97726036, 51.49408432],\n",
       "       [10.73336775, 19.54426817, 34.01919317, 41.64142892, 52.02406499],\n",
       "       ...,\n",
       "       [11.18569532, 21.62753465, 30.84192875, 42.309292  , 51.37909262],\n",
       "       [ 8.55844209, 19.37005451, 29.09523596, 38.24747044, 49.38466488],\n",
       "       [ 9.7489491 , 19.34510781, 23.36799554, 41.67228371, 51.55115352]])"
      ]
     },
     "execution_count": 82,
     "metadata": {},
     "output_type": "execute_result"
    }
   ],
   "source": [
    "# Generate synthetic data\n",
    "loadings = np.array([[2, 2, 2, 2, 2]]).T\n",
    "specific_variance = np.array([2, 2, 10, 1, 1])\n",
    "mu = np.array([10, 20, 30, 40, 50])\n",
    "\n",
    "X = sim_factor_model(loadings, specific_variance, mu, nsim=10**4)\n",
    "X"
   ]
  },
  {
   "cell_type": "markdown",
   "metadata": {},
   "source": [
    "1. Calculate $S^*$"
   ]
  },
  {
   "cell_type": "code",
   "execution_count": 83,
   "metadata": {},
   "outputs": [],
   "source": [
    "S = np.cov(X.T)\n",
    "Psi = np.diag(specific_variance)\n",
    "Psi_sq_inv = np.linalg.inv(Psi ** 0.5)\n",
    "S_star = Psi_sq_inv @ S @ Psi_sq_inv"
   ]
  },
  {
   "cell_type": "markdown",
   "metadata": {},
   "source": [
    "2. Get eigenvectors and eigenvalues"
   ]
  },
  {
   "cell_type": "code",
   "execution_count": 84,
   "metadata": {},
   "outputs": [],
   "source": [
    "eigval, eigvec = np.linalg.eig(S_star)"
   ]
  },
  {
   "cell_type": "markdown",
   "metadata": {},
   "source": [
    "3. Construct $\\Lambda^*$.\n",
    "\n",
    "Here we must choose k. Lets choose k = 1, like the underlying model that generated the data. (the `loadings` used to simulate is (5, 1) = (p, k))"
   ]
  },
  {
   "cell_type": "code",
   "execution_count": 85,
   "metadata": {},
   "outputs": [
    {
     "data": {
      "text/plain": [
       "array([-1.41420033, -1.41170534, -0.63232112, -1.98004082, -1.99641079])"
      ]
     },
     "execution_count": 85,
     "metadata": {},
     "output_type": "execute_result"
    }
   ],
   "source": [
    "lambda_star = max(eigval[0] - 1, 0) ** 0.5 * eigvec[:,0]\n",
    "lambda_star"
   ]
  },
  {
   "cell_type": "markdown",
   "metadata": {},
   "source": [
    "4. Contstruct $\\hat\\Lambda = \\Psi^{1/2} \\Lambda^*$"
   ]
  },
  {
   "cell_type": "code",
   "execution_count": 86,
   "metadata": {},
   "outputs": [
    {
     "data": {
      "text/plain": [
       "array([-1.99998128, -1.99645284, -1.99957496, -1.98004082, -1.99641079])"
      ]
     },
     "execution_count": 86,
     "metadata": {},
     "output_type": "execute_result"
    }
   ],
   "source": [
    "lambda_hat = Psi ** 0.5 @ lambda_star\n",
    "lambda_hat"
   ]
  },
  {
   "cell_type": "markdown",
   "metadata": {},
   "source": [
    "5. Calculate $\\text{tr}((\\hat\\Lambda \\hat\\Lambda' + \\Psi)^{-1} S) - log(|(\\hat\\Lambda \\hat\\Lambda' + \\Psi)^{-1}S|)$"
   ]
  },
  {
   "cell_type": "code",
   "execution_count": 87,
   "metadata": {},
   "outputs": [
    {
     "data": {
      "text/plain": [
       "5.7629985890706275"
      ]
     },
     "execution_count": 87,
     "metadata": {},
     "output_type": "execute_result"
    }
   ],
   "source": [
    "internal = np.linalg.inv(lambda_hat @ lambda_hat + Psi) @ S\n",
    "result = np.trace(internal) - np.log(np.linalg.det(internal))\n",
    "result"
   ]
  },
  {
   "cell_type": "markdown",
   "metadata": {},
   "source": [
    "Having done this, lets construct a function that takes an arbitrary (D, 1) array of specific variances and calculates the objective function"
   ]
  },
  {
   "cell_type": "code",
   "execution_count": 96,
   "metadata": {},
   "outputs": [],
   "source": [
    "def calculate_objective(specific_variance, X_data):\n",
    "    # Step 1\n",
    "    S = np.cov(X_data.T)\n",
    "    Psi = np.diag(specific_variance)\n",
    "    Psi_sq_inv = np.linalg.inv(Psi ** 0.5)\n",
    "    S_star = Psi_sq_inv @ S @ Psi_sq_inv\n",
    "\n",
    "    # Step 2\n",
    "    eigval, eigvec = np.linalg.eig(S_star)\n",
    "\n",
    "    # Step 3\n",
    "    lambda_star = max(eigval[0] - 1, 0) ** 0.5 * eigvec[:,0]\n",
    "\n",
    "    # Step 4\n",
    "    lambda_hat = Psi ** 0.5 @ lambda_star\n",
    "\n",
    "    # Step 5\n",
    "    internal = np.linalg.inv(lambda_hat @ lambda_hat.T + Psi) @ S\n",
    "    result = np.trace(internal) - np.log(np.linalg.det(internal))\n",
    "\n",
    "    return result"
   ]
  },
  {
   "cell_type": "code",
   "execution_count": 89,
   "metadata": {},
   "outputs": [
    {
     "data": {
      "text/plain": [
       "5.7629985890706275"
      ]
     },
     "execution_count": 89,
     "metadata": {},
     "output_type": "execute_result"
    }
   ],
   "source": [
    "specific_variance = np.array([2, 2, 10, 1, 1])\n",
    "calculate_objective(specific_variance, X)"
   ]
  },
  {
   "cell_type": "markdown",
   "metadata": {},
   "source": [
    "This matches our manual step by step!"
   ]
  },
  {
   "cell_type": "markdown",
   "metadata": {},
   "source": [
    "Now lets minimize the objective function. Note that the minimization algorithm works best with variables in $\\R$, however $\\psi_{ii} \\geq 0$. We circumvent this by optimizing with $\\alpha_i \\in \\R \\rightarrow \\psi_{ii} = \\exp(\\alpha_i) \\in [0, \\infty [$"
   ]
  },
  {
   "cell_type": "code",
   "execution_count": null,
   "metadata": {},
   "outputs": [
    {
     "data": {
      "text/plain": [
       "  message: Optimization terminated successfully.\n",
       "  success: True\n",
       "   status: 0\n",
       "      fun: 5.762284299942876\n",
       "        x: [ 6.930e-01  7.248e-01  2.329e+00 -1.370e-02  1.093e-02]\n",
       "      nit: 13\n",
       "      jac: [ 2.146e-06 -3.517e-06 -1.132e-06 -1.073e-06 -6.557e-07]\n",
       " hess_inv: [[ 1.235e+00  1.387e-01 ... -1.273e-01 -1.046e-01]\n",
       "            [ 1.387e-01  1.128e+00 ... -2.771e-01 -1.134e-01]\n",
       "            ...\n",
       "            [-1.273e-01 -2.771e-01 ...  2.382e+00 -6.615e-01]\n",
       "            [-1.046e-01 -1.134e-01 ... -6.615e-01  2.419e+00]]\n",
       "     nfev: 102\n",
       "     njev: 17"
      ]
     },
     "execution_count": 90,
     "metadata": {},
     "output_type": "execute_result"
    }
   ],
   "source": [
    "x_0_guess = np.array([2, 2, 10, 1, 1])\n",
    "problem = minimize(fun=lambda x: calculate_objective(np.exp(x), X_data=X),\n",
    "                   x0=x_0_guess)"
   ]
  },
  {
   "cell_type": "code",
   "execution_count": 118,
   "metadata": {},
   "outputs": [
    {
     "data": {
      "text/plain": [
       "array([1.96246262, 2.02910606, 1.94914811, 0.9880357 , 1.01230155])"
      ]
     },
     "execution_count": 118,
     "metadata": {},
     "output_type": "execute_result"
    }
   ],
   "source": [
    "psi_hat = np.exp(problem.x)\n",
    "psi_hat"
   ]
  },
  {
   "cell_type": "markdown",
   "metadata": {},
   "source": [
    "A simple change in step 3 lets us add the option to specify k number of factors."
   ]
  },
  {
   "cell_type": "code",
   "execution_count": 116,
   "metadata": {},
   "outputs": [],
   "source": [
    "def calculate_objective(specific_variance, X_data, k):\n",
    "    # Step 1\n",
    "    S = np.cov(X_data.T)\n",
    "    Psi = np.diag(specific_variance)\n",
    "    Psi_sq_inv = np.linalg.inv(Psi ** 0.5)\n",
    "    S_star = Psi_sq_inv @ S @ Psi_sq_inv\n",
    "\n",
    "    # Step 2\n",
    "    eigval, eigvec = np.linalg.eig(S_star)\n",
    "\n",
    "    # Step 3\n",
    "    lambda_star = []\n",
    "    for i in range(k):\n",
    "        lambda_star.append(max(eigval[i] - 1, 0) ** 0.5 * eigvec[:,i])\n",
    "    lambda_star = np.array(lambda_star).T\n",
    "\n",
    "    # Step 4\n",
    "    lambda_hat = Psi ** 0.5 @ lambda_star\n",
    "\n",
    "    # Step 5\n",
    "    internal = np.linalg.inv(lambda_hat @ lambda_hat.T + Psi) @ S\n",
    "    result = np.trace(internal) - np.log(np.linalg.det(internal))\n",
    "\n",
    "    return result"
   ]
  },
  {
   "cell_type": "markdown",
   "metadata": {},
   "source": [
    "Let's generate some data that actually has k = 2 factors."
   ]
  },
  {
   "cell_type": "code",
   "execution_count": 123,
   "metadata": {},
   "outputs": [
    {
     "name": "stdout",
     "output_type": "stream",
     "text": [
      "k=2 p=5\n"
     ]
    }
   ],
   "source": [
    "loadings = np.array([[2, 2, 2, 2, 2],\n",
    "                     [1, 1, 0, -1, -1]]).T\n",
    "specific_variance = np.array([2, 2, 10, 1, 1])\n",
    "mu = np.array([10, 20, 30, 40, 50])\n",
    "\n",
    "X = sim_factor_model(loadings, specific_variance, mu, nsim=10**5)"
   ]
  },
  {
   "cell_type": "code",
   "execution_count": 124,
   "metadata": {},
   "outputs": [
    {
     "data": {
      "text/plain": [
       "  message: Optimization terminated successfully.\n",
       "  success: True\n",
       "   status: 0\n",
       "      fun: 5.000000019451339\n",
       "        x: [ 7.030e-01  6.721e-01  2.301e+00 -9.198e-03  1.159e-02]\n",
       "      nit: 25\n",
       "      jac: [-1.192e-07 -5.960e-08  7.749e-07  3.576e-06  5.007e-06]\n",
       " hess_inv: [[ 1.720e+01 -1.539e+01 ...  2.299e-01 -2.036e-02]\n",
       "            [-1.539e+01  1.737e+01 ... -4.822e-01  2.490e-01]\n",
       "            ...\n",
       "            [ 2.299e-01 -4.822e-01 ...  3.946e+01 -3.476e+01]\n",
       "            [-2.036e-02  2.490e-01 ... -3.476e+01  3.356e+01]]\n",
       "     nfev: 174\n",
       "     njev: 29"
      ]
     },
     "execution_count": 124,
     "metadata": {},
     "output_type": "execute_result"
    }
   ],
   "source": [
    "x_0_guess = np.array([2, 2, 10, 1, 1])\n",
    "problem = minimize(fun=lambda x: calculate_objective(np.exp(x), X_data=X, k=2),\n",
    "         x0=x_0_guess)\n",
    "problem"
   ]
  },
  {
   "cell_type": "markdown",
   "metadata": {},
   "source": [
    "Then estimates are:"
   ]
  },
  {
   "cell_type": "code",
   "execution_count": 138,
   "metadata": {},
   "outputs": [
    {
     "name": "stdout",
     "output_type": "stream",
     "text": [
      "Estimated psi: \n",
      "[[2.01971318 0.         0.         0.         0.        ]\n",
      " [0.         1.95827486 0.         0.         0.        ]\n",
      " [0.         0.         9.97996892 0.         0.        ]\n",
      " [0.         0.         0.         0.99084424 0.        ]\n",
      " [0.         0.         0.         0.         1.01165497]]\n",
      "\n",
      "Estimated lambda:\n",
      "[[ 1.75415117  1.36202321]\n",
      " [ 1.76979477  1.40110577]\n",
      " [ 1.95270123  0.40536224]\n",
      " [ 2.15384765 -0.59007522]\n",
      " [ 2.15466319 -0.58493958]]\n"
     ]
    }
   ],
   "source": [
    "psi_hat = np.diag(np.exp(problem.x))\n",
    "\n",
    "k = 2\n",
    "S = np.cov(X.T)\n",
    "Psi_sq_inv = np.linalg.inv(psi_hat ** 0.5)\n",
    "S_star = Psi_sq_inv @ S @ Psi_sq_inv\n",
    "eigval, eigvec = np.linalg.eig(S_star)\n",
    "lambda_star = []\n",
    "for i in range(2):\n",
    "    lambda_star.append(max(eigval[i] - 1, 0) ** 0.5 * eigvec[:,i])\n",
    "lambda_star = np.array(lambda_star).T\n",
    "lambda_hat = psi_hat ** 0.5 @ lambda_star\n",
    "\n",
    "print(\"Estimated psi: \", psi_hat, \n",
    "      \"\",\n",
    "      \"Estimated lambda:\", lambda_hat,\n",
    "      sep=\"\\n\")"
   ]
  }
 ],
 "metadata": {
  "kernelspec": {
   "display_name": "Python 3",
   "language": "python",
   "name": "python3"
  },
  "language_info": {
   "codemirror_mode": {
    "name": "ipython",
    "version": 3
   },
   "file_extension": ".py",
   "mimetype": "text/x-python",
   "name": "python",
   "nbconvert_exporter": "python",
   "pygments_lexer": "ipython3",
   "version": "3.11.1"
  }
 },
 "nbformat": 4,
 "nbformat_minor": 2
}
