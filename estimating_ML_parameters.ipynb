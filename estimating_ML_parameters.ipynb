{
 "cells": [
  {
   "cell_type": "code",
   "execution_count": 1,
   "metadata": {},
   "outputs": [],
   "source": [
    "import numpy as np\n",
    "from scipy.optimize import minimize"
   ]
  },
  {
   "cell_type": "code",
   "execution_count": 2,
   "metadata": {},
   "outputs": [],
   "source": [
    "def sim_factor_model(loadings, specific_variance, mu, nsim=1, verbose=True):\n",
    "    \"\"\"\n",
    "    Parameters\n",
    "    ---\n",
    "        loadings:           (p, k) matrix\n",
    "        specific_variance:  (p, p) diagonal matrix, with specific variances on diagonals\n",
    "        mu:                 (p, 1) vector of means\n",
    "        nsim:               How many observations should be simulated\n",
    "\n",
    "    Returns\n",
    "    ---\n",
    "        (n, p) matrix of observations from the specified factor model\n",
    "\n",
    "    \"\"\"\n",
    "    k = loadings.shape[1]\n",
    "    p = specific_variance.shape[0]\n",
    "    if verbose:\n",
    "        print(f\"{k=} {p=}\")\n",
    "\n",
    "    X = []\n",
    "    for _ in range(nsim):\n",
    "        factor_vector = np.random.multivariate_normal(np.zeros(k), np.eye(k))\n",
    "        u = np.random.multivariate_normal(np.zeros(p), np.diag(specific_variance))\n",
    "\n",
    "        X.append(loadings @ factor_vector + u + mu)\n",
    "\n",
    "    return np.array(X)"
   ]
  },
  {
   "cell_type": "markdown",
   "metadata": {},
   "source": [
    "Goal is to minimize:\n",
    "$$\n",
    "tr((\\hat{\\Lambda}\\hat{\\Lambda}' + \\Psi)^{-1} S) - log(|(\\hat{\\Lambda}\\hat{\\Lambda}' + \\Psi)^{-1} S|) \\quad \\text{w.r.t. $\\Psi$}\n",
    "$$\n"
   ]
  },
  {
   "cell_type": "markdown",
   "metadata": {},
   "source": [
    "Step by step:\n",
    "1. Calculate $S^* = \\Psi^{-1/2} S \\Psi^{-1/2}$, $S^* = \\Gamma \\Theta \\Gamma'$\n",
    "2. Get eigenvectors $\\gamma_{(i)}$ and values, $\\theta_i$\n",
    "3. Now $\\Lambda^*$ has columns $c_i \\lambda_{(i)}, \\quad c_i = \\sqrt{\\max(\\theta_i - 1, 0)}$\n",
    "4. $\\hat\\Lambda = \\Psi^{1/2} \\Lambda^*$\n",
    "5. Calculate the object function $\\text{tr}((\\hat\\Lambda \\hat\\Lambda' + \\Psi)^{-1} S) - log(|(\\hat\\Lambda \\hat\\Lambda' + \\Psi)^{-1}S|)$"
   ]
  },
  {
   "cell_type": "code",
   "execution_count": 3,
   "metadata": {},
   "outputs": [
    {
     "name": "stdout",
     "output_type": "stream",
     "text": [
      "k=1 p=5\n"
     ]
    },
    {
     "data": {
      "text/plain": [
       "array([[ 6.65089651, 17.78540527, 26.70362514, 36.94176474, 46.97685246],\n",
       "       [11.31736753, 19.20930876, 31.98769527, 41.08432567, 52.21852275],\n",
       "       [10.86820111, 18.38365978, 34.28626804, 39.18370095, 50.83430591],\n",
       "       ...,\n",
       "       [ 8.66754372, 23.22831836, 36.07534928, 42.17754191, 50.79561654],\n",
       "       [ 9.55792508, 20.52399331, 29.04923932, 39.31125254, 50.7793516 ],\n",
       "       [ 8.88154953, 18.58262242, 31.51107332, 41.06549962, 49.95514229]])"
      ]
     },
     "execution_count": 3,
     "metadata": {},
     "output_type": "execute_result"
    }
   ],
   "source": [
    "# Generate synthetic data\n",
    "loadings = np.array([[2, 2, 2, 2, 2]]).T\n",
    "specific_variance = np.array([2, 2, 10, 1, 1])\n",
    "mu = np.array([10, 20, 30, 40, 50])\n",
    "\n",
    "X = sim_factor_model(loadings, specific_variance, mu, nsim=10**4)\n",
    "X"
   ]
  },
  {
   "cell_type": "markdown",
   "metadata": {},
   "source": [
    "1. Calculate $S^*$"
   ]
  },
  {
   "cell_type": "code",
   "execution_count": 4,
   "metadata": {},
   "outputs": [],
   "source": [
    "S = np.cov(X.T)\n",
    "Psi = np.diag(specific_variance)\n",
    "Psi_sq_inv = np.linalg.inv(Psi ** 0.5)\n",
    "S_star = Psi_sq_inv @ S @ Psi_sq_inv"
   ]
  },
  {
   "cell_type": "markdown",
   "metadata": {},
   "source": [
    "2. Get eigenvectors and eigenvalues"
   ]
  },
  {
   "cell_type": "code",
   "execution_count": 5,
   "metadata": {},
   "outputs": [],
   "source": [
    "eigval, eigvec = np.linalg.eig(S_star)"
   ]
  },
  {
   "cell_type": "markdown",
   "metadata": {},
   "source": [
    "3. Construct $\\Lambda^*$.\n",
    "\n",
    "Here we must choose k. Lets choose k = 1, like the underlying model that generated the data. (the `loadings` used to simulate is (5, 1) = (p, k))"
   ]
  },
  {
   "cell_type": "code",
   "execution_count": 6,
   "metadata": {},
   "outputs": [
    {
     "data": {
      "text/plain": [
       "array([1.40958185, 1.40795684, 0.62943818, 2.0160881 , 1.99247972])"
      ]
     },
     "execution_count": 6,
     "metadata": {},
     "output_type": "execute_result"
    }
   ],
   "source": [
    "lambda_star = max(eigval[0] - 1, 0) ** 0.5 * eigvec[:,0]\n",
    "lambda_star"
   ]
  },
  {
   "cell_type": "markdown",
   "metadata": {},
   "source": [
    "4. Contstruct $\\hat\\Lambda = \\Psi^{1/2} \\Lambda^*$"
   ]
  },
  {
   "cell_type": "code",
   "execution_count": 7,
   "metadata": {},
   "outputs": [
    {
     "data": {
      "text/plain": [
       "array([1.99344976, 1.99115166, 1.99045829, 2.0160881 , 1.99247972])"
      ]
     },
     "execution_count": 7,
     "metadata": {},
     "output_type": "execute_result"
    }
   ],
   "source": [
    "lambda_hat = Psi ** 0.5 @ lambda_star\n",
    "lambda_hat"
   ]
  },
  {
   "cell_type": "markdown",
   "metadata": {},
   "source": [
    "5. Calculate $\\text{tr}((\\hat\\Lambda \\hat\\Lambda' + \\Psi)^{-1} S) - log(|(\\hat\\Lambda \\hat\\Lambda' + \\Psi)^{-1}S|)$"
   ]
  },
  {
   "cell_type": "code",
   "execution_count": 8,
   "metadata": {},
   "outputs": [
    {
     "data": {
      "text/plain": [
       "5.760287625659386"
      ]
     },
     "execution_count": 8,
     "metadata": {},
     "output_type": "execute_result"
    }
   ],
   "source": [
    "internal = np.linalg.inv(lambda_hat @ lambda_hat + Psi) @ S\n",
    "result = np.trace(internal) - np.log(np.linalg.det(internal))\n",
    "result"
   ]
  },
  {
   "cell_type": "markdown",
   "metadata": {},
   "source": [
    "Having done this, lets construct a function that takes an arbitrary (D, 1) array of specific variances and calculates the objective function"
   ]
  },
  {
   "cell_type": "code",
   "execution_count": 9,
   "metadata": {},
   "outputs": [],
   "source": [
    "def calculate_objective(specific_variance, X_data):\n",
    "    # Step 1\n",
    "    S = np.cov(X_data.T)\n",
    "    Psi = np.diag(specific_variance)\n",
    "    Psi_sq_inv = np.linalg.inv(Psi ** 0.5)\n",
    "    S_star = Psi_sq_inv @ S @ Psi_sq_inv\n",
    "\n",
    "    # Step 2\n",
    "    eigval, eigvec = np.linalg.eig(S_star)\n",
    "\n",
    "    # Step 3\n",
    "    lambda_star = max(eigval[0] - 1, 0) ** 0.5 * eigvec[:,0]\n",
    "\n",
    "    # Step 4\n",
    "    lambda_hat = Psi ** 0.5 @ lambda_star\n",
    "\n",
    "    # Step 5\n",
    "    internal = np.linalg.inv(lambda_hat @ lambda_hat.T + Psi) @ S\n",
    "    result = np.trace(internal) - np.log(np.linalg.det(internal))\n",
    "\n",
    "    return result"
   ]
  },
  {
   "cell_type": "code",
   "execution_count": 10,
   "metadata": {},
   "outputs": [
    {
     "data": {
      "text/plain": [
       "5.760287625659386"
      ]
     },
     "execution_count": 10,
     "metadata": {},
     "output_type": "execute_result"
    }
   ],
   "source": [
    "specific_variance = np.array([2, 2, 10, 1, 1])\n",
    "calculate_objective(specific_variance, X)"
   ]
  },
  {
   "cell_type": "markdown",
   "metadata": {},
   "source": [
    "This matches our manual step by step!"
   ]
  },
  {
   "cell_type": "markdown",
   "metadata": {},
   "source": [
    "Now lets minimize the objective function. Note that the minimization algorithm works best with variables in $\\R$, however $\\psi_{ii} \\geq 0$. We circumvent this by optimizing with $\\alpha_i \\in \\R \\rightarrow \\psi_{ii} = \\exp(\\alpha_i) \\in [0, \\infty [$"
   ]
  },
  {
   "cell_type": "code",
   "execution_count": 11,
   "metadata": {},
   "outputs": [],
   "source": [
    "x_0_guess = np.array([2, 2, 10, 1, 1])\n",
    "problem = minimize(fun=lambda x: calculate_objective(np.exp(x), X_data=X),\n",
    "                   x0=x_0_guess)"
   ]
  },
  {
   "cell_type": "code",
   "execution_count": 12,
   "metadata": {},
   "outputs": [
    {
     "data": {
      "text/plain": [
       "array([ 1.98257924,  2.00912895, 10.21223486,  1.01941838,  0.96365588])"
      ]
     },
     "execution_count": 12,
     "metadata": {},
     "output_type": "execute_result"
    }
   ],
   "source": [
    "psi_hat = np.exp(problem.x)\n",
    "psi_hat"
   ]
  },
  {
   "cell_type": "markdown",
   "metadata": {},
   "source": [
    "A simple change in step 3 lets us add the option to specify k number of factors."
   ]
  },
  {
   "cell_type": "code",
   "execution_count": 13,
   "metadata": {},
   "outputs": [],
   "source": [
    "def calculate_objective(specific_variance, X_data, k):\n",
    "    # Step 1\n",
    "    S = np.cov(X_data.T)\n",
    "    Psi = np.diag(specific_variance)\n",
    "    Psi_sq_inv = np.linalg.inv(Psi ** 0.5)\n",
    "    S_star = Psi_sq_inv @ S @ Psi_sq_inv\n",
    "\n",
    "    # Step 2\n",
    "    eigval, eigvec = np.linalg.eig(S_star)\n",
    "\n",
    "    # Step 3\n",
    "    lambda_star = []\n",
    "    for i in range(k):\n",
    "        lambda_star.append(max(eigval[i] - 1, 0) ** 0.5 * eigvec[:,i])\n",
    "    lambda_star = np.array(lambda_star).T\n",
    "\n",
    "    # Step 4\n",
    "    lambda_hat = Psi ** 0.5 @ lambda_star\n",
    "\n",
    "    # Step 5\n",
    "    internal = np.linalg.inv(lambda_hat @ lambda_hat.T + Psi) @ S\n",
    "    result = np.trace(internal) - np.log(np.linalg.det(internal))\n",
    "\n",
    "    return result"
   ]
  },
  {
   "cell_type": "markdown",
   "metadata": {},
   "source": [
    "Let's generate some data that actually has k = 2 factors."
   ]
  },
  {
   "cell_type": "code",
   "execution_count": 14,
   "metadata": {},
   "outputs": [
    {
     "name": "stdout",
     "output_type": "stream",
     "text": [
      "k=2 p=5\n"
     ]
    }
   ],
   "source": [
    "loadings = np.array([[2, 2, 2, 2, 2],\n",
    "                     [1, 1, 0, -1, -1]]).T\n",
    "specific_variance = np.array([2, 2, 10, 1, 1])\n",
    "mu = np.array([10, 20, 30, 40, 50])\n",
    "\n",
    "X = sim_factor_model(loadings, specific_variance, mu, nsim=10**5)"
   ]
  },
  {
   "cell_type": "code",
   "execution_count": 16,
   "metadata": {},
   "outputs": [
    {
     "data": {
      "text/plain": [
       "  message: Desired error not necessarily achieved due to precision loss.\n",
       "  success: False\n",
       "   status: 2\n",
       "      fun: 5.4294456018892765\n",
       "        x: [ 1.563e+00  1.564e+00  1.571e-01 -8.485e-03  1.254e-02]\n",
       "      nit: 11\n",
       "      jac: [ 2.154e-03  2.145e-03 -7.815e-03 -9.997e-03 -1.012e-02]\n",
       " hess_inv: [[ 1.108e+00  1.082e-01 ... -2.969e-02 -8.903e-03]\n",
       "            [ 1.082e-01  1.108e+00 ... -2.855e-02 -8.086e-03]\n",
       "            ...\n",
       "            [-2.969e-02 -2.855e-02 ...  2.406e+00  1.069e+00]\n",
       "            [-8.903e-03 -8.086e-03 ...  1.069e+00  1.803e+00]]\n",
       "     nfev: 606\n",
       "     njev: 100"
      ]
     },
     "execution_count": 16,
     "metadata": {},
     "output_type": "execute_result"
    }
   ],
   "source": [
    "x_0_guess = np.array([0, 0, 0, 0, 0])\n",
    "problem = minimize(fun=lambda x: calculate_objective(np.exp(x), X_data=X, k=2),\n",
    "         x0=x_0_guess)\n",
    "problem"
   ]
  },
  {
   "cell_type": "markdown",
   "metadata": {},
   "source": [
    "Then estimates are:"
   ]
  },
  {
   "cell_type": "code",
   "execution_count": 138,
   "metadata": {},
   "outputs": [
    {
     "name": "stdout",
     "output_type": "stream",
     "text": [
      "Estimated psi: \n",
      "[[2.01971318 0.         0.         0.         0.        ]\n",
      " [0.         1.95827486 0.         0.         0.        ]\n",
      " [0.         0.         9.97996892 0.         0.        ]\n",
      " [0.         0.         0.         0.99084424 0.        ]\n",
      " [0.         0.         0.         0.         1.01165497]]\n",
      "\n",
      "Estimated lambda:\n",
      "[[ 1.75415117  1.36202321]\n",
      " [ 1.76979477  1.40110577]\n",
      " [ 1.95270123  0.40536224]\n",
      " [ 2.15384765 -0.59007522]\n",
      " [ 2.15466319 -0.58493958]]\n"
     ]
    }
   ],
   "source": [
    "psi_hat = np.diag(np.exp(problem.x))\n",
    "\n",
    "k = 2\n",
    "S = np.cov(X.T)\n",
    "Psi_sq_inv = np.linalg.inv(psi_hat ** 0.5)\n",
    "S_star = Psi_sq_inv @ S @ Psi_sq_inv\n",
    "eigval, eigvec = np.linalg.eig(S_star)\n",
    "lambda_star = []\n",
    "for i in range(2):\n",
    "    lambda_star.append(max(eigval[i] - 1, 0) ** 0.5 * eigvec[:,i])\n",
    "lambda_star = np.array(lambda_star).T\n",
    "lambda_hat = psi_hat ** 0.5 @ lambda_star\n",
    "\n",
    "print(\"Estimated psi: \", psi_hat, \n",
    "      \"\",\n",
    "      \"Estimated lambda:\", lambda_hat,\n",
    "      sep=\"\\n\")"
   ]
  }
 ],
 "metadata": {
  "kernelspec": {
   "display_name": "Python 3",
   "language": "python",
   "name": "python3"
  },
  "language_info": {
   "codemirror_mode": {
    "name": "ipython",
    "version": 3
   },
   "file_extension": ".py",
   "mimetype": "text/x-python",
   "name": "python",
   "nbconvert_exporter": "python",
   "pygments_lexer": "ipython3",
   "version": "3.10.11"
  }
 },
 "nbformat": 4,
 "nbformat_minor": 2
}
