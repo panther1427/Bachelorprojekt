{
 "cells": [
  {
   "cell_type": "markdown",
   "metadata": {},
   "source": [
    "\"One of the main advantages of the maximum likelihood technique is that\n",
    "it provides a test of the hypothesis $H_k$. that k common factors are\n",
    "sufficient to describe the data against the alternative that $\\Sigma$ has no\n",
    "constraints.\" (Section 9.5)"
   ]
  },
  {
   "cell_type": "markdown",
   "metadata": {},
   "source": [
    "$$\n",
    "-2 \\log \\lambda = n F(\\hat\\lambda, \\hat\\Psi) = tr((\\hat{\\Lambda}\\hat{\\Lambda}' + \\Psi)^{-1} S) - log(|(\\hat{\\Lambda}\\hat{\\Lambda}' + \\Psi)^{-1} S|) - p\n",
    "$$\n",
    "\n",
    "$-2 \\log \\lambda$ has an asymptotic $\\chi^2_s$ destribution under $H_k$. \n",
    "$$\n",
    "s = \\frac{1}{2}(p - k)^2 - \\frac{1}{2}(p + k)\n",
    "$$"
   ]
  },
  {
   "cell_type": "markdown",
   "metadata": {},
   "source": [
    "Approximation is improved if:\n",
    "$$\n",
    "n' = n - 1 - \\frac{1}{6}(2p + 5) - 2/3k\n",
    "$$"
   ]
  },
  {
   "cell_type": "markdown",
   "metadata": {},
   "source": [
    "$$\n",
    "U = n' F(\\hat\\lambda, \\hat\\Psi) \\sim \\chi^2_s\n",
    "$$"
   ]
  },
  {
   "cell_type": "markdown",
   "metadata": {},
   "source": [
    "---"
   ]
  },
  {
   "cell_type": "code",
   "execution_count": 6,
   "metadata": {},
   "outputs": [],
   "source": [
    "import numpy as np\n",
    "from utils import open_closed_data, calculate_objective, factor_model_solution"
   ]
  },
  {
   "cell_type": "code",
   "execution_count": 3,
   "metadata": {},
   "outputs": [
    {
     "data": {
      "text/plain": [
       "0.10319722696589828"
      ]
     },
     "execution_count": 3,
     "metadata": {},
     "output_type": "execute_result"
    }
   ],
   "source": [
    "X = open_closed_data()\n",
    "k = 1\n",
    "\n",
    "psi_hat, lambda_hat = factor_model_solution(X, k=k)\n",
    "objective = calculate_objective(psi_hat[np.diag_indices_from(psi_hat)], X, k=k)\n",
    "objective"
   ]
  },
  {
   "cell_type": "code",
   "execution_count": 4,
   "metadata": {},
   "outputs": [
    {
     "data": {
      "text/plain": [
       "83.83333333333333"
      ]
     },
     "execution_count": 4,
     "metadata": {},
     "output_type": "execute_result"
    }
   ],
   "source": [
    "n = X.shape[0]\n",
    "p = X.shape[1]\n",
    "\n",
    "n_mark = n - 1 - 1/6 * (2 * p + 5) - 2/3 * k\n",
    "n_mark"
   ]
  },
  {
   "cell_type": "code",
   "execution_count": 5,
   "metadata": {},
   "outputs": [
    {
     "data": {
      "text/plain": [
       "8.651367527307805"
      ]
     },
     "execution_count": 5,
     "metadata": {},
     "output_type": "execute_result"
    }
   ],
   "source": [
    "objective * n_mark"
   ]
  },
  {
   "cell_type": "markdown",
   "metadata": {},
   "source": [
    "$$\n",
    "U = 8.65 \\sim \\chi^2_5\n",
    "$$"
   ]
  }
 ],
 "metadata": {
  "kernelspec": {
   "display_name": "Python 3",
   "language": "python",
   "name": "python3"
  },
  "language_info": {
   "codemirror_mode": {
    "name": "ipython",
    "version": 3
   },
   "file_extension": ".py",
   "mimetype": "text/x-python",
   "name": "python",
   "nbconvert_exporter": "python",
   "pygments_lexer": "ipython3",
   "version": "3.11.1"
  }
 },
 "nbformat": 4,
 "nbformat_minor": 2
}
